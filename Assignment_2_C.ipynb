{
 "cells": [
  {
   "cell_type": "markdown",
   "id": "c20084a1",
   "metadata": {},
   "source": [
    "# ΕΠΕΞΕΡΓΑΣΙΑ ΦΥΣΙΚΗΣ ΓΛΩΣΣΑΣ - Εργασία 2\n",
    "## Γ. Text Classification with RNNs\n",
    "**Μάθημα:**  Επεξεργασία Φυσικής Γλώσσας \n",
    "\n",
    "**Συγγραφέας:** Ιωάννης Kουτσούκης \n",
    "\n",
    "**Εκδόσεις:** 2025-04-25 | v.0.0.1"
   ]
  },
  {
   "cell_type": "markdown",
   "id": "04559d2d",
   "metadata": {},
   "source": [
    "# 🧱 Προετοιμασία Περιβάλλοντος\n",
    "\n",
    "Το περιβάλλον υλοποιήθηκε σε **Mac με επεξεργαστή Apple Silicon (M1/M2/M3)**, με στόχο την αξιοποίηση των διαθέσιμων **υπολογιστικών πυρήνων GPU ή Neural Engine** μέσω του `torch.backends.mps`.\n",
    "\n",
    "Για λόγους συμβατότητας και αποφυγής σφαλμάτων, επιλέχθηκαν οι **συγκεκριμένες εκδόσεις** των βιβλιοθηκών `torch` και `torchtext`. Η χρήση παλαιότερων ή νεότερων εκδόσεων ενδέχεται να οδηγήσει σε runtime conflicts, ειδικά σε Apple-based συστήματα.\n"
   ]
  },
  {
   "cell_type": "code",
   "execution_count": 155,
   "id": "3d191c0b",
   "metadata": {},
   "outputs": [
    {
     "name": "stdout",
     "output_type": "stream",
     "text": [
      "Note: you may need to restart the kernel to use updated packages.\n"
     ]
    }
   ],
   "source": [
    "%pip install datasets numpy matplotlib --quiet"
   ]
  },
  {
   "cell_type": "code",
   "execution_count": null,
   "id": "c6f56703",
   "metadata": {},
   "outputs": [
    {
     "name": "stdout",
     "output_type": "stream",
     "text": [
      "Collecting numpy==1.24.4\n",
      "  Using cached numpy-1.24.4-cp311-cp311-macosx_11_0_arm64.whl.metadata (5.6 kB)\n",
      "Using cached numpy-1.24.4-cp311-cp311-macosx_11_0_arm64.whl (13.8 MB)\n",
      "Installing collected packages: numpy\n",
      "  Attempting uninstall: numpy\n",
      "    Found existing installation: numpy 1.24.4\n",
      "    Uninstalling numpy-1.24.4:\n",
      "      Successfully uninstalled numpy-1.24.4\n",
      "Successfully installed numpy-1.24.4\n",
      "Note: you may need to restart the kernel to use updated packages.\n"
     ]
    }
   ],
   "source": [
    "%pip install numpy==1.24.4 --force-reinstall --quiet\n"
   ]
  },
  {
   "cell_type": "code",
   "execution_count": 156,
   "id": "f51cd748",
   "metadata": {},
   "outputs": [
    {
     "name": "stdout",
     "output_type": "stream",
     "text": [
      "Note: you may need to restart the kernel to use updated packages.\n"
     ]
    }
   ],
   "source": [
    "%pip install torch==2.1.0 torchtext==0.16.0  --quiet # οι υπολοιπες εκδοσεις εβγαζαν σφαλματα ασυμβατοτητας"
   ]
  },
  {
   "cell_type": "code",
   "execution_count": 158,
   "id": "1fde8455",
   "metadata": {},
   "outputs": [
    {
     "name": "stdout",
     "output_type": "stream",
     "text": [
      "🔥 Χρησιμοποιείται συσκευή: Apple Silicon GPU (MPS)\n"
     ]
    }
   ],
   "source": [
    "import torch\n",
    "\n",
    "if torch.backends.mps.is_available():\n",
    "    device = torch.device(\"mps\")\n",
    "    print(\"🔥 Χρησιμοποιείται συσκευή: Apple Silicon GPU (MPS)\")\n",
    "elif torch.cuda.is_available():\n",
    "    device = torch.device(\"cuda\")\n",
    "    print(\"⚡ Χρησιμοποιείται συσκευή: NVIDIA CUDA\")\n",
    "else:\n",
    "    device = torch.device(\"cpu\")\n",
    "    print(\"💻 Χρησιμοποιείται συσκευή: CPU\")\n"
   ]
  },
  {
   "cell_type": "markdown",
   "id": "9703d48d",
   "metadata": {},
   "source": [
    "## 📚 Εισαγωγή Βιβλιοθηκών\n",
    "Οι κύριες βιβλιοθήκες που χρησιμοποιήθηκαν είναι:\n",
    "\n",
    "- torch, torchtext: για την κατασκευή και εκπαίδευση του νευρωνικού μοντέλου.\n",
    "- datasets: για εύκολη φόρτωση του IMDB dataset και άλλων πηγών.\n",
    "- numpy, matplotlib, collections, re: για υποστήριξη, οπτικοποίηση και προεπεξεργασία."
   ]
  },
  {
   "cell_type": "code",
   "execution_count": null,
   "id": "d03440c9",
   "metadata": {},
   "outputs": [],
   "source": [
    "import torch.nn as nn\n",
    "from torch.utils.data import DataLoader, Dataset\n",
    "\n",
    "from datasets import load_dataset\n",
    "import numpy as np\n",
    "from collections import Counter\n",
    "import re\n",
    "import random\n"
   ]
  },
  {
   "cell_type": "markdown",
   "id": "7afb85a5",
   "metadata": {},
   "source": [
    "## 📥 Φόρτωση Δεδομένων – AG News Dataset\n",
    "\n",
    "Το AG News dataset που χρησιμοποιήθηκε προέρχεται από την πηγή:\n",
    "[Kaggle - AG News Classification Dataset](https://www.kaggle.com/datasets/amananandrai/ag-news-classification-dataset)\n",
    "\n",
    "Αποτελείται από δύο αρχεία `.csv`:\n",
    "- `train.csv` με 120.000 δείγματα\n",
    "- `test.csv` με 7.600 δείγματα\n",
    "\n",
    "Κάθε εγγραφή περιλαμβάνει:\n",
    "- Κατηγορία (`Class Index`)\n",
    "- Τίτλο της είδησης (`Title`)\n",
    "- Σύντομη περιγραφή (`Description`)\n",
    "\n",
    "Οι τίτλοι και περιγραφές συγχωνεύονται σε ένα ενιαίο string ώστε να χρησιμοποιηθούν ως είσοδοι στο μοντέλο.\n"
   ]
  },
  {
   "cell_type": "code",
   "execution_count": 194,
   "id": "e9fccb52",
   "metadata": {},
   "outputs": [
    {
     "name": "stdout",
     "output_type": "stream",
     "text": [
      "Training samples: 120000\n",
      "Test samples: 7600\n"
     ]
    }
   ],
   "source": [
    "import pandas as pd\n",
    "\n",
    "# Φόρτωση των CSV αρχείων\n",
    "train_data = pd.read_csv('train.csv')\n",
    "test_data = pd.read_csv('test.csv')\n",
    "\n",
    "# Δημιουργία datasets (label, κείμενο) \n",
    "train_dataset = [(label, train_data['Title'][i] + ' ' + train_data['Description'][i]) for i, label in enumerate(train_data['Class Index'])]\n",
    "test_dataset = [(label, test_data['Title'][i] + ' ' + test_data['Description'][i]) for i, label in enumerate(test_data['Class Index'])]\n",
    "\n",
    "print(f\"Training samples: {len(train_dataset)}\")\n",
    "print(f\"Test samples: {len(test_dataset)}\")\n"
   ]
  },
  {
   "cell_type": "markdown",
   "id": "18fc4f78",
   "metadata": {},
   "source": [
    "## ✂️ Tokenization – Basic English Tokenizer\n",
    "\n",
    "Για την μετατροπή του κειμένου σε tokens χρησιμοποιήθηκε ο ενσωματωμένος tokenizer της βιβλιοθήκης torchtext, συγκεκριμένα η μέθοδος basic_english.\n",
    "\n",
    "Αυτός ο tokenizer:\n",
    "\n",
    "- Μετατρέπει όλα τα γράμματα σε πεζά\n",
    "- Αφαιρεί σημεία στίξης\n",
    "- Διαχωρίζει λέξεις με βάση τα κενά"
   ]
  },
  {
   "cell_type": "code",
   "execution_count": 160,
   "id": "dc4a54ec",
   "metadata": {},
   "outputs": [],
   "source": [
    "#device = torch.device(\"cpu\")\n",
    "\n",
    "from torchtext.data import get_tokenizer\n",
    "\n",
    "# Basic English tokenizer (lowercase, αφαιρεί σημεία στίξης κλπ)\n",
    "tokenizer = get_tokenizer(\"basic_english\")\n",
    "\n"
   ]
  },
  {
   "cell_type": "markdown",
   "id": "1c078088",
   "metadata": {},
   "source": [
    "## 📘 Δημιουργία Λεξιλογίου (Vocabulary)\n",
    "\n",
    "Σύμφωνα με τις οδηγίες της εκφώνησης, δημιουργείται ένα λεξιλόγιο (`vocab`) που περιλαμβάνει:\n",
    "\n",
    "- Όλες τις λέξεις που εμφανίζονται τουλάχιστον **10 φορές** στα training και test δεδομένα.\n",
    "- Τα ειδικά tokens:\n",
    "  - `<PAD>` για padding ακολουθιών\n",
    "  - `<UNK>` για άγνωστες λέξεις (out-of-vocabulary)\n",
    "\n",
    "Η διαδικασία περιλαμβάνει χρήση της συνάρτησης `build_vocab_from_iterator` από τη βιβλιοθήκη `torchtext`.\n"
   ]
  },
  {
   "cell_type": "code",
   "execution_count": 161,
   "id": "778250ff",
   "metadata": {},
   "outputs": [
    {
     "name": "stdout",
     "output_type": "stream",
     "text": [
      "Vocabulary size: 21254\n"
     ]
    }
   ],
   "source": [
    "from torchtext.vocab import build_vocab_from_iterator\n",
    "\n",
    "# Συνάρτηση που παράγει λίστα tokenized λέξεων\n",
    "def build_vocabulary(datasets):\n",
    "    for dataset in datasets:\n",
    "        for _, text in dataset:\n",
    "            yield tokenizer(text)\n",
    "\n",
    "# Δημιουργία λεξιλογίου από train + test dataset\n",
    "vocab = build_vocab_from_iterator(\n",
    "    build_vocabulary([train_dataset, test_dataset]), \n",
    "    min_freq=10,\n",
    "    specials=[\"<PAD>\", \"<UNK>\"]\n",
    ")\n",
    "\n",
    "# Ορισμός default index σε <UNK> (unknown words)\n",
    "vocab.set_default_index(vocab[\"<UNK>\"])\n",
    "\n",
    "print(f\"Vocabulary size: {len(vocab)}\")\n"
   ]
  },
  {
   "cell_type": "markdown",
   "id": "9e89913d",
   "metadata": {},
   "source": [
    "## ⚙️ Δημιουργία Συνάρτησης `collate_batch`\n",
    "\n",
    "Για την εκπαίδευση του μοντέλου με `DataLoader`, απαιτείται μια custom `collate_fn` συνάρτηση που μετατρέπει κάθε batch από raw κείμενα και labels σε έτοιμα tensors για το μοντέλο.\n",
    "\n",
    "Η παρακάτω συνάρτηση `collate_batch()` υλοποιεί:\n",
    "\n",
    "- Tokenization των κειμένων\n",
    "- Μετατροπή σε indices μέσω του λεξιλογίου (`vocab`)\n",
    "- Truncation ή Padding των ακολουθιών σε σταθερό μήκος\n",
    "- Optionally: αφαίρεση -1 από labels, αν ξεκινούν από 1 (π.χ. AGNews)"
   ]
  },
  {
   "cell_type": "code",
   "execution_count": 162,
   "id": "c8e86874",
   "metadata": {},
   "outputs": [],
   "source": [
    "import torch\n",
    "\n",
    "MAX_WORDS = 25\n",
    "\n",
    "def collate_batch(batch, shift_labels=True):\n",
    "    Y, X = list(zip(*batch))\n",
    "    Y = torch.tensor(Y)\n",
    "    \n",
    "    if shift_labels:\n",
    "        Y = Y - 1  # αλλαγή για datasets όπως AGNews\n",
    "    else: \n",
    "        Y\n",
    "        \n",
    "    \n",
    "    # Tokenization + μετατροπή σε indices\n",
    "    X = [vocab(tokenizer(text)) for text in X]\n",
    "    \n",
    "    # Truncation/Padding σε μήκος MAX_WORDS\n",
    "    X = [\n",
    "        tokens + [vocab['<PAD>']] * (MAX_WORDS - len(tokens)) if len(tokens) < MAX_WORDS else tokens[:MAX_WORDS]\n",
    "        for tokens in X\n",
    "    ]\n",
    "    \n",
    "    return torch.tensor(X, dtype=torch.int64).to(device), Y.to(device)\n"
   ]
  },
  {
   "cell_type": "markdown",
   "id": "af007c1a",
   "metadata": {},
   "source": [
    "## 📦 Δημιουργία DataLoaders\n",
    "\n",
    "Για τη διαδικασία εκπαίδευσης και αξιολόγησης χρησιμοποιούνται αντικείμενα `DataLoader`, τα οποία αναλαμβάνουν:\n",
    "\n",
    "- Τη δημιουργία batches στα δεδομένα\n",
    "- Τη χρήση της custom συνάρτησης `collate_batch` για tokenization και padding\n",
    "- Shuffle των δεδομένων μόνο στο training set\n",
    "- Επιτάχυνση μέσω lazy-loading, batch-wise μεταφορά σε GPU/MPS\n",
    "\n",
    "Η τιμή του `BATCH_SIZE` ορίστηκε σε 1024 για ταχύτητα και επαρκή στατιστική ποικιλία σε κάθε batch.\n"
   ]
  },
  {
   "cell_type": "code",
   "execution_count": 163,
   "id": "6f263867",
   "metadata": {},
   "outputs": [],
   "source": [
    "from torch.utils.data import DataLoader\n",
    "\n",
    "# HYPER-PARAMETERS\n",
    "BATCH_SIZE = 1024\n",
    "\n",
    "# DataLoader για training set\n",
    "train_loader = DataLoader(\n",
    "    train_dataset,\n",
    "    batch_size=BATCH_SIZE,\n",
    "    shuffle=True,\n",
    "    collate_fn=collate_batch\n",
    ")\n",
    "\n",
    "# DataLoader για test set\n",
    "test_loader = DataLoader(\n",
    "    test_dataset,\n",
    "    batch_size=BATCH_SIZE,\n",
    "    shuffle=False,\n",
    "    collate_fn=collate_batch\n",
    ")\n"
   ]
  },
  {
   "cell_type": "markdown",
   "id": "d4ab0343",
   "metadata": {},
   "source": [
    "## 🧠 Ορισμός Μοντέλου – `RNNClassifier` (AGNews & IMDB)\n",
    "\n",
    "Η κλάση `RNNClassifier` αποτελεί τον πυρήνα του μοντέλου και έχει σχεδιαστεί με στόχο:\n",
    "\n",
    "- Την υποστήριξη διαφορετικών τύπων RNN (`RNN`, `LSTM`)\n",
    "- Την επιλογή αριθμού στρωμάτων και κατεύθυνσης (μονοκατευθυντικό ή bidirectional)\n",
    "- Τη δυνατότητα εισαγωγής προεκπαιδευμένων embeddings\n",
    "- Την επιλογή να \"παγώσουν\" (freeze) τα embeddings ή να συνεχίσουν να μαθαίνουν\n"
   ]
  },
  {
   "cell_type": "code",
   "execution_count": 164,
   "id": "9df2aa12",
   "metadata": {},
   "outputs": [],
   "source": [
    "import torch.nn as nn\n",
    "import torch.nn.functional as F\n",
    "\n",
    "class RNNClassifier(nn.Module):\n",
    "    def __init__(self, \n",
    "                 vocab_size, \n",
    "                 embedding_dim, \n",
    "                 hidden_dim, \n",
    "                 output_dim,\n",
    "                 rnn_type=\"rnn\",          # \"rnn\" ή \"lstm\"\n",
    "                 num_layers=1, \n",
    "                 bidirectional=False,\n",
    "                 pretrained_embeddings=None,    # προσθήκη ερωτήματος 4\n",
    "                 freeze_embeddings=False        # προσθήκη ερωτήματος 5\n",
    "                 ): \n",
    "        \n",
    "        super(RNNClassifier, self).__init__()\n",
    "        \n",
    "        self.embedding = nn.Embedding(vocab_size, embedding_dim)\n",
    "\n",
    "        if pretrained_embeddings is not None:                           # προσθήκη ερωτήματος 4\n",
    "            self.embedding.weight.data.copy_(pretrained_embeddings)     # προσθήκη ερωτήματος 4\n",
    "\n",
    "        if freeze_embeddings:                               # προσθήκη ερωτήματος 5\n",
    "            self.embedding.weight.requires_grad = False     # προσθήκη ερωτήματος 5\n",
    "\n",
    "        if rnn_type == \"rnn\":\n",
    "            self.rnn = nn.RNN(\n",
    "                input_size=embedding_dim,\n",
    "                hidden_size=hidden_dim,\n",
    "                num_layers=num_layers,\n",
    "                bidirectional=bidirectional,\n",
    "                batch_first=True\n",
    "            )\n",
    "        elif rnn_type == \"lstm\":\n",
    "            self.rnn = nn.LSTM(\n",
    "                input_size=embedding_dim,\n",
    "                hidden_size=hidden_dim,\n",
    "                num_layers=num_layers,\n",
    "                bidirectional=bidirectional,\n",
    "                batch_first=True\n",
    "            )\n",
    "        else:\n",
    "            raise ValueError(\"Unsupported rnn_type. Choose 'rnn' or 'lstm'.\")\n",
    "\n",
    "        direction_factor = 2 if bidirectional else 1\n",
    "        self.fc = nn.Linear(hidden_dim * direction_factor, output_dim)\n",
    "\n",
    "    def forward(self, x):\n",
    "        x = self.embedding(x)\n",
    "        rnn_out, _ = self.rnn(x)\n",
    "        out = self.fc(rnn_out[:, -1, :])  # παίρνουμε το τελευταίο output του sequence\n",
    "        return F.softmax(out, dim=1)\n",
    "    \n"
   ]
  },
  {
   "cell_type": "markdown",
   "id": "68d1c43f",
   "metadata": {},
   "source": [
    "## 🧪 Παραδείγματα Μοντέλων\n",
    "\n",
    "Ακολουθούν παραδείγματα κατασκευής δύο βασικών μοντέλων με χρήση της παραμετρικής κλάσης `RNNClassifier`:\n",
    "\n",
    "### 🔹 1-layer RNN\n",
    "\n",
    "Το πιο απλό σενάριο: RNN με μία κρυφή στρώση, μονοκατευθυντικό.  \n",
    "Χρήσιμο για benchmarking ή εισαγωγικά πειράματα.\n",
    "\n",
    "### 🔸 2-layer Bidirectional LSTM (BiLSTM)\n",
    "Ισχυρότερο μοντέλο: LSTM, διπλής κατεύθυνσης (biLSTM), με 2 κρυφές στρώσεις.\n",
    "Αξιοποιεί καλύτερα τη δομή του κειμένου καθώς διαβάζει και από τις δύο κατευθύνσεις."
   ]
  },
  {
   "cell_type": "code",
   "execution_count": 165,
   "id": "974bf1aa",
   "metadata": {},
   "outputs": [],
   "source": [
    "# 1-layer RNN\n",
    "model = RNNClassifier(\n",
    "    vocab_size=len(vocab),\n",
    "    embedding_dim=100,\n",
    "    hidden_dim=64,\n",
    "    output_dim=4,\n",
    "    rnn_type=\"rnn\",\n",
    "    num_layers=1,\n",
    "    bidirectional=False\n",
    ").to(device)\n",
    "\n",
    "\n",
    "# 2-layer BiLSTM\n",
    "model = RNNClassifier(\n",
    "    vocab_size=len(vocab),\n",
    "    embedding_dim=100,\n",
    "    hidden_dim=64,\n",
    "    output_dim=4,\n",
    "    rnn_type=\"lstm\",\n",
    "    num_layers=2,\n",
    "    bidirectional=True\n",
    ").to(device)\n"
   ]
  },
  {
   "cell_type": "markdown",
   "id": "5174b4a8",
   "metadata": {},
   "source": [
    "## ⚙️ Ορισμός Υπερπαραμέτρων\n",
    "\n",
    "Οι βασικές υπερπαράμετροι που ορίζουν τη συμπεριφορά και την απόδοση του μοντέλου είναι οι εξής:\n"
   ]
  },
  {
   "cell_type": "code",
   "execution_count": null,
   "id": "cec1fd8d",
   "metadata": {},
   "outputs": [],
   "source": [
    "MAX_WORDS = 25         # Μήκος token sequence (μετά από padding/truncation)\n",
    "EPOCHS = 15            # Πλήρεις επαναλήψεις πάνω στο training set\n",
    "LEARNING_RATE = 1e-3   # Ρυθμός μάθησης για τον optimizer\n",
    "BATCH_SIZE = 1024      # Μέγεθος mini-batch (επηρεάζει μνήμη & ταχύτητα)\n",
    "EMBEDDING_DIM = 100    # Διάσταση των word embeddings\n",
    "HIDDEN_DIM = 64        # Διάσταση των hidden states του RNN\n"
   ]
  },
  {
   "cell_type": "markdown",
   "id": "1ef6a1d3",
   "metadata": {},
   "source": [
    "## 🧮 Συναρτήσεις Απώλειας και Βελτιστοποίησης\n",
    "\n",
    "Για την εκπαίδευση των μοντέλων χρησιμοποιήθηκαν:\n",
    "\n",
    "- Η συνάρτηση απώλειας `CrossEntropyLoss`, κατάλληλη για multi-class classification\n",
    "- Ο βελτιστοποιητής `Adam`, γνωστός για γρήγορη και σταθερή σύγκλιση\n"
   ]
  },
  {
   "cell_type": "code",
   "execution_count": 167,
   "id": "43a5668e",
   "metadata": {},
   "outputs": [],
   "source": [
    "loss_fn = nn.CrossEntropyLoss()\n",
    "optimizer = torch.optim.Adam(model.parameters(), lr=LEARNING_RATE)\n"
   ]
  },
  {
   "cell_type": "markdown",
   "id": "1f63013f",
   "metadata": {},
   "source": [
    "## 📉 Συνάρτηση Αξιολόγησης – `evaluate_model`\n",
    "\n",
    "Η συνάρτηση `evaluate_model()` αξιολογεί την απόδοση του μοντέλου σε test set (ή validation set), χωρίς να επηρεάζει τα gradients.\n",
    "\n",
    "Επιστρέφει:\n",
    "\n",
    "- Τη μέση τιμή απώλειας στο dataset (`total_loss / len(dataloader)`)\n",
    "- Τα πραγματικά labels (`true_labels`)\n",
    "- Τις προβλέψεις του μοντέλου (`pred_labels`)"
   ]
  },
  {
   "cell_type": "code",
   "execution_count": 168,
   "id": "17155ea4",
   "metadata": {},
   "outputs": [],
   "source": [
    "def evaluate_model(model, dataloader, loss_fn):\n",
    "    model.eval()\n",
    "    total_loss = 0\n",
    "    true_labels = []\n",
    "    pred_labels = []\n",
    "\n",
    "    with torch.no_grad():\n",
    "        for X_batch, y_batch in dataloader:\n",
    "            outputs = model(X_batch)\n",
    "            loss = loss_fn(outputs, y_batch)\n",
    "            total_loss += loss.item()\n",
    "\n",
    "            preds = outputs.argmax(dim=1)\n",
    "            true_labels.append(y_batch.cpu())\n",
    "            pred_labels.append(preds.cpu())\n",
    "\n",
    "    true_labels = torch.cat(true_labels)\n",
    "    pred_labels = torch.cat(pred_labels)\n",
    "    \n",
    "    return total_loss / len(dataloader), true_labels.numpy(), pred_labels.numpy()\n"
   ]
  },
  {
   "cell_type": "markdown",
   "id": "cbf34304",
   "metadata": {},
   "source": [
    "## 🏋️ Συνάρτηση Εκπαίδευσης – `train_model`\n",
    "\n",
    "Η συνάρτηση `train_model()` υλοποιεί τη βασική ροή εκπαίδευσης ενός νευρωνικού μοντέλου για `epochs` επαναλήψεις.\n",
    "\n",
    "Για κάθε εποχή πραγματοποιούνται:\n",
    "\n",
    "- Εκπαίδευση πάνω στο training set\n",
    "- Αξιολόγηση στο test set\n",
    "- Εκτύπωση των βασικών μετρικών: train loss, val loss και val accuracy\n"
   ]
  },
  {
   "cell_type": "code",
   "execution_count": 169,
   "id": "88598c12",
   "metadata": {},
   "outputs": [],
   "source": [
    "from tqdm import tqdm\n",
    "from sklearn.metrics import accuracy_score\n",
    "\n",
    "def train_model(model, train_loader, test_loader, optimizer, loss_fn, epochs):\n",
    "    for epoch in range(1, epochs + 1):\n",
    "        model.train()\n",
    "        train_losses = []\n",
    "\n",
    "        print(f\"Epoch {epoch}\")\n",
    "        \n",
    "        for X_batch, y_batch in tqdm(train_loader):\n",
    "            optimizer.zero_grad()\n",
    "            outputs = model(X_batch)\n",
    "            loss = loss_fn(outputs, y_batch)\n",
    "            loss.backward()\n",
    "            optimizer.step()\n",
    "\n",
    "            train_losses.append(loss.item())\n",
    "        \n",
    "        avg_train_loss = sum(train_losses) / len(train_losses)\n",
    "        \n",
    "        # Evaluation on test set\n",
    "        val_loss, y_true, y_pred = evaluate_model(model, test_loader, loss_fn)\n",
    "        val_acc = accuracy_score(y_true, y_pred)\n",
    "\n",
    "        print(f\"Train Loss: {avg_train_loss:.4f} | Val Loss: {val_loss:.4f} | Val Accuracy: {val_acc:.4f}\\n\")\n"
   ]
  },
  {
   "cell_type": "markdown",
   "id": "70d677ef",
   "metadata": {},
   "source": [
    "## 🚀 Εκπαίδευση RNN Μοντέλου (1-Layer RNN)\n",
    "\n",
    "Παρακάτω παρουσιάζεται ένα πλήρες παράδειγμα εκπαίδευσης ενός απλού 1-layer RNN μοντέλου πάνω στο AGNews dataset:\n",
    "\n",
    "- RNN (όχι LSTM)\n",
    "- 1 στρώση (layer)\n",
    "- Μονοκατευθυντικό (όχι bidirectional)\n",
    "- 4 κατηγορίες εξόδου (World, Sports, Business, Sci/Tech)"
   ]
  },
  {
   "cell_type": "code",
   "execution_count": null,
   "id": "6f6e5694",
   "metadata": {},
   "outputs": [],
   "source": [
    "# Δημιουργία 1-layer RNN\n",
    "model = RNNClassifier(\n",
    "    vocab_size=len(vocab),\n",
    "    embedding_dim=EMBEDDING_DIM,\n",
    "    hidden_dim=HIDDEN_DIM,\n",
    "    output_dim=4,            # 4 κατηγορίες (World, Sports, Business, Sci/Tech)\n",
    "    rnn_type=\"rnn\",          # απλό RNN\n",
    "    num_layers=1,            # 1 layer\n",
    "    bidirectional=False      # όχι bidirectional\n",
    ").to(device)\n",
    "\n",
    "# Loss και Optimizer\n",
    "loss_fn = nn.CrossEntropyLoss()\n",
    "optimizer = torch.optim.Adam(model.parameters(), lr=LEARNING_RATE)\n",
    "\n",
    "train_model(\n",
    "    model=model,\n",
    "    train_loader=train_loader,\n",
    "    test_loader=test_loader,\n",
    "    optimizer=optimizer,\n",
    "    loss_fn=loss_fn,\n",
    "    epochs=EPOCHS\n",
    ")"
   ]
  },
  {
   "cell_type": "markdown",
   "id": "a79a1512",
   "metadata": {},
   "source": [
    "## 🧪 Ορισμός Μοντέλων για Πειραματισμό\n",
    "\n",
    "Όπως ζητείται στο Ερώτημα 1, εξετάζονται οι εξής έξι παραλλαγές RNN-based μοντέλων:\n",
    "\n",
    "- Τύπος RNN: `RNN` ή `LSTM`\n",
    "- Μονοκατευθυντικά ή διπλής κατεύθυνσης (bidirectional)\n",
    "- Ένα ή δύο επίπεδα (layers)\n",
    "\n",
    "Ο παρακάτω πίνακας περιέχει τα configurations όλων των μοντέλων:"
   ]
  },
  {
   "cell_type": "code",
   "execution_count": 173,
   "id": "976926bf",
   "metadata": {},
   "outputs": [],
   "source": [
    "model_configs = [\n",
    "    {\"name\": \"1RNN\",       \"rnn_type\": \"rnn\",  \"num_layers\": 1, \"bidirectional\": False},\n",
    "    {\"name\": \"1Bi-RNN\",    \"rnn_type\": \"rnn\",  \"num_layers\": 1, \"bidirectional\": True},\n",
    "    {\"name\": \"2Bi-RNN\",    \"rnn_type\": \"rnn\",  \"num_layers\": 2, \"bidirectional\": True},\n",
    "    {\"name\": \"1LSTM\",      \"rnn_type\": \"lstm\", \"num_layers\": 1, \"bidirectional\": False},\n",
    "    {\"name\": \"1Bi-LSTM\",   \"rnn_type\": \"lstm\", \"num_layers\": 1, \"bidirectional\": True},\n",
    "    {\"name\": \"2Bi-LSTM\",   \"rnn_type\": \"lstm\", \"num_layers\": 2, \"bidirectional\": True}\n",
    "]\n"
   ]
  },
  {
   "cell_type": "markdown",
   "id": "38aeed83",
   "metadata": {},
   "source": [
    "## 🔁 Συνάρτηση Εκπαίδευσης για Κάθε Μοντέλο – `run_single_model()`\n",
    "\n",
    "Η συνάρτηση `run_single_model()` αναλαμβάνει:\n",
    "\n",
    "- Να χτίσει το μοντέλο με βάση ένα configuration (`config`)\n",
    "- Να το εκπαιδεύσει για `EPOCHS` επαναλήψεις\n",
    "- Να το αξιολογήσει\n",
    "- Να επιστρέψει τα βασικά στατιστικά για πίνακες σύγκρισης και error analysis\n",
    "\n",
    "### 🔧 Είσοδοι (Arguments):\n",
    "\n",
    "| Παράμετρος              | Περιγραφή                                               |\n",
    "|-------------------------|----------------------------------------------------------|\n",
    "| `config`                | Λεξικό με στοιχεία αρχιτεκτονικής (όνομα, layers κ.λπ.) |\n",
    "| `pretrained_embeddings` | Embedding matrix (GloVe κ.λπ.) ή `None`                 |\n",
    "| `freeze_embeddings`     | Αν θα εκπαιδεύονται τα embeddings ή όχι                |\n",
    "| `vocab_to_use`          | Το λεξιλόγιο που θα χρησιμοποιηθεί                     |\n",
    "| `output_dim`            | Αριθμός εξόδων (4 για AGNews, 2 για IMDB)              |\n",
    "| `train_loader`          | DataLoader για training set                            |\n",
    "| `test_loader`           | DataLoader για test set     "
   ]
  },
  {
   "cell_type": "code",
   "execution_count": 174,
   "id": "1ce66309",
   "metadata": {},
   "outputs": [],
   "source": [
    "import time\n",
    "\n",
    "def run_single_model(config, \n",
    "                     pretrained_embeddings=None,  # προσθήκη ερωτήματος 4 \n",
    "                     freeze_embeddings=False,  # προσθήκη ερωτήματος 5\n",
    "                     vocab_to_use=vocab,  # προσθήκη ερωτήματος 6\n",
    "                     output_dim=4,              # προσθήκη ερωτήματος 6\n",
    "                     train_loader=train_loader,         # προσθήκη ερωτήματος 6\n",
    "                     test_loader=test_loader           # προσθήκη ερωτήματος 6\n",
    "                     ):    \n",
    "    print(f\"\\n🔄 Training: {config['name']}\")\n",
    "    \n",
    "        \n",
    "\n",
    "    model = RNNClassifier(\n",
    "        vocab_size=len(vocab_to_use),\n",
    "        embedding_dim=EMBEDDING_DIM,\n",
    "        hidden_dim=HIDDEN_DIM,\n",
    "        output_dim=output_dim,\n",
    "        rnn_type=config[\"rnn_type\"],\n",
    "        num_layers=config[\"num_layers\"],\n",
    "        bidirectional=config[\"bidirectional\"],\n",
    "        pretrained_embeddings=pretrained_embeddings,  # προσθήκη ερωτήματος 4\n",
    "        freeze_embeddings=freeze_embeddings # προσθήκη ερωτήματος 5\n",
    "    ).to(device)\n",
    "    \n",
    "    optimizer = torch.optim.Adam(model.parameters(), lr=LEARNING_RATE)\n",
    "    loss_fn = nn.CrossEntropyLoss()\n",
    "\n",
    "    start = time.time()\n",
    "    train_model(model, train_loader, test_loader, optimizer, loss_fn, epochs=EPOCHS)\n",
    "    end = time.time()\n",
    "    \n",
    "    total_params = sum(p.numel() for p in model.parameters() if p.requires_grad)\n",
    "    val_loss, y_true, y_pred = evaluate_model(model, test_loader, loss_fn)\n",
    "    val_acc = accuracy_score(y_true, y_pred)\n",
    "\n",
    "    return {\n",
    "        \"Model\": config['name'],\n",
    "        \"Accuracy\": round(val_acc * 100, 2),\n",
    "        \"Parameters\": total_params,\n",
    "        \"Time (sec)\": round((end - start) / EPOCHS, 2),\n",
    "        \"y_pred\": y_pred   # <-- Προσθέτουμε τα predictions\n",
    "    }"
   ]
  },
  {
   "cell_type": "markdown",
   "id": "d488e156",
   "metadata": {},
   "source": [
    "## 🧪 Εκτέλεση Όλων των Μοντέλων – `run_experiments()`\n",
    "\n",
    "Η συνάρτηση `run_experiments()` χρησιμοποιείται για να εκτελέσει **όλα τα μοντέλα που καθορίζονται στον πίνακα `model_configs`**, και να επιστρέψει:\n",
    "\n",
    "- Ένα DataFrame με μετρικές απόδοσης για κάθε μοντέλο\n",
    "- Ένα dictionary με τα predicted labels (`y_pred`) κάθε μοντέλου (για ανάλυση σφαλμάτων)\n"
   ]
  },
  {
   "cell_type": "code",
   "execution_count": 175,
   "id": "d24ca7ad",
   "metadata": {},
   "outputs": [],
   "source": [
    "import pandas as pd\n",
    "\n",
    "def run_experiments(configs, pretrained_embeddings=None, freeze_embeddings=False, vocab_to_use=vocab, output_dim=4, train_loader=train_loader, test_loader=test_loader): # pretrained_embeddings προσθήκη ερωτήματος 4 | freeze_embeddings προσθήκη ερωτήματος 5\n",
    "    results = []\n",
    "    preds_dict = {}\n",
    "\n",
    "    for cfg in configs:\n",
    "        result = run_single_model(cfg, pretrained_embeddings=pretrained_embeddings, freeze_embeddings=freeze_embeddings,\n",
    "        vocab_to_use=vocab_to_use,\n",
    "        output_dim=output_dim,\n",
    "        train_loader=train_loader,\n",
    "        test_loader=test_loader\n",
    "            ) # pretrained_embeddings προσθήκη ερωτήματος 4 | freeze_embeddings προσθήκη ερωτήματος 5\n",
    "        preds_dict[cfg['name']] = result.pop('y_pred')  # Αποθηκεύουμε y_preds ξεχωριστά\n",
    "        results.append(result)\n",
    "\n",
    "    df_results = pd.DataFrame(results)\n",
    "    return df_results, preds_dict\n"
   ]
  },
  {
   "cell_type": "markdown",
   "id": "c888b184",
   "metadata": {},
   "source": [
    "# Απαντήσεις Ερωτημάτων"
   ]
  },
  {
   "cell_type": "markdown",
   "id": "cb7a8647",
   "metadata": {},
   "source": [
    "## 📊 Ερώτημα Γ.1  – Εκτέλεση Πειραμάτων & Συμπλήρωση Πίνακα\n",
    "\n",
    "Σε αυτό το ερώτημα εξετάζονται έξι διαφορετικά μοντέλα που διαφέρουν ως προς:\n",
    "\n",
    "- Τον τύπο RNN (`RNN` ή `LSTM`)\n",
    "- Το αν είναι μονοκατευθυντικά ή bidirectional\n",
    "- Τον αριθμό των επιπέδων (layers): 1 ή 2"
   ]
  },
  {
   "cell_type": "code",
   "execution_count": 176,
   "id": "efdbd2d0",
   "metadata": {},
   "outputs": [
    {
     "name": "stdout",
     "output_type": "stream",
     "text": [
      "\n",
      "🔄 Training: 1RNN\n",
      "Epoch 1\n"
     ]
    },
    {
     "name": "stderr",
     "output_type": "stream",
     "text": [
      "100%|██████████| 118/118 [00:03<00:00, 36.01it/s]\n"
     ]
    },
    {
     "name": "stdout",
     "output_type": "stream",
     "text": [
      "Train Loss: 1.2895 | Val Loss: 1.1397 | Val Accuracy: 0.6053\n",
      "\n",
      "Epoch 2\n"
     ]
    },
    {
     "name": "stderr",
     "output_type": "stream",
     "text": [
      "100%|██████████| 118/118 [00:03<00:00, 37.01it/s]\n"
     ]
    },
    {
     "name": "stdout",
     "output_type": "stream",
     "text": [
      "Train Loss: 1.0579 | Val Loss: 1.0076 | Val Accuracy: 0.7370\n",
      "\n",
      "Epoch 3\n"
     ]
    },
    {
     "name": "stderr",
     "output_type": "stream",
     "text": [
      "100%|██████████| 118/118 [00:03<00:00, 37.33it/s]\n"
     ]
    },
    {
     "name": "stdout",
     "output_type": "stream",
     "text": [
      "Train Loss: 0.9659 | Val Loss: 0.9579 | Val Accuracy: 0.7862\n",
      "\n",
      "Epoch 4\n"
     ]
    },
    {
     "name": "stderr",
     "output_type": "stream",
     "text": [
      "100%|██████████| 118/118 [00:03<00:00, 37.23it/s]\n"
     ]
    },
    {
     "name": "stdout",
     "output_type": "stream",
     "text": [
      "Train Loss: 0.9256 | Val Loss: 0.9394 | Val Accuracy: 0.8026\n",
      "\n",
      "Epoch 5\n"
     ]
    },
    {
     "name": "stderr",
     "output_type": "stream",
     "text": [
      "100%|██████████| 118/118 [00:03<00:00, 30.15it/s]\n"
     ]
    },
    {
     "name": "stdout",
     "output_type": "stream",
     "text": [
      "Train Loss: 0.9030 | Val Loss: 0.9171 | Val Accuracy: 0.8253\n",
      "\n",
      "Epoch 6\n"
     ]
    },
    {
     "name": "stderr",
     "output_type": "stream",
     "text": [
      "100%|██████████| 118/118 [00:03<00:00, 34.03it/s]\n"
     ]
    },
    {
     "name": "stdout",
     "output_type": "stream",
     "text": [
      "Train Loss: 0.8868 | Val Loss: 0.9066 | Val Accuracy: 0.8346\n",
      "\n",
      "Epoch 7\n"
     ]
    },
    {
     "name": "stderr",
     "output_type": "stream",
     "text": [
      "100%|██████████| 118/118 [00:03<00:00, 36.72it/s]\n"
     ]
    },
    {
     "name": "stdout",
     "output_type": "stream",
     "text": [
      "Train Loss: 0.8743 | Val Loss: 0.8973 | Val Accuracy: 0.8449\n",
      "\n",
      "Epoch 8\n"
     ]
    },
    {
     "name": "stderr",
     "output_type": "stream",
     "text": [
      "100%|██████████| 118/118 [00:03<00:00, 36.43it/s]\n"
     ]
    },
    {
     "name": "stdout",
     "output_type": "stream",
     "text": [
      "Train Loss: 0.8661 | Val Loss: 0.8969 | Val Accuracy: 0.8443\n",
      "\n",
      "Epoch 9\n"
     ]
    },
    {
     "name": "stderr",
     "output_type": "stream",
     "text": [
      "100%|██████████| 118/118 [00:03<00:00, 36.89it/s]\n"
     ]
    },
    {
     "name": "stdout",
     "output_type": "stream",
     "text": [
      "Train Loss: 0.8579 | Val Loss: 0.8910 | Val Accuracy: 0.8503\n",
      "\n",
      "Epoch 10\n"
     ]
    },
    {
     "name": "stderr",
     "output_type": "stream",
     "text": [
      "100%|██████████| 118/118 [00:03<00:00, 37.28it/s]\n"
     ]
    },
    {
     "name": "stdout",
     "output_type": "stream",
     "text": [
      "Train Loss: 0.8529 | Val Loss: 0.8847 | Val Accuracy: 0.8574\n",
      "\n",
      "Epoch 11\n"
     ]
    },
    {
     "name": "stderr",
     "output_type": "stream",
     "text": [
      "100%|██████████| 118/118 [00:03<00:00, 37.08it/s]\n"
     ]
    },
    {
     "name": "stdout",
     "output_type": "stream",
     "text": [
      "Train Loss: 0.8477 | Val Loss: 0.8820 | Val Accuracy: 0.8596\n",
      "\n",
      "Epoch 12\n"
     ]
    },
    {
     "name": "stderr",
     "output_type": "stream",
     "text": [
      "100%|██████████| 118/118 [00:03<00:00, 36.94it/s]\n"
     ]
    },
    {
     "name": "stdout",
     "output_type": "stream",
     "text": [
      "Train Loss: 0.8437 | Val Loss: 0.8817 | Val Accuracy: 0.8603\n",
      "\n",
      "Epoch 13\n"
     ]
    },
    {
     "name": "stderr",
     "output_type": "stream",
     "text": [
      "100%|██████████| 118/118 [00:03<00:00, 35.07it/s]\n"
     ]
    },
    {
     "name": "stdout",
     "output_type": "stream",
     "text": [
      "Train Loss: 0.8398 | Val Loss: 0.8764 | Val Accuracy: 0.8646\n",
      "\n",
      "Epoch 14\n"
     ]
    },
    {
     "name": "stderr",
     "output_type": "stream",
     "text": [
      "100%|██████████| 118/118 [00:03<00:00, 36.79it/s]\n"
     ]
    },
    {
     "name": "stdout",
     "output_type": "stream",
     "text": [
      "Train Loss: 0.8356 | Val Loss: 0.8784 | Val Accuracy: 0.8650\n",
      "\n",
      "Epoch 15\n"
     ]
    },
    {
     "name": "stderr",
     "output_type": "stream",
     "text": [
      "100%|██████████| 118/118 [00:03<00:00, 35.67it/s]\n"
     ]
    },
    {
     "name": "stdout",
     "output_type": "stream",
     "text": [
      "Train Loss: 0.8329 | Val Loss: 0.8748 | Val Accuracy: 0.8664\n",
      "\n",
      "\n",
      "🔄 Training: 1Bi-RNN\n",
      "Epoch 1\n"
     ]
    },
    {
     "name": "stderr",
     "output_type": "stream",
     "text": [
      "100%|██████████| 118/118 [00:04<00:00, 23.67it/s]\n"
     ]
    },
    {
     "name": "stdout",
     "output_type": "stream",
     "text": [
      "Train Loss: 1.2968 | Val Loss: 1.1575 | Val Accuracy: 0.5787\n",
      "\n",
      "Epoch 2\n"
     ]
    },
    {
     "name": "stderr",
     "output_type": "stream",
     "text": [
      "100%|██████████| 118/118 [00:04<00:00, 28.84it/s]\n"
     ]
    },
    {
     "name": "stdout",
     "output_type": "stream",
     "text": [
      "Train Loss: 1.0878 | Val Loss: 1.0124 | Val Accuracy: 0.7339\n",
      "\n",
      "Epoch 3\n"
     ]
    },
    {
     "name": "stderr",
     "output_type": "stream",
     "text": [
      "100%|██████████| 118/118 [00:04<00:00, 28.66it/s]\n"
     ]
    },
    {
     "name": "stdout",
     "output_type": "stream",
     "text": [
      "Train Loss: 0.9724 | Val Loss: 0.9546 | Val Accuracy: 0.7920\n",
      "\n",
      "Epoch 4\n"
     ]
    },
    {
     "name": "stderr",
     "output_type": "stream",
     "text": [
      "100%|██████████| 118/118 [00:04<00:00, 29.05it/s]\n"
     ]
    },
    {
     "name": "stdout",
     "output_type": "stream",
     "text": [
      "Train Loss: 0.9249 | Val Loss: 0.9286 | Val Accuracy: 0.8142\n",
      "\n",
      "Epoch 5\n"
     ]
    },
    {
     "name": "stderr",
     "output_type": "stream",
     "text": [
      "100%|██████████| 118/118 [00:05<00:00, 22.48it/s]\n"
     ]
    },
    {
     "name": "stdout",
     "output_type": "stream",
     "text": [
      "Train Loss: 0.9008 | Val Loss: 0.9130 | Val Accuracy: 0.8295\n",
      "\n",
      "Epoch 6\n"
     ]
    },
    {
     "name": "stderr",
     "output_type": "stream",
     "text": [
      "100%|██████████| 118/118 [00:04<00:00, 27.45it/s]\n"
     ]
    },
    {
     "name": "stdout",
     "output_type": "stream",
     "text": [
      "Train Loss: 0.8841 | Val Loss: 0.9030 | Val Accuracy: 0.8382\n",
      "\n",
      "Epoch 7\n"
     ]
    },
    {
     "name": "stderr",
     "output_type": "stream",
     "text": [
      "100%|██████████| 118/118 [00:04<00:00, 27.15it/s]\n"
     ]
    },
    {
     "name": "stdout",
     "output_type": "stream",
     "text": [
      "Train Loss: 0.8716 | Val Loss: 0.8920 | Val Accuracy: 0.8492\n",
      "\n",
      "Epoch 8\n"
     ]
    },
    {
     "name": "stderr",
     "output_type": "stream",
     "text": [
      "100%|██████████| 118/118 [00:04<00:00, 28.92it/s]\n"
     ]
    },
    {
     "name": "stdout",
     "output_type": "stream",
     "text": [
      "Train Loss: 0.8634 | Val Loss: 0.8890 | Val Accuracy: 0.8525\n",
      "\n",
      "Epoch 9\n"
     ]
    },
    {
     "name": "stderr",
     "output_type": "stream",
     "text": [
      "100%|██████████| 118/118 [00:04<00:00, 29.10it/s]\n"
     ]
    },
    {
     "name": "stdout",
     "output_type": "stream",
     "text": [
      "Train Loss: 0.8548 | Val Loss: 0.8870 | Val Accuracy: 0.8536\n",
      "\n",
      "Epoch 10\n"
     ]
    },
    {
     "name": "stderr",
     "output_type": "stream",
     "text": [
      "100%|██████████| 118/118 [00:04<00:00, 29.07it/s]\n"
     ]
    },
    {
     "name": "stdout",
     "output_type": "stream",
     "text": [
      "Train Loss: 0.8489 | Val Loss: 0.8838 | Val Accuracy: 0.8561\n",
      "\n",
      "Epoch 11\n"
     ]
    },
    {
     "name": "stderr",
     "output_type": "stream",
     "text": [
      "100%|██████████| 118/118 [00:04<00:00, 28.56it/s]\n"
     ]
    },
    {
     "name": "stdout",
     "output_type": "stream",
     "text": [
      "Train Loss: 0.8442 | Val Loss: 0.8770 | Val Accuracy: 0.8638\n",
      "\n",
      "Epoch 12\n"
     ]
    },
    {
     "name": "stderr",
     "output_type": "stream",
     "text": [
      "100%|██████████| 118/118 [00:04<00:00, 27.70it/s]\n"
     ]
    },
    {
     "name": "stdout",
     "output_type": "stream",
     "text": [
      "Train Loss: 0.8395 | Val Loss: 0.8821 | Val Accuracy: 0.8588\n",
      "\n",
      "Epoch 13\n"
     ]
    },
    {
     "name": "stderr",
     "output_type": "stream",
     "text": [
      "100%|██████████| 118/118 [00:04<00:00, 26.49it/s]\n"
     ]
    },
    {
     "name": "stdout",
     "output_type": "stream",
     "text": [
      "Train Loss: 0.8368 | Val Loss: 0.8732 | Val Accuracy: 0.8667\n",
      "\n",
      "Epoch 14\n"
     ]
    },
    {
     "name": "stderr",
     "output_type": "stream",
     "text": [
      "100%|██████████| 118/118 [00:04<00:00, 26.94it/s]\n"
     ]
    },
    {
     "name": "stdout",
     "output_type": "stream",
     "text": [
      "Train Loss: 0.8348 | Val Loss: 0.8709 | Val Accuracy: 0.8700\n",
      "\n",
      "Epoch 15\n"
     ]
    },
    {
     "name": "stderr",
     "output_type": "stream",
     "text": [
      "100%|██████████| 118/118 [00:04<00:00, 29.03it/s]\n"
     ]
    },
    {
     "name": "stdout",
     "output_type": "stream",
     "text": [
      "Train Loss: 0.8303 | Val Loss: 0.8731 | Val Accuracy: 0.8680\n",
      "\n",
      "\n",
      "🔄 Training: 2Bi-RNN\n",
      "Epoch 1\n"
     ]
    },
    {
     "name": "stderr",
     "output_type": "stream",
     "text": [
      "100%|██████████| 118/118 [00:06<00:00, 19.38it/s]\n"
     ]
    },
    {
     "name": "stdout",
     "output_type": "stream",
     "text": [
      "Train Loss: 1.2619 | Val Loss: 1.1031 | Val Accuracy: 0.6339\n",
      "\n",
      "Epoch 2\n"
     ]
    },
    {
     "name": "stderr",
     "output_type": "stream",
     "text": [
      "100%|██████████| 118/118 [00:06<00:00, 19.22it/s]\n"
     ]
    },
    {
     "name": "stdout",
     "output_type": "stream",
     "text": [
      "Train Loss: 1.0447 | Val Loss: 0.9992 | Val Accuracy: 0.7399\n",
      "\n",
      "Epoch 3\n"
     ]
    },
    {
     "name": "stderr",
     "output_type": "stream",
     "text": [
      "100%|██████████| 118/118 [00:06<00:00, 18.37it/s]\n"
     ]
    },
    {
     "name": "stdout",
     "output_type": "stream",
     "text": [
      "Train Loss: 0.9715 | Val Loss: 0.9635 | Val Accuracy: 0.7784\n",
      "\n",
      "Epoch 4\n"
     ]
    },
    {
     "name": "stderr",
     "output_type": "stream",
     "text": [
      "100%|██████████| 118/118 [00:06<00:00, 19.28it/s]\n"
     ]
    },
    {
     "name": "stdout",
     "output_type": "stream",
     "text": [
      "Train Loss: 0.9361 | Val Loss: 0.9345 | Val Accuracy: 0.8072\n",
      "\n",
      "Epoch 5\n"
     ]
    },
    {
     "name": "stderr",
     "output_type": "stream",
     "text": [
      "100%|██████████| 118/118 [00:06<00:00, 19.58it/s]\n"
     ]
    },
    {
     "name": "stdout",
     "output_type": "stream",
     "text": [
      "Train Loss: 0.9117 | Val Loss: 0.9255 | Val Accuracy: 0.8129\n",
      "\n",
      "Epoch 6\n"
     ]
    },
    {
     "name": "stderr",
     "output_type": "stream",
     "text": [
      "100%|██████████| 118/118 [00:06<00:00, 18.40it/s]\n"
     ]
    },
    {
     "name": "stdout",
     "output_type": "stream",
     "text": [
      "Train Loss: 0.8998 | Val Loss: 0.9091 | Val Accuracy: 0.8308\n",
      "\n",
      "Epoch 7\n"
     ]
    },
    {
     "name": "stderr",
     "output_type": "stream",
     "text": [
      "100%|██████████| 118/118 [00:06<00:00, 19.36it/s]\n"
     ]
    },
    {
     "name": "stdout",
     "output_type": "stream",
     "text": [
      "Train Loss: 0.8921 | Val Loss: 0.9082 | Val Accuracy: 0.8308\n",
      "\n",
      "Epoch 8\n"
     ]
    },
    {
     "name": "stderr",
     "output_type": "stream",
     "text": [
      "100%|██████████| 118/118 [00:06<00:00, 19.44it/s]\n"
     ]
    },
    {
     "name": "stdout",
     "output_type": "stream",
     "text": [
      "Train Loss: 0.8798 | Val Loss: 0.9030 | Val Accuracy: 0.8353\n",
      "\n",
      "Epoch 9\n"
     ]
    },
    {
     "name": "stderr",
     "output_type": "stream",
     "text": [
      "100%|██████████| 118/118 [00:07<00:00, 16.22it/s]\n"
     ]
    },
    {
     "name": "stdout",
     "output_type": "stream",
     "text": [
      "Train Loss: 0.8760 | Val Loss: 0.9025 | Val Accuracy: 0.8371\n",
      "\n",
      "Epoch 10\n"
     ]
    },
    {
     "name": "stderr",
     "output_type": "stream",
     "text": [
      "100%|██████████| 118/118 [00:08<00:00, 13.25it/s]\n"
     ]
    },
    {
     "name": "stdout",
     "output_type": "stream",
     "text": [
      "Train Loss: 0.8725 | Val Loss: 0.9068 | Val Accuracy: 0.8320\n",
      "\n",
      "Epoch 11\n"
     ]
    },
    {
     "name": "stderr",
     "output_type": "stream",
     "text": [
      "100%|██████████| 118/118 [00:08<00:00, 13.50it/s]\n"
     ]
    },
    {
     "name": "stdout",
     "output_type": "stream",
     "text": [
      "Train Loss: 0.8675 | Val Loss: 0.8929 | Val Accuracy: 0.8478\n",
      "\n",
      "Epoch 12\n"
     ]
    },
    {
     "name": "stderr",
     "output_type": "stream",
     "text": [
      "100%|██████████| 118/118 [00:06<00:00, 19.41it/s]\n"
     ]
    },
    {
     "name": "stdout",
     "output_type": "stream",
     "text": [
      "Train Loss: 0.8701 | Val Loss: 0.8934 | Val Accuracy: 0.8474\n",
      "\n",
      "Epoch 13\n"
     ]
    },
    {
     "name": "stderr",
     "output_type": "stream",
     "text": [
      "100%|██████████| 118/118 [00:06<00:00, 18.52it/s]\n"
     ]
    },
    {
     "name": "stdout",
     "output_type": "stream",
     "text": [
      "Train Loss: 0.8599 | Val Loss: 0.8854 | Val Accuracy: 0.8557\n",
      "\n",
      "Epoch 14\n"
     ]
    },
    {
     "name": "stderr",
     "output_type": "stream",
     "text": [
      "100%|██████████| 118/118 [00:06<00:00, 19.47it/s]\n"
     ]
    },
    {
     "name": "stdout",
     "output_type": "stream",
     "text": [
      "Train Loss: 0.8581 | Val Loss: 0.8798 | Val Accuracy: 0.8611\n",
      "\n",
      "Epoch 15\n"
     ]
    },
    {
     "name": "stderr",
     "output_type": "stream",
     "text": [
      "100%|██████████| 118/118 [00:06<00:00, 16.89it/s]\n"
     ]
    },
    {
     "name": "stdout",
     "output_type": "stream",
     "text": [
      "Train Loss: 0.8622 | Val Loss: 0.8841 | Val Accuracy: 0.8567\n",
      "\n",
      "\n",
      "🔄 Training: 1LSTM\n",
      "Epoch 1\n"
     ]
    },
    {
     "name": "stderr",
     "output_type": "stream",
     "text": [
      "100%|██████████| 118/118 [00:04<00:00, 28.86it/s]\n"
     ]
    },
    {
     "name": "stdout",
     "output_type": "stream",
     "text": [
      "Train Loss: 1.2385 | Val Loss: 1.0363 | Val Accuracy: 0.7105\n",
      "\n",
      "Epoch 2\n"
     ]
    },
    {
     "name": "stderr",
     "output_type": "stream",
     "text": [
      "100%|██████████| 118/118 [00:04<00:00, 28.78it/s]\n"
     ]
    },
    {
     "name": "stdout",
     "output_type": "stream",
     "text": [
      "Train Loss: 0.9723 | Val Loss: 0.9350 | Val Accuracy: 0.8121\n",
      "\n",
      "Epoch 3\n"
     ]
    },
    {
     "name": "stderr",
     "output_type": "stream",
     "text": [
      "100%|██████████| 118/118 [00:03<00:00, 30.24it/s]\n"
     ]
    },
    {
     "name": "stdout",
     "output_type": "stream",
     "text": [
      "Train Loss: 0.9088 | Val Loss: 0.9013 | Val Accuracy: 0.8405\n",
      "\n",
      "Epoch 4\n"
     ]
    },
    {
     "name": "stderr",
     "output_type": "stream",
     "text": [
      "100%|██████████| 118/118 [00:04<00:00, 28.78it/s]\n"
     ]
    },
    {
     "name": "stdout",
     "output_type": "stream",
     "text": [
      "Train Loss: 0.8810 | Val Loss: 0.8861 | Val Accuracy: 0.8568\n",
      "\n",
      "Epoch 5\n"
     ]
    },
    {
     "name": "stderr",
     "output_type": "stream",
     "text": [
      "100%|██████████| 118/118 [00:04<00:00, 25.36it/s]\n"
     ]
    },
    {
     "name": "stdout",
     "output_type": "stream",
     "text": [
      "Train Loss: 0.8619 | Val Loss: 0.8808 | Val Accuracy: 0.8613\n",
      "\n",
      "Epoch 6\n"
     ]
    },
    {
     "name": "stderr",
     "output_type": "stream",
     "text": [
      "100%|██████████| 118/118 [00:04<00:00, 27.54it/s]\n"
     ]
    },
    {
     "name": "stdout",
     "output_type": "stream",
     "text": [
      "Train Loss: 0.8509 | Val Loss: 0.8725 | Val Accuracy: 0.8695\n",
      "\n",
      "Epoch 7\n"
     ]
    },
    {
     "name": "stderr",
     "output_type": "stream",
     "text": [
      "100%|██████████| 118/118 [00:04<00:00, 28.62it/s]\n"
     ]
    },
    {
     "name": "stdout",
     "output_type": "stream",
     "text": [
      "Train Loss: 0.8412 | Val Loss: 0.8702 | Val Accuracy: 0.8716\n",
      "\n",
      "Epoch 8\n"
     ]
    },
    {
     "name": "stderr",
     "output_type": "stream",
     "text": [
      "100%|██████████| 118/118 [00:04<00:00, 28.48it/s]\n"
     ]
    },
    {
     "name": "stdout",
     "output_type": "stream",
     "text": [
      "Train Loss: 0.8345 | Val Loss: 0.8705 | Val Accuracy: 0.8718\n",
      "\n",
      "Epoch 9\n"
     ]
    },
    {
     "name": "stderr",
     "output_type": "stream",
     "text": [
      "100%|██████████| 118/118 [00:03<00:00, 31.00it/s]\n"
     ]
    },
    {
     "name": "stdout",
     "output_type": "stream",
     "text": [
      "Train Loss: 0.8287 | Val Loss: 0.8631 | Val Accuracy: 0.8787\n",
      "\n",
      "Epoch 10\n"
     ]
    },
    {
     "name": "stderr",
     "output_type": "stream",
     "text": [
      "100%|██████████| 118/118 [00:03<00:00, 29.91it/s]\n"
     ]
    },
    {
     "name": "stdout",
     "output_type": "stream",
     "text": [
      "Train Loss: 0.8231 | Val Loss: 0.8638 | Val Accuracy: 0.8792\n",
      "\n",
      "Epoch 11\n"
     ]
    },
    {
     "name": "stderr",
     "output_type": "stream",
     "text": [
      "100%|██████████| 118/118 [00:03<00:00, 29.57it/s]\n"
     ]
    },
    {
     "name": "stdout",
     "output_type": "stream",
     "text": [
      "Train Loss: 0.8206 | Val Loss: 0.8612 | Val Accuracy: 0.8805\n",
      "\n",
      "Epoch 12\n"
     ]
    },
    {
     "name": "stderr",
     "output_type": "stream",
     "text": [
      "100%|██████████| 118/118 [00:03<00:00, 30.24it/s]\n"
     ]
    },
    {
     "name": "stdout",
     "output_type": "stream",
     "text": [
      "Train Loss: 0.8167 | Val Loss: 0.8581 | Val Accuracy: 0.8833\n",
      "\n",
      "Epoch 13\n"
     ]
    },
    {
     "name": "stderr",
     "output_type": "stream",
     "text": [
      "100%|██████████| 118/118 [00:03<00:00, 30.61it/s]\n"
     ]
    },
    {
     "name": "stdout",
     "output_type": "stream",
     "text": [
      "Train Loss: 0.8135 | Val Loss: 0.8582 | Val Accuracy: 0.8846\n",
      "\n",
      "Epoch 14\n"
     ]
    },
    {
     "name": "stderr",
     "output_type": "stream",
     "text": [
      "100%|██████████| 118/118 [00:04<00:00, 27.96it/s]\n"
     ]
    },
    {
     "name": "stdout",
     "output_type": "stream",
     "text": [
      "Train Loss: 0.8113 | Val Loss: 0.8567 | Val Accuracy: 0.8843\n",
      "\n",
      "Epoch 15\n"
     ]
    },
    {
     "name": "stderr",
     "output_type": "stream",
     "text": [
      "100%|██████████| 118/118 [00:04<00:00, 29.11it/s]\n"
     ]
    },
    {
     "name": "stdout",
     "output_type": "stream",
     "text": [
      "Train Loss: 0.8095 | Val Loss: 0.8565 | Val Accuracy: 0.8859\n",
      "\n",
      "\n",
      "🔄 Training: 1Bi-LSTM\n",
      "Epoch 1\n"
     ]
    },
    {
     "name": "stderr",
     "output_type": "stream",
     "text": [
      "100%|██████████| 118/118 [00:04<00:00, 27.17it/s]\n"
     ]
    },
    {
     "name": "stdout",
     "output_type": "stream",
     "text": [
      "Train Loss: 1.2642 | Val Loss: 1.0614 | Val Accuracy: 0.6859\n",
      "\n",
      "Epoch 2\n"
     ]
    },
    {
     "name": "stderr",
     "output_type": "stream",
     "text": [
      "100%|██████████| 118/118 [00:04<00:00, 27.52it/s]\n"
     ]
    },
    {
     "name": "stdout",
     "output_type": "stream",
     "text": [
      "Train Loss: 0.9814 | Val Loss: 0.9370 | Val Accuracy: 0.8067\n",
      "\n",
      "Epoch 3\n"
     ]
    },
    {
     "name": "stderr",
     "output_type": "stream",
     "text": [
      "100%|██████████| 118/118 [00:04<00:00, 28.45it/s]\n"
     ]
    },
    {
     "name": "stdout",
     "output_type": "stream",
     "text": [
      "Train Loss: 0.9100 | Val Loss: 0.9086 | Val Accuracy: 0.8332\n",
      "\n",
      "Epoch 4\n"
     ]
    },
    {
     "name": "stderr",
     "output_type": "stream",
     "text": [
      "100%|██████████| 118/118 [00:04<00:00, 27.64it/s]\n"
     ]
    },
    {
     "name": "stdout",
     "output_type": "stream",
     "text": [
      "Train Loss: 0.8801 | Val Loss: 0.8891 | Val Accuracy: 0.8522\n",
      "\n",
      "Epoch 5\n"
     ]
    },
    {
     "name": "stderr",
     "output_type": "stream",
     "text": [
      "100%|██████████| 118/118 [00:05<00:00, 20.07it/s]\n"
     ]
    },
    {
     "name": "stdout",
     "output_type": "stream",
     "text": [
      "Train Loss: 0.8622 | Val Loss: 0.8800 | Val Accuracy: 0.8622\n",
      "\n",
      "Epoch 6\n"
     ]
    },
    {
     "name": "stderr",
     "output_type": "stream",
     "text": [
      "100%|██████████| 118/118 [00:05<00:00, 23.15it/s]\n"
     ]
    },
    {
     "name": "stdout",
     "output_type": "stream",
     "text": [
      "Train Loss: 0.8502 | Val Loss: 0.8757 | Val Accuracy: 0.8651\n",
      "\n",
      "Epoch 7\n"
     ]
    },
    {
     "name": "stderr",
     "output_type": "stream",
     "text": [
      "100%|██████████| 118/118 [00:04<00:00, 27.40it/s]\n"
     ]
    },
    {
     "name": "stdout",
     "output_type": "stream",
     "text": [
      "Train Loss: 0.8420 | Val Loss: 0.8694 | Val Accuracy: 0.8728\n",
      "\n",
      "Epoch 8\n"
     ]
    },
    {
     "name": "stderr",
     "output_type": "stream",
     "text": [
      "100%|██████████| 118/118 [00:04<00:00, 28.36it/s]\n"
     ]
    },
    {
     "name": "stdout",
     "output_type": "stream",
     "text": [
      "Train Loss: 0.8348 | Val Loss: 0.8680 | Val Accuracy: 0.8739\n",
      "\n",
      "Epoch 9\n"
     ]
    },
    {
     "name": "stderr",
     "output_type": "stream",
     "text": [
      "100%|██████████| 118/118 [00:04<00:00, 27.71it/s]\n"
     ]
    },
    {
     "name": "stdout",
     "output_type": "stream",
     "text": [
      "Train Loss: 0.8288 | Val Loss: 0.8646 | Val Accuracy: 0.8755\n",
      "\n",
      "Epoch 10\n"
     ]
    },
    {
     "name": "stderr",
     "output_type": "stream",
     "text": [
      "100%|██████████| 118/118 [00:05<00:00, 19.97it/s]\n"
     ]
    },
    {
     "name": "stdout",
     "output_type": "stream",
     "text": [
      "Train Loss: 0.8248 | Val Loss: 0.8633 | Val Accuracy: 0.8783\n",
      "\n",
      "Epoch 11\n"
     ]
    },
    {
     "name": "stderr",
     "output_type": "stream",
     "text": [
      "100%|██████████| 118/118 [00:07<00:00, 15.27it/s]\n"
     ]
    },
    {
     "name": "stdout",
     "output_type": "stream",
     "text": [
      "Train Loss: 0.8202 | Val Loss: 0.8617 | Val Accuracy: 0.8797\n",
      "\n",
      "Epoch 12\n"
     ]
    },
    {
     "name": "stderr",
     "output_type": "stream",
     "text": [
      "100%|██████████| 118/118 [00:04<00:00, 27.56it/s]\n"
     ]
    },
    {
     "name": "stdout",
     "output_type": "stream",
     "text": [
      "Train Loss: 0.8171 | Val Loss: 0.8635 | Val Accuracy: 0.8772\n",
      "\n",
      "Epoch 13\n"
     ]
    },
    {
     "name": "stderr",
     "output_type": "stream",
     "text": [
      "100%|██████████| 118/118 [00:04<00:00, 28.32it/s]\n"
     ]
    },
    {
     "name": "stdout",
     "output_type": "stream",
     "text": [
      "Train Loss: 0.8148 | Val Loss: 0.8620 | Val Accuracy: 0.8793\n",
      "\n",
      "Epoch 14\n"
     ]
    },
    {
     "name": "stderr",
     "output_type": "stream",
     "text": [
      "100%|██████████| 118/118 [00:04<00:00, 24.84it/s]\n"
     ]
    },
    {
     "name": "stdout",
     "output_type": "stream",
     "text": [
      "Train Loss: 0.8118 | Val Loss: 0.8591 | Val Accuracy: 0.8812\n",
      "\n",
      "Epoch 15\n"
     ]
    },
    {
     "name": "stderr",
     "output_type": "stream",
     "text": [
      "100%|██████████| 118/118 [00:04<00:00, 28.04it/s]\n"
     ]
    },
    {
     "name": "stdout",
     "output_type": "stream",
     "text": [
      "Train Loss: 0.8092 | Val Loss: 0.8595 | Val Accuracy: 0.8812\n",
      "\n",
      "\n",
      "🔄 Training: 2Bi-LSTM\n",
      "Epoch 1\n"
     ]
    },
    {
     "name": "stderr",
     "output_type": "stream",
     "text": [
      "100%|██████████| 118/118 [00:10<00:00, 10.85it/s]\n"
     ]
    },
    {
     "name": "stdout",
     "output_type": "stream",
     "text": [
      "Train Loss: 1.1963 | Val Loss: 1.0044 | Val Accuracy: 0.7392\n",
      "\n",
      "Epoch 2\n"
     ]
    },
    {
     "name": "stderr",
     "output_type": "stream",
     "text": [
      "100%|██████████| 118/118 [00:07<00:00, 15.49it/s]\n"
     ]
    },
    {
     "name": "stdout",
     "output_type": "stream",
     "text": [
      "Train Loss: 0.9465 | Val Loss: 0.9130 | Val Accuracy: 0.8289\n",
      "\n",
      "Epoch 3\n"
     ]
    },
    {
     "name": "stderr",
     "output_type": "stream",
     "text": [
      "100%|██████████| 118/118 [00:06<00:00, 18.02it/s]\n"
     ]
    },
    {
     "name": "stdout",
     "output_type": "stream",
     "text": [
      "Train Loss: 0.8916 | Val Loss: 0.8974 | Val Accuracy: 0.8434\n",
      "\n",
      "Epoch 4\n"
     ]
    },
    {
     "name": "stderr",
     "output_type": "stream",
     "text": [
      "100%|██████████| 118/118 [00:06<00:00, 18.15it/s]\n"
     ]
    },
    {
     "name": "stdout",
     "output_type": "stream",
     "text": [
      "Train Loss: 0.8684 | Val Loss: 0.8800 | Val Accuracy: 0.8600\n",
      "\n",
      "Epoch 5\n"
     ]
    },
    {
     "name": "stderr",
     "output_type": "stream",
     "text": [
      "100%|██████████| 118/118 [00:11<00:00, 10.17it/s]\n"
     ]
    },
    {
     "name": "stdout",
     "output_type": "stream",
     "text": [
      "Train Loss: 0.8528 | Val Loss: 0.8752 | Val Accuracy: 0.8658\n",
      "\n",
      "Epoch 6\n"
     ]
    },
    {
     "name": "stderr",
     "output_type": "stream",
     "text": [
      "100%|██████████| 118/118 [00:09<00:00, 12.58it/s]\n"
     ]
    },
    {
     "name": "stdout",
     "output_type": "stream",
     "text": [
      "Train Loss: 0.8421 | Val Loss: 0.8701 | Val Accuracy: 0.8709\n",
      "\n",
      "Epoch 7\n"
     ]
    },
    {
     "name": "stderr",
     "output_type": "stream",
     "text": [
      "100%|██████████| 118/118 [00:06<00:00, 18.19it/s]\n"
     ]
    },
    {
     "name": "stdout",
     "output_type": "stream",
     "text": [
      "Train Loss: 0.8342 | Val Loss: 0.8684 | Val Accuracy: 0.8730\n",
      "\n",
      "Epoch 8\n"
     ]
    },
    {
     "name": "stderr",
     "output_type": "stream",
     "text": [
      "100%|██████████| 118/118 [00:06<00:00, 18.00it/s]\n"
     ]
    },
    {
     "name": "stdout",
     "output_type": "stream",
     "text": [
      "Train Loss: 0.8283 | Val Loss: 0.8639 | Val Accuracy: 0.8779\n",
      "\n",
      "Epoch 9\n"
     ]
    },
    {
     "name": "stderr",
     "output_type": "stream",
     "text": [
      "100%|██████████| 118/118 [00:08<00:00, 14.27it/s]\n"
     ]
    },
    {
     "name": "stdout",
     "output_type": "stream",
     "text": [
      "Train Loss: 0.8228 | Val Loss: 0.8601 | Val Accuracy: 0.8799\n",
      "\n",
      "Epoch 10\n"
     ]
    },
    {
     "name": "stderr",
     "output_type": "stream",
     "text": [
      "100%|██████████| 118/118 [00:06<00:00, 17.86it/s]\n"
     ]
    },
    {
     "name": "stdout",
     "output_type": "stream",
     "text": [
      "Train Loss: 0.8191 | Val Loss: 0.8585 | Val Accuracy: 0.8841\n",
      "\n",
      "Epoch 11\n"
     ]
    },
    {
     "name": "stderr",
     "output_type": "stream",
     "text": [
      "100%|██████████| 118/118 [00:06<00:00, 18.22it/s]\n"
     ]
    },
    {
     "name": "stdout",
     "output_type": "stream",
     "text": [
      "Train Loss: 0.8174 | Val Loss: 0.8601 | Val Accuracy: 0.8808\n",
      "\n",
      "Epoch 12\n"
     ]
    },
    {
     "name": "stderr",
     "output_type": "stream",
     "text": [
      "100%|██████████| 118/118 [00:08<00:00, 13.80it/s]\n"
     ]
    },
    {
     "name": "stdout",
     "output_type": "stream",
     "text": [
      "Train Loss: 0.8134 | Val Loss: 0.8568 | Val Accuracy: 0.8837\n",
      "\n",
      "Epoch 13\n"
     ]
    },
    {
     "name": "stderr",
     "output_type": "stream",
     "text": [
      "100%|██████████| 118/118 [00:12<00:00,  9.47it/s]\n"
     ]
    },
    {
     "name": "stdout",
     "output_type": "stream",
     "text": [
      "Train Loss: 0.8107 | Val Loss: 0.8607 | Val Accuracy: 0.8804\n",
      "\n",
      "Epoch 14\n"
     ]
    },
    {
     "name": "stderr",
     "output_type": "stream",
     "text": [
      "100%|██████████| 118/118 [00:06<00:00, 18.06it/s]\n"
     ]
    },
    {
     "name": "stdout",
     "output_type": "stream",
     "text": [
      "Train Loss: 0.8101 | Val Loss: 0.8571 | Val Accuracy: 0.8838\n",
      "\n",
      "Epoch 15\n"
     ]
    },
    {
     "name": "stderr",
     "output_type": "stream",
     "text": [
      "100%|██████████| 118/118 [00:06<00:00, 18.29it/s]\n"
     ]
    },
    {
     "name": "stdout",
     "output_type": "stream",
     "text": [
      "Train Loss: 0.8068 | Val Loss: 0.8579 | Val Accuracy: 0.8841\n",
      "\n"
     ]
    }
   ],
   "source": [
    "results_table, preds_dict = run_experiments(model_configs)"
   ]
  },
  {
   "cell_type": "markdown",
   "id": "c35c3e66",
   "metadata": {},
   "source": [
    "### Κατασκευή Πίνακα Ερωτήματος Γ.1 "
   ]
  },
  {
   "cell_type": "code",
   "execution_count": 179,
   "id": "0b6e1443",
   "metadata": {},
   "outputs": [
    {
     "data": {
      "text/html": [
       "<div>\n",
       "<style scoped>\n",
       "    .dataframe tbody tr th:only-of-type {\n",
       "        vertical-align: middle;\n",
       "    }\n",
       "\n",
       "    .dataframe tbody tr th {\n",
       "        vertical-align: top;\n",
       "    }\n",
       "\n",
       "    .dataframe thead th {\n",
       "        text-align: right;\n",
       "    }\n",
       "</style>\n",
       "<table border=\"1\" class=\"dataframe\">\n",
       "  <thead>\n",
       "    <tr style=\"text-align: right;\">\n",
       "      <th></th>\n",
       "      <th>1RNN</th>\n",
       "      <th>1Bi-RNN</th>\n",
       "      <th>2Bi-RNN</th>\n",
       "      <th>1LSTM</th>\n",
       "      <th>1Bi-LSTM</th>\n",
       "      <th>2Bi-LSTM</th>\n",
       "    </tr>\n",
       "  </thead>\n",
       "  <tbody>\n",
       "    <tr>\n",
       "      <th>Accuracy</th>\n",
       "      <td>86.64</td>\n",
       "      <td>86.80</td>\n",
       "      <td>85.67</td>\n",
       "      <td>88.59</td>\n",
       "      <td>88.12</td>\n",
       "      <td>88.41</td>\n",
       "    </tr>\n",
       "    <tr>\n",
       "      <th>Parameters</th>\n",
       "      <td>2,136,284</td>\n",
       "      <td>2,147,164</td>\n",
       "      <td>2,171,996</td>\n",
       "      <td>2,168,156</td>\n",
       "      <td>2,210,908</td>\n",
       "      <td>2,310,236</td>\n",
       "    </tr>\n",
       "    <tr>\n",
       "      <th>Time cost</th>\n",
       "      <td>3.42</td>\n",
       "      <td>4.47</td>\n",
       "      <td>6.84</td>\n",
       "      <td>4.27</td>\n",
       "      <td>4.98</td>\n",
       "      <td>8.32</td>\n",
       "    </tr>\n",
       "  </tbody>\n",
       "</table>\n",
       "</div>"
      ],
      "text/plain": [
       "                 1RNN    1Bi-RNN    2Bi-RNN      1LSTM   1Bi-LSTM   2Bi-LSTM\n",
       "Accuracy        86.64      86.80      85.67      88.59      88.12      88.41\n",
       "Parameters  2,136,284  2,147,164  2,171,996  2,168,156  2,210,908  2,310,236\n",
       "Time cost        3.42       4.47       6.84       4.27       4.98       8.32"
      ]
     },
     "execution_count": 179,
     "metadata": {},
     "output_type": "execute_result"
    }
   ],
   "source": [
    "# Transpose results to match the table format in the assignment\n",
    "df_transposed = results_table.set_index(\"Model\").T\n",
    "\n",
    "# Round accuracy to 2 decimals, format numbers\n",
    "df_display = pd.DataFrame({\n",
    "    col: [\n",
    "        f\"{df_transposed.loc['Accuracy', col]:.2f}\",\n",
    "        f\"{int(df_transposed.loc['Parameters', col]):,}\",\n",
    "        f\"{df_transposed.loc['Time (sec)', col]:.2f}\"\n",
    "    ]\n",
    "    for col in df_transposed.columns\n",
    "}, index=[\"Accuracy\", \"Parameters\", \"Time cost\"])\n",
    "\n",
    "df_display"
   ]
  },
  {
   "cell_type": "markdown",
   "id": "669d79e6",
   "metadata": {},
   "source": [
    "### Ερώτημα Γ.1 – Συμπεράσματα\n",
    "\n",
    "Από τη συγκριτική μελέτη των έξι μοντέλων (RNN & LSTM, με/χωρίς bidirectionality και 1 ή 2 στρώματα) προκύπτουν τα εξής γενικά συμπεράσματα:\n",
    "\n",
    "- **Η αύξηση της ακρίβειας συνοδεύεται σταθερά από αύξηση του χρόνου εκπαίδευσης και της πολυπλοκότητας του μοντέλου** (παραμέτρων). Το μοντέλο `2Bi-LSTM`, για παράδειγμα, είχε το μεγαλύτερο accuracy αλλά και το υψηλότερο κόστος χρόνου και αριθμό παραμέτρων.\n",
    "\n",
    "- **Η τελική ακρίβεια όλων των μοντέλων ήταν πολύ κοντά** (από 85.88% έως 88.59%). Αυτό σημαίνει πως δεν είναι εύκολο να εξαχθούν απόλυτα συμπεράσματα υπέρ κάποιας αρχιτεκτονικής.\n",
    "\n",
    "- **Η χρήση bidirectional ροής και δεύτερου στρώματος δεν φαίνεται να προσφέρει σταθερά πλεονεκτήματα ως προς την ακρίβεια**. Ορισμένα Bi-models είχαν ελαφρώς χαμηλότερη ακρίβεια από τα απλά.\n",
    "\n",
    "📌 Συμπερασματικά, η επιλογή του κατάλληλου μοντέλου εξαρτάται κυρίως από **τις ανάγκες του συστήματος**: αν προέχει η ακρίβεια ή η ταχύτητα/απλότητα.\n"
   ]
  },
  {
   "cell_type": "markdown",
   "id": "fbd18463",
   "metadata": {},
   "source": [
    "## 🧩 Ερώτημα Γ.2 – Εντοπισμός Κοινών Λανθασμένων Προβλέψεων\n",
    "\n",
    "Στόχος του ερωτήματος είναι να εντοπίσουμε περιπτώσεις όπου **όλα τα μοντέλα** αποτυγχάνουν να προβλέψουν σωστά την κατηγορία ενός κειμένου."
   ]
  },
  {
   "cell_type": "markdown",
   "id": "1e72db9b",
   "metadata": {},
   "source": [
    "### Δημιουργία DataFrame με Όλες τις Προβλέψεις\n",
    "\n",
    "Για κάθε sample του test set, δημιουργούμε ένα νέο `DataFrame` που περιλαμβάνει:\n",
    "\n",
    "- Το πλήρες κείμενο (Title + Description)\n",
    "- Το ground truth label (0–3)\n",
    "- Το κατηγορικό όνομα της κατηγορίας (`World`, `Sports`, κ.λπ.)\n",
    "- Τις προβλέψεις κάθε μοντέλου (`1RNN`, `1Bi-RNN`, ...)"
   ]
  },
  {
   "cell_type": "code",
   "execution_count": 180,
   "id": "17aea087",
   "metadata": {},
   "outputs": [],
   "source": [
    "# Ground truth labels (0–3)\n",
    "y_true = test_data[\"Class Index\"].values - 1\n",
    "\n",
    "# Map index → category\n",
    "label_names = [\"World\", \"Sports\", \"Business\", \"Sci/Tech\"]\n",
    "\n",
    "# Δημιουργία βασικού DataFrame\n",
    "df_errors = pd.DataFrame({\n",
    "    \"text\": test_data['Title'] + ' ' + test_data['Description'],\n",
    "    \"true_label\": y_true\n",
    "})\n",
    "\n",
    "# Προσθήκη προβλέψεων από όλα τα μοντέλα\n",
    "for model_name, preds in preds_dict.items():\n",
    "    df_errors[model_name] = preds\n",
    "\n",
    "# Αντιστοιχία σε κατηγορία (text)\n",
    "df_errors[\"true_category\"] = df_errors[\"true_label\"].apply(lambda i: label_names[i])\n",
    "for model_name in preds_dict:\n",
    "    df_errors[model_name] = df_errors[model_name].apply(lambda i: label_names[i])\n"
   ]
  },
  {
   "cell_type": "markdown",
   "id": "6d7600e5",
   "metadata": {},
   "source": [
    "### ❌ Εντοπισμός Κοινών Λαθών\n",
    "Ορίζεται ως κοινό λάθος όταν όλα τα μοντέλα διαφωνούν με την πραγματική κατηγορία:"
   ]
  },
  {
   "cell_type": "code",
   "execution_count": 182,
   "id": "2781cc1c",
   "metadata": {},
   "outputs": [
    {
     "name": "stdout",
     "output_type": "stream",
     "text": [
      " * Συνολικά κοινά λάθη από όλα τα μοντέλα: 333\n",
      "\n",
      " * Κατανομή κοινών λαθών ανά κατηγορία:\n",
      "true_category\n",
      "Business    125\n",
      "World       116\n",
      "Sci/Tech     77\n",
      "Sports       15\n",
      "Name: count, dtype: int64\n"
     ]
    }
   ],
   "source": [
    "from collections import Counter\n",
    "\n",
    "\n",
    "def majority_vote(row):\n",
    "    preds = [row[m] for m in preds_dict]\n",
    "    return Counter(preds).most_common(1)[0][0]\n",
    "\n",
    "\n",
    "# Βρίσκουμε πού όλα τα μοντέλα κάνουν λάθος\n",
    "all_wrong_mask = df_errors.apply(\n",
    "    lambda row: all(row[m] != row[\"true_category\"] for m in preds_dict), \n",
    "    axis=1\n",
    ")\n",
    "\n",
    "# Φιλτράρουμε τα κοινά λάθη\n",
    "df_all_wrong = df_errors[all_wrong_mask].copy()\n",
    "\n",
    "# Υπολογίζουμε majority vote για κάθε κοινό λάθος\n",
    "df_all_wrong[\"majority_vote\"] = df_all_wrong.apply(majority_vote, axis=1)\n",
    "\n",
    "print(f\" * Συνολικά κοινά λάθη από όλα τα μοντέλα: {len(df_all_wrong)}\")\n",
    "print(\"\\n * Κατανομή κοινών λαθών ανά κατηγορία:\")\n",
    "print(df_all_wrong[\"true_category\"].value_counts())"
   ]
  },
  {
   "cell_type": "code",
   "execution_count": 183,
   "id": "a58cb6d1",
   "metadata": {},
   "outputs": [
    {
     "data": {
      "text/html": [
       "<div>\n",
       "<style scoped>\n",
       "    .dataframe tbody tr th:only-of-type {\n",
       "        vertical-align: middle;\n",
       "    }\n",
       "\n",
       "    .dataframe tbody tr th {\n",
       "        vertical-align: top;\n",
       "    }\n",
       "\n",
       "    .dataframe thead th {\n",
       "        text-align: right;\n",
       "    }\n",
       "</style>\n",
       "<table border=\"1\" class=\"dataframe\">\n",
       "  <thead>\n",
       "    <tr style=\"text-align: right;\">\n",
       "      <th></th>\n",
       "      <th>text</th>\n",
       "      <th>true_category</th>\n",
       "      <th>1RNN</th>\n",
       "      <th>1Bi-RNN</th>\n",
       "      <th>2Bi-RNN</th>\n",
       "      <th>1LSTM</th>\n",
       "      <th>1Bi-LSTM</th>\n",
       "      <th>2Bi-LSTM</th>\n",
       "      <th>majority_vote</th>\n",
       "    </tr>\n",
       "  </thead>\n",
       "  <tbody>\n",
       "    <tr>\n",
       "      <th>79</th>\n",
       "      <td>Live: Olympics day four Richard Faulds and Ste...</td>\n",
       "      <td>World</td>\n",
       "      <td>Sports</td>\n",
       "      <td>Sports</td>\n",
       "      <td>Sports</td>\n",
       "      <td>Sports</td>\n",
       "      <td>Sports</td>\n",
       "      <td>Sports</td>\n",
       "      <td>Sports</td>\n",
       "    </tr>\n",
       "    <tr>\n",
       "      <th>83</th>\n",
       "      <td>Intel to delay product aimed for high-definiti...</td>\n",
       "      <td>Business</td>\n",
       "      <td>Sci/Tech</td>\n",
       "      <td>Sci/Tech</td>\n",
       "      <td>Sci/Tech</td>\n",
       "      <td>Sci/Tech</td>\n",
       "      <td>Sci/Tech</td>\n",
       "      <td>Sci/Tech</td>\n",
       "      <td>Sci/Tech</td>\n",
       "    </tr>\n",
       "    <tr>\n",
       "      <th>88</th>\n",
       "      <td>U.S. Misses Cut in Olympic 100 Free ATHENS, Gr...</td>\n",
       "      <td>World</td>\n",
       "      <td>Sports</td>\n",
       "      <td>Sports</td>\n",
       "      <td>Sports</td>\n",
       "      <td>Sports</td>\n",
       "      <td>Sports</td>\n",
       "      <td>Sports</td>\n",
       "      <td>Sports</td>\n",
       "    </tr>\n",
       "    <tr>\n",
       "      <th>89</th>\n",
       "      <td>Consumers Would Pay In Phone Proposal A propos...</td>\n",
       "      <td>Sci/Tech</td>\n",
       "      <td>Business</td>\n",
       "      <td>Business</td>\n",
       "      <td>Business</td>\n",
       "      <td>Business</td>\n",
       "      <td>Business</td>\n",
       "      <td>Business</td>\n",
       "      <td>Business</td>\n",
       "    </tr>\n",
       "    <tr>\n",
       "      <th>106</th>\n",
       "      <td>Stocks Climb on Drop in Consumer Prices NEW YO...</td>\n",
       "      <td>World</td>\n",
       "      <td>Business</td>\n",
       "      <td>Business</td>\n",
       "      <td>Business</td>\n",
       "      <td>Business</td>\n",
       "      <td>Business</td>\n",
       "      <td>Business</td>\n",
       "      <td>Business</td>\n",
       "    </tr>\n",
       "    <tr>\n",
       "      <th>110</th>\n",
       "      <td>Yahoo! Ups Ante for Small Businesses Web giant...</td>\n",
       "      <td>Business</td>\n",
       "      <td>Sci/Tech</td>\n",
       "      <td>Sci/Tech</td>\n",
       "      <td>Sci/Tech</td>\n",
       "      <td>Sci/Tech</td>\n",
       "      <td>Sci/Tech</td>\n",
       "      <td>Sci/Tech</td>\n",
       "      <td>Sci/Tech</td>\n",
       "    </tr>\n",
       "    <tr>\n",
       "      <th>120</th>\n",
       "      <td>Oil prices bubble to record high The price of ...</td>\n",
       "      <td>World</td>\n",
       "      <td>Business</td>\n",
       "      <td>Business</td>\n",
       "      <td>Business</td>\n",
       "      <td>Business</td>\n",
       "      <td>Business</td>\n",
       "      <td>Business</td>\n",
       "      <td>Business</td>\n",
       "    </tr>\n",
       "    <tr>\n",
       "      <th>154</th>\n",
       "      <td>Google Lowers Its IPO Price Range SAN JOSE, Ca...</td>\n",
       "      <td>World</td>\n",
       "      <td>Sci/Tech</td>\n",
       "      <td>Business</td>\n",
       "      <td>Sci/Tech</td>\n",
       "      <td>Business</td>\n",
       "      <td>Business</td>\n",
       "      <td>Sci/Tech</td>\n",
       "      <td>Sci/Tech</td>\n",
       "    </tr>\n",
       "    <tr>\n",
       "      <th>196</th>\n",
       "      <td>Stock Prices Climb Ahead of Google IPO NEW YOR...</td>\n",
       "      <td>World</td>\n",
       "      <td>Business</td>\n",
       "      <td>Business</td>\n",
       "      <td>Business</td>\n",
       "      <td>Business</td>\n",
       "      <td>Business</td>\n",
       "      <td>Business</td>\n",
       "      <td>Business</td>\n",
       "    </tr>\n",
       "    <tr>\n",
       "      <th>200</th>\n",
       "      <td>Strong Family Equals Strong Education Single m...</td>\n",
       "      <td>Sci/Tech</td>\n",
       "      <td>Business</td>\n",
       "      <td>World</td>\n",
       "      <td>Business</td>\n",
       "      <td>World</td>\n",
       "      <td>Business</td>\n",
       "      <td>World</td>\n",
       "      <td>Business</td>\n",
       "    </tr>\n",
       "  </tbody>\n",
       "</table>\n",
       "</div>"
      ],
      "text/plain": [
       "                                                  text true_category  \\\n",
       "79   Live: Olympics day four Richard Faulds and Ste...         World   \n",
       "83   Intel to delay product aimed for high-definiti...      Business   \n",
       "88   U.S. Misses Cut in Olympic 100 Free ATHENS, Gr...         World   \n",
       "89   Consumers Would Pay In Phone Proposal A propos...      Sci/Tech   \n",
       "106  Stocks Climb on Drop in Consumer Prices NEW YO...         World   \n",
       "110  Yahoo! Ups Ante for Small Businesses Web giant...      Business   \n",
       "120  Oil prices bubble to record high The price of ...         World   \n",
       "154  Google Lowers Its IPO Price Range SAN JOSE, Ca...         World   \n",
       "196  Stock Prices Climb Ahead of Google IPO NEW YOR...         World   \n",
       "200  Strong Family Equals Strong Education Single m...      Sci/Tech   \n",
       "\n",
       "         1RNN   1Bi-RNN   2Bi-RNN     1LSTM  1Bi-LSTM  2Bi-LSTM majority_vote  \n",
       "79     Sports    Sports    Sports    Sports    Sports    Sports        Sports  \n",
       "83   Sci/Tech  Sci/Tech  Sci/Tech  Sci/Tech  Sci/Tech  Sci/Tech      Sci/Tech  \n",
       "88     Sports    Sports    Sports    Sports    Sports    Sports        Sports  \n",
       "89   Business  Business  Business  Business  Business  Business      Business  \n",
       "106  Business  Business  Business  Business  Business  Business      Business  \n",
       "110  Sci/Tech  Sci/Tech  Sci/Tech  Sci/Tech  Sci/Tech  Sci/Tech      Sci/Tech  \n",
       "120  Business  Business  Business  Business  Business  Business      Business  \n",
       "154  Sci/Tech  Business  Sci/Tech  Business  Business  Sci/Tech      Sci/Tech  \n",
       "196  Business  Business  Business  Business  Business  Business      Business  \n",
       "200  Business     World  Business     World  Business     World      Business  "
      ]
     },
     "execution_count": 183,
     "metadata": {},
     "output_type": "execute_result"
    }
   ],
   "source": [
    "# Εμφάνιση πρώτων 10 κοινών λαθών με τις προβλέψεις\n",
    "df_all_wrong[[\"text\", \"true_category\", *preds_dict.keys(), \"majority_vote\"]].head(10)"
   ]
  },
  {
   "cell_type": "markdown",
   "id": "cedf41e9",
   "metadata": {},
   "source": [
    "### Ερώτημα Γ.2 – Συμπεράσματα\n",
    "\n",
    "Αναλύοντας τα δείγματα του test set στα οποία **όλα τα RNN-based μοντέλα έκαναν λάθος**, προκύπτουν τα εξής:\n",
    "\n",
    "- ❌ **Συνολικά 333 περιπτώσεις** προβλέφθηκαν λανθασμένα από όλα τα μοντέλα.\n",
    "\n",
    "- 📊 Η **κατανομή των κοινών λαθών** ανά κατηγορία έχει ιδιαίτερο ενδιαφέρον:\n",
    "  - `World`: 125 λάθη\n",
    "  - `Business`: 116 λάθη\n",
    "  - `Sci/Tech`: 77 λάθη\n",
    "  - `Sports`: **μόνο 15 λάθη**\n",
    "\n",
    "- ⚽ Η κατηγορία `Sports` έχει **πολύ λιγότερα κοινά λάθη**, κάτι που υποδηλώνει ότι τα μοντέλα αναγνωρίζουν πιο εύκολα τα αθλητικά κείμενα.\n",
    "\n",
    "- Στις περισσότερες περιπτώσεις που παρατηρήθηκε λάθος:\n",
    "  - **Στη πλειοψηφία τους τα μοντέλα συμφώνησαν** στο λάθος (π.χ. προέβλεψαν \"Business\" αντί \"World\").\n",
    "  - Η **πλειοψηφία των μοντέλων (majority vote)** απέδωσε το ίδιο λάθος label, υποδηλώνοντας κοινή αστοχία κατανόησης.\n",
    "\n",
    "- Συγκριτικά με τα μοντέλα του Β' μέρους (Naive Bayes & SVM), παρατηρούμε:\n",
    "  - Παρόμοια κατανομή λαθών.\n",
    "  - Αντίστοιχα χαρακτηριστικά δυσκολίας στις κατηγορίες `World` και `Business`.\n",
    "\n",
    "📌 Γενικό συμπέρασμα:\n",
    "> Παρότι τα RNN-based μοντέλα είναι πιο εξελιγμένα, αποτυγχάνουν σε **κείμενα με ασαφή ή επικαλυπτόμενα συμφραζόμενα**, και σε αρκετές περιπτώσεις η λανθασμένη πρόβλεψη είναι κοινή για όλα.\n"
   ]
  },
  {
   "cell_type": "markdown",
   "id": "51bacb72",
   "metadata": {},
   "source": [
    "## 🔠 Ερώτημα Γ.3 – Μεταβολή της παραμέτρου `MAX_WORDS`\n",
    "\n",
    "Σε αυτό το ερώτημα μεταβάλλεται η παράμετρος `MAX_WORDS` από **25 σε 50**, ώστε να επιτρέψουμε μεγαλύτερη πληροφορία ανά δείγμα κειμένου.\n",
    "\n",
    "---\n",
    "\n",
    "### 🎯 Σκοπός\n",
    "\n",
    "Να διερευνηθεί πώς επηρεάζεται:\n",
    "\n",
    "- Η **απόδοση των μοντέλων** (accuracy)\n",
    "- Ο **χρόνος εκπαίδευσης**\n",
    "- Η **πολυπλοκότητα του input** (καθώς τα sequences μεγαλώνουν)\n"
   ]
  },
  {
   "cell_type": "code",
   "execution_count": 184,
   "id": "d58dee41",
   "metadata": {},
   "outputs": [
    {
     "name": "stdout",
     "output_type": "stream",
     "text": [
      "\n",
      "🔄 Training: 1RNN\n",
      "Epoch 1\n"
     ]
    },
    {
     "name": "stderr",
     "output_type": "stream",
     "text": [
      "100%|██████████| 118/118 [00:05<00:00, 23.46it/s]\n"
     ]
    },
    {
     "name": "stdout",
     "output_type": "stream",
     "text": [
      "Train Loss: 1.3765 | Val Loss: 1.3508 | Val Accuracy: 0.3312\n",
      "\n",
      "Epoch 2\n"
     ]
    },
    {
     "name": "stderr",
     "output_type": "stream",
     "text": [
      "100%|██████████| 118/118 [00:04<00:00, 24.45it/s]\n"
     ]
    },
    {
     "name": "stdout",
     "output_type": "stream",
     "text": [
      "Train Loss: 1.3350 | Val Loss: 1.3147 | Val Accuracy: 0.3858\n",
      "\n",
      "Epoch 3\n"
     ]
    },
    {
     "name": "stderr",
     "output_type": "stream",
     "text": [
      "100%|██████████| 118/118 [00:04<00:00, 24.34it/s]\n"
     ]
    },
    {
     "name": "stdout",
     "output_type": "stream",
     "text": [
      "Train Loss: 1.2998 | Val Loss: 1.3028 | Val Accuracy: 0.3853\n",
      "\n",
      "Epoch 4\n"
     ]
    },
    {
     "name": "stderr",
     "output_type": "stream",
     "text": [
      "100%|██████████| 118/118 [00:04<00:00, 24.14it/s]\n"
     ]
    },
    {
     "name": "stdout",
     "output_type": "stream",
     "text": [
      "Train Loss: 1.3022 | Val Loss: 1.2859 | Val Accuracy: 0.4058\n",
      "\n",
      "Epoch 5\n"
     ]
    },
    {
     "name": "stderr",
     "output_type": "stream",
     "text": [
      "100%|██████████| 118/118 [00:06<00:00, 19.14it/s]\n"
     ]
    },
    {
     "name": "stdout",
     "output_type": "stream",
     "text": [
      "Train Loss: 1.2738 | Val Loss: 1.2727 | Val Accuracy: 0.4218\n",
      "\n",
      "Epoch 6\n"
     ]
    },
    {
     "name": "stderr",
     "output_type": "stream",
     "text": [
      "100%|██████████| 118/118 [00:05<00:00, 23.14it/s]\n"
     ]
    },
    {
     "name": "stdout",
     "output_type": "stream",
     "text": [
      "Train Loss: 1.2611 | Val Loss: 1.2595 | Val Accuracy: 0.4397\n",
      "\n",
      "Epoch 7\n"
     ]
    },
    {
     "name": "stderr",
     "output_type": "stream",
     "text": [
      "100%|██████████| 118/118 [00:04<00:00, 25.26it/s]\n"
     ]
    },
    {
     "name": "stdout",
     "output_type": "stream",
     "text": [
      "Train Loss: 1.2739 | Val Loss: 1.2661 | Val Accuracy: 0.4355\n",
      "\n",
      "Epoch 8\n"
     ]
    },
    {
     "name": "stderr",
     "output_type": "stream",
     "text": [
      "100%|██████████| 118/118 [00:04<00:00, 24.16it/s]\n"
     ]
    },
    {
     "name": "stdout",
     "output_type": "stream",
     "text": [
      "Train Loss: 1.2829 | Val Loss: 1.2809 | Val Accuracy: 0.4300\n",
      "\n",
      "Epoch 9\n"
     ]
    },
    {
     "name": "stderr",
     "output_type": "stream",
     "text": [
      "100%|██████████| 118/118 [00:04<00:00, 24.88it/s]\n"
     ]
    },
    {
     "name": "stdout",
     "output_type": "stream",
     "text": [
      "Train Loss: 1.2629 | Val Loss: 1.2297 | Val Accuracy: 0.4874\n",
      "\n",
      "Epoch 10\n"
     ]
    },
    {
     "name": "stderr",
     "output_type": "stream",
     "text": [
      "100%|██████████| 118/118 [00:04<00:00, 25.74it/s]\n"
     ]
    },
    {
     "name": "stdout",
     "output_type": "stream",
     "text": [
      "Train Loss: 1.2789 | Val Loss: 1.2759 | Val Accuracy: 0.4339\n",
      "\n",
      "Epoch 11\n"
     ]
    },
    {
     "name": "stderr",
     "output_type": "stream",
     "text": [
      "100%|██████████| 118/118 [00:04<00:00, 25.69it/s]\n"
     ]
    },
    {
     "name": "stdout",
     "output_type": "stream",
     "text": [
      "Train Loss: 1.2644 | Val Loss: 1.2605 | Val Accuracy: 0.4328\n",
      "\n",
      "Epoch 12\n"
     ]
    },
    {
     "name": "stderr",
     "output_type": "stream",
     "text": [
      "100%|██████████| 118/118 [00:04<00:00, 25.76it/s]\n"
     ]
    },
    {
     "name": "stdout",
     "output_type": "stream",
     "text": [
      "Train Loss: 1.2490 | Val Loss: 1.2511 | Val Accuracy: 0.4408\n",
      "\n",
      "Epoch 13\n"
     ]
    },
    {
     "name": "stderr",
     "output_type": "stream",
     "text": [
      "100%|██████████| 118/118 [00:04<00:00, 25.29it/s]\n"
     ]
    },
    {
     "name": "stdout",
     "output_type": "stream",
     "text": [
      "Train Loss: 1.2091 | Val Loss: 1.1665 | Val Accuracy: 0.5518\n",
      "\n",
      "Epoch 14\n"
     ]
    },
    {
     "name": "stderr",
     "output_type": "stream",
     "text": [
      "100%|██████████| 118/118 [00:05<00:00, 22.15it/s]\n"
     ]
    },
    {
     "name": "stdout",
     "output_type": "stream",
     "text": [
      "Train Loss: 1.2429 | Val Loss: 1.2772 | Val Accuracy: 0.4596\n",
      "\n",
      "Epoch 15\n"
     ]
    },
    {
     "name": "stderr",
     "output_type": "stream",
     "text": [
      "100%|██████████| 118/118 [00:04<00:00, 23.94it/s]\n"
     ]
    },
    {
     "name": "stdout",
     "output_type": "stream",
     "text": [
      "Train Loss: 1.2618 | Val Loss: 1.3132 | Val Accuracy: 0.4203\n",
      "\n",
      "\n",
      "🔄 Training: 1Bi-RNN\n",
      "Epoch 1\n"
     ]
    },
    {
     "name": "stderr",
     "output_type": "stream",
     "text": [
      "100%|██████████| 118/118 [00:06<00:00, 18.36it/s]\n"
     ]
    },
    {
     "name": "stdout",
     "output_type": "stream",
     "text": [
      "Train Loss: 1.3781 | Val Loss: 1.3461 | Val Accuracy: 0.3393\n",
      "\n",
      "Epoch 2\n"
     ]
    },
    {
     "name": "stderr",
     "output_type": "stream",
     "text": [
      "100%|██████████| 118/118 [00:06<00:00, 18.34it/s]\n"
     ]
    },
    {
     "name": "stdout",
     "output_type": "stream",
     "text": [
      "Train Loss: 1.3373 | Val Loss: 1.3376 | Val Accuracy: 0.3591\n",
      "\n",
      "Epoch 3\n"
     ]
    },
    {
     "name": "stderr",
     "output_type": "stream",
     "text": [
      "100%|██████████| 118/118 [00:06<00:00, 18.37it/s]\n"
     ]
    },
    {
     "name": "stdout",
     "output_type": "stream",
     "text": [
      "Train Loss: 1.3443 | Val Loss: 1.3420 | Val Accuracy: 0.3509\n",
      "\n",
      "Epoch 4\n"
     ]
    },
    {
     "name": "stderr",
     "output_type": "stream",
     "text": [
      "100%|██████████| 118/118 [00:09<00:00, 12.48it/s]\n"
     ]
    },
    {
     "name": "stdout",
     "output_type": "stream",
     "text": [
      "Train Loss: 1.2878 | Val Loss: 1.2828 | Val Accuracy: 0.3986\n",
      "\n",
      "Epoch 5\n"
     ]
    },
    {
     "name": "stderr",
     "output_type": "stream",
     "text": [
      "100%|██████████| 118/118 [00:09<00:00, 12.20it/s]\n"
     ]
    },
    {
     "name": "stdout",
     "output_type": "stream",
     "text": [
      "Train Loss: 1.2909 | Val Loss: 1.3102 | Val Accuracy: 0.3680\n",
      "\n",
      "Epoch 6\n"
     ]
    },
    {
     "name": "stderr",
     "output_type": "stream",
     "text": [
      "100%|██████████| 118/118 [00:09<00:00, 12.20it/s]\n"
     ]
    },
    {
     "name": "stdout",
     "output_type": "stream",
     "text": [
      "Train Loss: 1.2694 | Val Loss: 1.2621 | Val Accuracy: 0.4416\n",
      "\n",
      "Epoch 7\n"
     ]
    },
    {
     "name": "stderr",
     "output_type": "stream",
     "text": [
      "100%|██████████| 118/118 [00:07<00:00, 15.14it/s]\n"
     ]
    },
    {
     "name": "stdout",
     "output_type": "stream",
     "text": [
      "Train Loss: 1.2814 | Val Loss: 1.2778 | Val Accuracy: 0.4038\n",
      "\n",
      "Epoch 8\n"
     ]
    },
    {
     "name": "stderr",
     "output_type": "stream",
     "text": [
      "100%|██████████| 118/118 [00:06<00:00, 17.40it/s]\n"
     ]
    },
    {
     "name": "stdout",
     "output_type": "stream",
     "text": [
      "Train Loss: 1.2612 | Val Loss: 1.2576 | Val Accuracy: 0.4295\n",
      "\n",
      "Epoch 9\n"
     ]
    },
    {
     "name": "stderr",
     "output_type": "stream",
     "text": [
      "100%|██████████| 118/118 [00:06<00:00, 17.44it/s]\n"
     ]
    },
    {
     "name": "stdout",
     "output_type": "stream",
     "text": [
      "Train Loss: 1.2428 | Val Loss: 1.2683 | Val Accuracy: 0.4238\n",
      "\n",
      "Epoch 10\n"
     ]
    },
    {
     "name": "stderr",
     "output_type": "stream",
     "text": [
      "100%|██████████| 118/118 [00:07<00:00, 15.46it/s]\n"
     ]
    },
    {
     "name": "stdout",
     "output_type": "stream",
     "text": [
      "Train Loss: 1.2442 | Val Loss: 1.2363 | Val Accuracy: 0.4495\n",
      "\n",
      "Epoch 11\n"
     ]
    },
    {
     "name": "stderr",
     "output_type": "stream",
     "text": [
      "100%|██████████| 118/118 [00:06<00:00, 17.09it/s]\n"
     ]
    },
    {
     "name": "stdout",
     "output_type": "stream",
     "text": [
      "Train Loss: 1.2286 | Val Loss: 1.2635 | Val Accuracy: 0.4246\n",
      "\n",
      "Epoch 12\n"
     ]
    },
    {
     "name": "stderr",
     "output_type": "stream",
     "text": [
      "100%|██████████| 118/118 [00:06<00:00, 17.77it/s]\n"
     ]
    },
    {
     "name": "stdout",
     "output_type": "stream",
     "text": [
      "Train Loss: 1.2289 | Val Loss: 1.2349 | Val Accuracy: 0.4530\n",
      "\n",
      "Epoch 13\n"
     ]
    },
    {
     "name": "stderr",
     "output_type": "stream",
     "text": [
      "100%|██████████| 118/118 [00:07<00:00, 15.89it/s]\n"
     ]
    },
    {
     "name": "stdout",
     "output_type": "stream",
     "text": [
      "Train Loss: 1.2236 | Val Loss: 1.2420 | Val Accuracy: 0.4464\n",
      "\n",
      "Epoch 14\n"
     ]
    },
    {
     "name": "stderr",
     "output_type": "stream",
     "text": [
      "100%|██████████| 118/118 [00:09<00:00, 11.87it/s]\n"
     ]
    },
    {
     "name": "stdout",
     "output_type": "stream",
     "text": [
      "Train Loss: 1.2362 | Val Loss: 1.2527 | Val Accuracy: 0.4292\n",
      "\n",
      "Epoch 15\n"
     ]
    },
    {
     "name": "stderr",
     "output_type": "stream",
     "text": [
      "100%|██████████| 118/118 [00:06<00:00, 16.95it/s]\n"
     ]
    },
    {
     "name": "stdout",
     "output_type": "stream",
     "text": [
      "Train Loss: 1.2194 | Val Loss: 1.2312 | Val Accuracy: 0.4503\n",
      "\n",
      "\n",
      "🔄 Training: 2Bi-RNN\n",
      "Epoch 1\n"
     ]
    },
    {
     "name": "stderr",
     "output_type": "stream",
     "text": [
      "100%|██████████| 118/118 [00:10<00:00, 10.84it/s]\n"
     ]
    },
    {
     "name": "stdout",
     "output_type": "stream",
     "text": [
      "Train Loss: 1.3570 | Val Loss: 1.3230 | Val Accuracy: 0.3995\n",
      "\n",
      "Epoch 2\n"
     ]
    },
    {
     "name": "stderr",
     "output_type": "stream",
     "text": [
      "100%|██████████| 118/118 [00:11<00:00, 10.00it/s]\n"
     ]
    },
    {
     "name": "stdout",
     "output_type": "stream",
     "text": [
      "Train Loss: 1.3243 | Val Loss: 1.3657 | Val Accuracy: 0.2954\n",
      "\n",
      "Epoch 3\n"
     ]
    },
    {
     "name": "stderr",
     "output_type": "stream",
     "text": [
      "100%|██████████| 118/118 [00:10<00:00, 10.81it/s]\n"
     ]
    },
    {
     "name": "stdout",
     "output_type": "stream",
     "text": [
      "Train Loss: 1.3132 | Val Loss: 1.2958 | Val Accuracy: 0.4029\n",
      "\n",
      "Epoch 4\n"
     ]
    },
    {
     "name": "stderr",
     "output_type": "stream",
     "text": [
      "100%|██████████| 118/118 [00:10<00:00, 10.86it/s]\n"
     ]
    },
    {
     "name": "stdout",
     "output_type": "stream",
     "text": [
      "Train Loss: 1.2746 | Val Loss: 1.2862 | Val Accuracy: 0.4105\n",
      "\n",
      "Epoch 5\n"
     ]
    },
    {
     "name": "stderr",
     "output_type": "stream",
     "text": [
      "100%|██████████| 118/118 [00:11<00:00, 10.35it/s]\n"
     ]
    },
    {
     "name": "stdout",
     "output_type": "stream",
     "text": [
      "Train Loss: 1.2756 | Val Loss: 1.2771 | Val Accuracy: 0.4204\n",
      "\n",
      "Epoch 6\n"
     ]
    },
    {
     "name": "stderr",
     "output_type": "stream",
     "text": [
      "100%|██████████| 118/118 [00:10<00:00, 10.91it/s]\n"
     ]
    },
    {
     "name": "stdout",
     "output_type": "stream",
     "text": [
      "Train Loss: 1.2560 | Val Loss: 1.2965 | Val Accuracy: 0.4067\n",
      "\n",
      "Epoch 7\n"
     ]
    },
    {
     "name": "stderr",
     "output_type": "stream",
     "text": [
      "100%|██████████| 118/118 [00:12<00:00,  9.36it/s]\n"
     ]
    },
    {
     "name": "stdout",
     "output_type": "stream",
     "text": [
      "Train Loss: 1.2336 | Val Loss: 1.2454 | Val Accuracy: 0.4855\n",
      "\n",
      "Epoch 8\n"
     ]
    },
    {
     "name": "stderr",
     "output_type": "stream",
     "text": [
      "100%|██████████| 118/118 [00:11<00:00, 10.72it/s]\n"
     ]
    },
    {
     "name": "stdout",
     "output_type": "stream",
     "text": [
      "Train Loss: 1.2386 | Val Loss: 1.2708 | Val Accuracy: 0.4676\n",
      "\n",
      "Epoch 9\n"
     ]
    },
    {
     "name": "stderr",
     "output_type": "stream",
     "text": [
      "100%|██████████| 118/118 [00:10<00:00, 10.91it/s]\n"
     ]
    },
    {
     "name": "stdout",
     "output_type": "stream",
     "text": [
      "Train Loss: 1.2563 | Val Loss: 1.2393 | Val Accuracy: 0.4857\n",
      "\n",
      "Epoch 10\n"
     ]
    },
    {
     "name": "stderr",
     "output_type": "stream",
     "text": [
      "100%|██████████| 118/118 [00:15<00:00,  7.42it/s]\n"
     ]
    },
    {
     "name": "stdout",
     "output_type": "stream",
     "text": [
      "Train Loss: 1.3468 | Val Loss: 1.3730 | Val Accuracy: 0.3154\n",
      "\n",
      "Epoch 11\n"
     ]
    },
    {
     "name": "stderr",
     "output_type": "stream",
     "text": [
      "100%|██████████| 118/118 [00:15<00:00,  7.49it/s]\n"
     ]
    },
    {
     "name": "stdout",
     "output_type": "stream",
     "text": [
      "Train Loss: 1.3598 | Val Loss: 1.3566 | Val Accuracy: 0.3339\n",
      "\n",
      "Epoch 12\n"
     ]
    },
    {
     "name": "stderr",
     "output_type": "stream",
     "text": [
      "100%|██████████| 118/118 [00:12<00:00,  9.24it/s]\n"
     ]
    },
    {
     "name": "stdout",
     "output_type": "stream",
     "text": [
      "Train Loss: 1.3031 | Val Loss: 1.3222 | Val Accuracy: 0.3782\n",
      "\n",
      "Epoch 13\n"
     ]
    },
    {
     "name": "stderr",
     "output_type": "stream",
     "text": [
      "100%|██████████| 118/118 [00:10<00:00, 10.85it/s]\n"
     ]
    },
    {
     "name": "stdout",
     "output_type": "stream",
     "text": [
      "Train Loss: 1.2819 | Val Loss: 1.2739 | Val Accuracy: 0.4483\n",
      "\n",
      "Epoch 14\n"
     ]
    },
    {
     "name": "stderr",
     "output_type": "stream",
     "text": [
      "100%|██████████| 118/118 [00:11<00:00, 10.37it/s]\n"
     ]
    },
    {
     "name": "stdout",
     "output_type": "stream",
     "text": [
      "Train Loss: 1.2575 | Val Loss: 1.2609 | Val Accuracy: 0.4637\n",
      "\n",
      "Epoch 15\n"
     ]
    },
    {
     "name": "stderr",
     "output_type": "stream",
     "text": [
      "100%|██████████| 118/118 [00:11<00:00, 10.54it/s]\n"
     ]
    },
    {
     "name": "stdout",
     "output_type": "stream",
     "text": [
      "Train Loss: 1.2495 | Val Loss: 1.2567 | Val Accuracy: 0.4487\n",
      "\n",
      "\n",
      "🔄 Training: 1LSTM\n",
      "Epoch 1\n"
     ]
    },
    {
     "name": "stderr",
     "output_type": "stream",
     "text": [
      "100%|██████████| 118/118 [00:04<00:00, 24.75it/s]\n"
     ]
    },
    {
     "name": "stdout",
     "output_type": "stream",
     "text": [
      "Train Loss: 1.3209 | Val Loss: 1.1462 | Val Accuracy: 0.6049\n",
      "\n",
      "Epoch 2\n"
     ]
    },
    {
     "name": "stderr",
     "output_type": "stream",
     "text": [
      "100%|██████████| 118/118 [00:04<00:00, 25.59it/s]\n"
     ]
    },
    {
     "name": "stdout",
     "output_type": "stream",
     "text": [
      "Train Loss: 1.0443 | Val Loss: 0.9873 | Val Accuracy: 0.7630\n",
      "\n",
      "Epoch 3\n"
     ]
    },
    {
     "name": "stderr",
     "output_type": "stream",
     "text": [
      "100%|██████████| 118/118 [00:04<00:00, 27.11it/s]\n"
     ]
    },
    {
     "name": "stdout",
     "output_type": "stream",
     "text": [
      "Train Loss: 0.9544 | Val Loss: 0.9408 | Val Accuracy: 0.8004\n",
      "\n",
      "Epoch 4\n"
     ]
    },
    {
     "name": "stderr",
     "output_type": "stream",
     "text": [
      "100%|██████████| 118/118 [00:04<00:00, 25.45it/s]\n"
     ]
    },
    {
     "name": "stdout",
     "output_type": "stream",
     "text": [
      "Train Loss: 0.9125 | Val Loss: 0.9155 | Val Accuracy: 0.8262\n",
      "\n",
      "Epoch 5\n"
     ]
    },
    {
     "name": "stderr",
     "output_type": "stream",
     "text": [
      "100%|██████████| 118/118 [00:07<00:00, 16.31it/s]\n"
     ]
    },
    {
     "name": "stdout",
     "output_type": "stream",
     "text": [
      "Train Loss: 0.8979 | Val Loss: 0.9019 | Val Accuracy: 0.8395\n",
      "\n",
      "Epoch 6\n"
     ]
    },
    {
     "name": "stderr",
     "output_type": "stream",
     "text": [
      "100%|██████████| 118/118 [00:08<00:00, 14.59it/s]\n"
     ]
    },
    {
     "name": "stdout",
     "output_type": "stream",
     "text": [
      "Train Loss: 0.8901 | Val Loss: 0.9045 | Val Accuracy: 0.8370\n",
      "\n",
      "Epoch 7\n"
     ]
    },
    {
     "name": "stderr",
     "output_type": "stream",
     "text": [
      "100%|██████████| 118/118 [00:05<00:00, 20.05it/s]\n"
     ]
    },
    {
     "name": "stdout",
     "output_type": "stream",
     "text": [
      "Train Loss: 0.8742 | Val Loss: 0.8870 | Val Accuracy: 0.8539\n",
      "\n",
      "Epoch 8\n"
     ]
    },
    {
     "name": "stderr",
     "output_type": "stream",
     "text": [
      "100%|██████████| 118/118 [00:04<00:00, 27.25it/s]\n"
     ]
    },
    {
     "name": "stdout",
     "output_type": "stream",
     "text": [
      "Train Loss: 0.8619 | Val Loss: 0.8704 | Val Accuracy: 0.8701\n",
      "\n",
      "Epoch 9\n"
     ]
    },
    {
     "name": "stderr",
     "output_type": "stream",
     "text": [
      "100%|██████████| 118/118 [00:04<00:00, 27.20it/s]\n"
     ]
    },
    {
     "name": "stdout",
     "output_type": "stream",
     "text": [
      "Train Loss: 0.8624 | Val Loss: 0.8724 | Val Accuracy: 0.8676\n",
      "\n",
      "Epoch 10\n"
     ]
    },
    {
     "name": "stderr",
     "output_type": "stream",
     "text": [
      "100%|██████████| 118/118 [00:04<00:00, 26.82it/s]\n"
     ]
    },
    {
     "name": "stdout",
     "output_type": "stream",
     "text": [
      "Train Loss: 0.8540 | Val Loss: 0.8744 | Val Accuracy: 0.8678\n",
      "\n",
      "Epoch 11\n"
     ]
    },
    {
     "name": "stderr",
     "output_type": "stream",
     "text": [
      "100%|██████████| 118/118 [00:05<00:00, 20.63it/s]\n"
     ]
    },
    {
     "name": "stdout",
     "output_type": "stream",
     "text": [
      "Train Loss: 0.8474 | Val Loss: 0.8635 | Val Accuracy: 0.8780\n",
      "\n",
      "Epoch 12\n"
     ]
    },
    {
     "name": "stderr",
     "output_type": "stream",
     "text": [
      "100%|██████████| 118/118 [00:08<00:00, 14.69it/s]\n"
     ]
    },
    {
     "name": "stdout",
     "output_type": "stream",
     "text": [
      "Train Loss: 0.8433 | Val Loss: 0.8619 | Val Accuracy: 0.8789\n",
      "\n",
      "Epoch 13\n"
     ]
    },
    {
     "name": "stderr",
     "output_type": "stream",
     "text": [
      "100%|██████████| 118/118 [00:04<00:00, 27.13it/s]\n"
     ]
    },
    {
     "name": "stdout",
     "output_type": "stream",
     "text": [
      "Train Loss: 0.8402 | Val Loss: 0.8647 | Val Accuracy: 0.8758\n",
      "\n",
      "Epoch 14\n"
     ]
    },
    {
     "name": "stderr",
     "output_type": "stream",
     "text": [
      "100%|██████████| 118/118 [00:04<00:00, 26.83it/s]\n"
     ]
    },
    {
     "name": "stdout",
     "output_type": "stream",
     "text": [
      "Train Loss: 0.8456 | Val Loss: 0.8656 | Val Accuracy: 0.8747\n",
      "\n",
      "Epoch 15\n"
     ]
    },
    {
     "name": "stderr",
     "output_type": "stream",
     "text": [
      "100%|██████████| 118/118 [00:05<00:00, 23.59it/s]\n"
     ]
    },
    {
     "name": "stdout",
     "output_type": "stream",
     "text": [
      "Train Loss: 0.8427 | Val Loss: 0.8610 | Val Accuracy: 0.8801\n",
      "\n",
      "\n",
      "🔄 Training: 1Bi-LSTM\n",
      "Epoch 1\n"
     ]
    },
    {
     "name": "stderr",
     "output_type": "stream",
     "text": [
      "100%|██████████| 118/118 [00:08<00:00, 14.24it/s]\n"
     ]
    },
    {
     "name": "stdout",
     "output_type": "stream",
     "text": [
      "Train Loss: 1.3149 | Val Loss: 1.1649 | Val Accuracy: 0.5651\n",
      "\n",
      "Epoch 2\n"
     ]
    },
    {
     "name": "stderr",
     "output_type": "stream",
     "text": [
      "100%|██████████| 118/118 [00:13<00:00,  8.55it/s]\n"
     ]
    },
    {
     "name": "stdout",
     "output_type": "stream",
     "text": [
      "Train Loss: 1.0847 | Val Loss: 1.0248 | Val Accuracy: 0.7233\n",
      "\n",
      "Epoch 3\n"
     ]
    },
    {
     "name": "stderr",
     "output_type": "stream",
     "text": [
      "100%|██████████| 118/118 [00:13<00:00,  8.59it/s]\n"
     ]
    },
    {
     "name": "stdout",
     "output_type": "stream",
     "text": [
      "Train Loss: 0.9878 | Val Loss: 0.9648 | Val Accuracy: 0.7786\n",
      "\n",
      "Epoch 4\n"
     ]
    },
    {
     "name": "stderr",
     "output_type": "stream",
     "text": [
      "100%|██████████| 118/118 [00:13<00:00,  8.52it/s]\n"
     ]
    },
    {
     "name": "stdout",
     "output_type": "stream",
     "text": [
      "Train Loss: 0.9363 | Val Loss: 0.9441 | Val Accuracy: 0.7987\n",
      "\n",
      "Epoch 5\n"
     ]
    },
    {
     "name": "stderr",
     "output_type": "stream",
     "text": [
      "100%|██████████| 118/118 [00:09<00:00, 12.98it/s]\n"
     ]
    },
    {
     "name": "stdout",
     "output_type": "stream",
     "text": [
      "Train Loss: 0.9098 | Val Loss: 0.9160 | Val Accuracy: 0.8251\n",
      "\n",
      "Epoch 6\n"
     ]
    },
    {
     "name": "stderr",
     "output_type": "stream",
     "text": [
      "100%|██████████| 118/118 [00:08<00:00, 13.43it/s]\n"
     ]
    },
    {
     "name": "stdout",
     "output_type": "stream",
     "text": [
      "Train Loss: 0.8916 | Val Loss: 0.9051 | Val Accuracy: 0.8378\n",
      "\n",
      "Epoch 7\n"
     ]
    },
    {
     "name": "stderr",
     "output_type": "stream",
     "text": [
      "100%|██████████| 118/118 [00:08<00:00, 13.19it/s]\n"
     ]
    },
    {
     "name": "stdout",
     "output_type": "stream",
     "text": [
      "Train Loss: 0.8769 | Val Loss: 0.8946 | Val Accuracy: 0.8468\n",
      "\n",
      "Epoch 8\n"
     ]
    },
    {
     "name": "stderr",
     "output_type": "stream",
     "text": [
      "100%|██████████| 118/118 [00:09<00:00, 12.45it/s]\n"
     ]
    },
    {
     "name": "stdout",
     "output_type": "stream",
     "text": [
      "Train Loss: 0.8655 | Val Loss: 0.8868 | Val Accuracy: 0.8550\n",
      "\n",
      "Epoch 9\n"
     ]
    },
    {
     "name": "stderr",
     "output_type": "stream",
     "text": [
      "100%|██████████| 118/118 [00:07<00:00, 16.36it/s]\n"
     ]
    },
    {
     "name": "stdout",
     "output_type": "stream",
     "text": [
      "Train Loss: 0.8611 | Val Loss: 0.8833 | Val Accuracy: 0.8574\n",
      "\n",
      "Epoch 10\n"
     ]
    },
    {
     "name": "stderr",
     "output_type": "stream",
     "text": [
      "100%|██████████| 118/118 [00:07<00:00, 15.98it/s]\n"
     ]
    },
    {
     "name": "stdout",
     "output_type": "stream",
     "text": [
      "Train Loss: 0.8619 | Val Loss: 0.8850 | Val Accuracy: 0.8575\n",
      "\n",
      "Epoch 11\n"
     ]
    },
    {
     "name": "stderr",
     "output_type": "stream",
     "text": [
      "100%|██████████| 118/118 [00:12<00:00,  9.28it/s]\n"
     ]
    },
    {
     "name": "stdout",
     "output_type": "stream",
     "text": [
      "Train Loss: 0.8608 | Val Loss: 0.8820 | Val Accuracy: 0.8599\n",
      "\n",
      "Epoch 12\n"
     ]
    },
    {
     "name": "stderr",
     "output_type": "stream",
     "text": [
      "100%|██████████| 118/118 [00:07<00:00, 16.25it/s]\n"
     ]
    },
    {
     "name": "stdout",
     "output_type": "stream",
     "text": [
      "Train Loss: 0.8536 | Val Loss: 0.8778 | Val Accuracy: 0.8637\n",
      "\n",
      "Epoch 13\n"
     ]
    },
    {
     "name": "stderr",
     "output_type": "stream",
     "text": [
      "100%|██████████| 118/118 [00:07<00:00, 16.22it/s]\n"
     ]
    },
    {
     "name": "stdout",
     "output_type": "stream",
     "text": [
      "Train Loss: 0.8586 | Val Loss: 0.8765 | Val Accuracy: 0.8643\n",
      "\n",
      "Epoch 14\n"
     ]
    },
    {
     "name": "stderr",
     "output_type": "stream",
     "text": [
      "100%|██████████| 118/118 [00:10<00:00, 11.61it/s]\n"
     ]
    },
    {
     "name": "stdout",
     "output_type": "stream",
     "text": [
      "Train Loss: 0.8444 | Val Loss: 0.8764 | Val Accuracy: 0.8649\n",
      "\n",
      "Epoch 15\n"
     ]
    },
    {
     "name": "stderr",
     "output_type": "stream",
     "text": [
      "100%|██████████| 118/118 [00:13<00:00,  8.54it/s]\n"
     ]
    },
    {
     "name": "stdout",
     "output_type": "stream",
     "text": [
      "Train Loss: 0.8404 | Val Loss: 0.8676 | Val Accuracy: 0.8730\n",
      "\n",
      "\n",
      "🔄 Training: 2Bi-LSTM\n",
      "Epoch 1\n"
     ]
    },
    {
     "name": "stderr",
     "output_type": "stream",
     "text": [
      "100%|██████████| 118/118 [00:12<00:00,  9.49it/s]\n"
     ]
    },
    {
     "name": "stdout",
     "output_type": "stream",
     "text": [
      "Train Loss: 1.2969 | Val Loss: 1.1574 | Val Accuracy: 0.5792\n",
      "\n",
      "Epoch 2\n"
     ]
    },
    {
     "name": "stderr",
     "output_type": "stream",
     "text": [
      "100%|██████████| 118/118 [00:13<00:00,  8.59it/s]\n"
     ]
    },
    {
     "name": "stdout",
     "output_type": "stream",
     "text": [
      "Train Loss: 1.1084 | Val Loss: 1.0865 | Val Accuracy: 0.6562\n",
      "\n",
      "Epoch 3\n"
     ]
    },
    {
     "name": "stderr",
     "output_type": "stream",
     "text": [
      "100%|██████████| 118/118 [00:19<00:00,  6.05it/s]\n"
     ]
    },
    {
     "name": "stdout",
     "output_type": "stream",
     "text": [
      "Train Loss: 1.0314 | Val Loss: 0.9964 | Val Accuracy: 0.7454\n",
      "\n",
      "Epoch 4\n"
     ]
    },
    {
     "name": "stderr",
     "output_type": "stream",
     "text": [
      "100%|██████████| 118/118 [00:19<00:00,  5.90it/s]\n"
     ]
    },
    {
     "name": "stdout",
     "output_type": "stream",
     "text": [
      "Train Loss: 0.9692 | Val Loss: 0.9531 | Val Accuracy: 0.7866\n",
      "\n",
      "Epoch 5\n"
     ]
    },
    {
     "name": "stderr",
     "output_type": "stream",
     "text": [
      "100%|██████████| 118/118 [00:16<00:00,  7.28it/s]\n"
     ]
    },
    {
     "name": "stdout",
     "output_type": "stream",
     "text": [
      "Train Loss: 0.9283 | Val Loss: 0.9252 | Val Accuracy: 0.8141\n",
      "\n",
      "Epoch 6\n"
     ]
    },
    {
     "name": "stderr",
     "output_type": "stream",
     "text": [
      "100%|██████████| 118/118 [00:12<00:00,  9.82it/s]\n"
     ]
    },
    {
     "name": "stdout",
     "output_type": "stream",
     "text": [
      "Train Loss: 0.9024 | Val Loss: 0.9067 | Val Accuracy: 0.8334\n",
      "\n",
      "Epoch 7\n"
     ]
    },
    {
     "name": "stderr",
     "output_type": "stream",
     "text": [
      "100%|██████████| 118/118 [00:15<00:00,  7.48it/s]\n"
     ]
    },
    {
     "name": "stdout",
     "output_type": "stream",
     "text": [
      "Train Loss: 0.8851 | Val Loss: 0.8942 | Val Accuracy: 0.8467\n",
      "\n",
      "Epoch 8\n"
     ]
    },
    {
     "name": "stderr",
     "output_type": "stream",
     "text": [
      "100%|██████████| 118/118 [00:17<00:00,  6.65it/s]\n"
     ]
    },
    {
     "name": "stdout",
     "output_type": "stream",
     "text": [
      "Train Loss: 0.8733 | Val Loss: 0.8890 | Val Accuracy: 0.8522\n",
      "\n",
      "Epoch 9\n"
     ]
    },
    {
     "name": "stderr",
     "output_type": "stream",
     "text": [
      "100%|██████████| 118/118 [00:12<00:00,  9.67it/s]\n"
     ]
    },
    {
     "name": "stdout",
     "output_type": "stream",
     "text": [
      "Train Loss: 0.8641 | Val Loss: 0.8798 | Val Accuracy: 0.8605\n",
      "\n",
      "Epoch 10\n"
     ]
    },
    {
     "name": "stderr",
     "output_type": "stream",
     "text": [
      "100%|██████████| 118/118 [00:14<00:00,  8.16it/s]\n"
     ]
    },
    {
     "name": "stdout",
     "output_type": "stream",
     "text": [
      "Train Loss: 0.8557 | Val Loss: 0.8723 | Val Accuracy: 0.8686\n",
      "\n",
      "Epoch 11\n"
     ]
    },
    {
     "name": "stderr",
     "output_type": "stream",
     "text": [
      "100%|██████████| 118/118 [00:19<00:00,  6.16it/s]\n"
     ]
    },
    {
     "name": "stdout",
     "output_type": "stream",
     "text": [
      "Train Loss: 0.8506 | Val Loss: 0.8671 | Val Accuracy: 0.8734\n",
      "\n",
      "Epoch 12\n"
     ]
    },
    {
     "name": "stderr",
     "output_type": "stream",
     "text": [
      "100%|██████████| 118/118 [00:19<00:00,  6.03it/s]\n"
     ]
    },
    {
     "name": "stdout",
     "output_type": "stream",
     "text": [
      "Train Loss: 0.8437 | Val Loss: 0.8655 | Val Accuracy: 0.8733\n",
      "\n",
      "Epoch 13\n"
     ]
    },
    {
     "name": "stderr",
     "output_type": "stream",
     "text": [
      "100%|██████████| 118/118 [00:12<00:00,  9.54it/s]\n"
     ]
    },
    {
     "name": "stdout",
     "output_type": "stream",
     "text": [
      "Train Loss: 0.8401 | Val Loss: 0.8577 | Val Accuracy: 0.8821\n",
      "\n",
      "Epoch 14\n"
     ]
    },
    {
     "name": "stderr",
     "output_type": "stream",
     "text": [
      "100%|██████████| 118/118 [00:14<00:00,  8.24it/s]\n"
     ]
    },
    {
     "name": "stdout",
     "output_type": "stream",
     "text": [
      "Train Loss: 0.8360 | Val Loss: 0.8612 | Val Accuracy: 0.8796\n",
      "\n",
      "Epoch 15\n"
     ]
    },
    {
     "name": "stderr",
     "output_type": "stream",
     "text": [
      "100%|██████████| 118/118 [00:19<00:00,  6.03it/s]\n"
     ]
    },
    {
     "name": "stdout",
     "output_type": "stream",
     "text": [
      "Train Loss: 0.8347 | Val Loss: 0.8627 | Val Accuracy: 0.8779\n",
      "\n"
     ]
    }
   ],
   "source": [
    "\n",
    "MAX_WORDS = 50\n",
    "\n",
    "results_50, preds_50 = run_experiments(model_configs)\n"
   ]
  },
  {
   "cell_type": "code",
   "execution_count": 185,
   "id": "ed651527",
   "metadata": {},
   "outputs": [
    {
     "data": {
      "text/html": [
       "<div>\n",
       "<style scoped>\n",
       "    .dataframe tbody tr th:only-of-type {\n",
       "        vertical-align: middle;\n",
       "    }\n",
       "\n",
       "    .dataframe tbody tr th {\n",
       "        vertical-align: top;\n",
       "    }\n",
       "\n",
       "    .dataframe thead th {\n",
       "        text-align: right;\n",
       "    }\n",
       "</style>\n",
       "<table border=\"1\" class=\"dataframe\">\n",
       "  <thead>\n",
       "    <tr style=\"text-align: right;\">\n",
       "      <th></th>\n",
       "      <th>1RNN</th>\n",
       "      <th>1Bi-RNN</th>\n",
       "      <th>2Bi-RNN</th>\n",
       "      <th>1LSTM</th>\n",
       "      <th>1Bi-LSTM</th>\n",
       "      <th>2Bi-LSTM</th>\n",
       "    </tr>\n",
       "  </thead>\n",
       "  <tbody>\n",
       "    <tr>\n",
       "      <th>Accuracy</th>\n",
       "      <td>42.03</td>\n",
       "      <td>45.03</td>\n",
       "      <td>44.87</td>\n",
       "      <td>88.01</td>\n",
       "      <td>87.30</td>\n",
       "      <td>87.79</td>\n",
       "    </tr>\n",
       "    <tr>\n",
       "      <th>Parameters</th>\n",
       "      <td>2,136,284</td>\n",
       "      <td>2,147,164</td>\n",
       "      <td>2,171,996</td>\n",
       "      <td>2,168,156</td>\n",
       "      <td>2,210,908</td>\n",
       "      <td>2,310,236</td>\n",
       "    </tr>\n",
       "    <tr>\n",
       "      <th>Time cost</th>\n",
       "      <td>5.10</td>\n",
       "      <td>7.88</td>\n",
       "      <td>12.25</td>\n",
       "      <td>5.54</td>\n",
       "      <td>10.44</td>\n",
       "      <td>16.42</td>\n",
       "    </tr>\n",
       "  </tbody>\n",
       "</table>\n",
       "</div>"
      ],
      "text/plain": [
       "                 1RNN    1Bi-RNN    2Bi-RNN      1LSTM   1Bi-LSTM   2Bi-LSTM\n",
       "Accuracy        42.03      45.03      44.87      88.01      87.30      87.79\n",
       "Parameters  2,136,284  2,147,164  2,171,996  2,168,156  2,210,908  2,310,236\n",
       "Time cost        5.10       7.88      12.25       5.54      10.44      16.42"
      ]
     },
     "execution_count": 185,
     "metadata": {},
     "output_type": "execute_result"
    }
   ],
   "source": [
    "# Transpose results to match the table format in the assignment\n",
    "df_transposed_50 = results_50.set_index(\"Model\").T\n",
    "\n",
    "# Round accuracy to 2 decimals, format numbers\n",
    "df_display_50 = pd.DataFrame({\n",
    "    col: [\n",
    "        f\"{df_transposed_50.loc['Accuracy', col]:.2f}\",\n",
    "        f\"{int(df_transposed_50.loc['Parameters', col]):,}\",\n",
    "        f\"{df_transposed_50.loc['Time (sec)', col]:.2f}\"\n",
    "    ]\n",
    "    for col in df_transposed_50.columns\n",
    "}, index=[\"Accuracy\", \"Parameters\", \"Time cost\"])\n",
    "\n",
    "df_display_50"
   ]
  },
  {
   "cell_type": "markdown",
   "id": "4b389124",
   "metadata": {},
   "source": [
    "### Ερώτημα Γ.3 – Συμπεράσματα\n",
    "\n",
    "Αλλάξαμε την παράμετρο `MAX_WORDS` από 25 σε 50 και επανεκπαιδεύσαμε όλα τα μοντέλα.\n",
    "\n",
    "Τα αποτελέσματα έδειξαν:\n",
    "\n",
    "- **Τα accuracies των απλών RNN (1RNN, 1Bi-RNN, 2Bi-RNN) έπεσαν κατακόρυφα**, σχεδόν στο μισό ή και πολύ περισσότερο κατα περίπτωση!\n",
    "  - Π.χ. το 1RNN έπεσε από ~87% σε μόλις ~42%.\n",
    "- **Τα LSTM-based μοντέλα (1LSTM, 1Bi-LSTM, 2Bi-LSTM) παρέμειναν σταθερά σε υψηλό επίπεδο** (περίπου 87–88%).\n",
    "\n",
    "-  **Ο χρόνος εκπαίδευσης αυξήθηκε σημαντικά**:\n",
    "  - Π.χ. το 2Bi-LSTM ανέβηκε από ~8 sec σε ~16 sec ανά epoch.\n",
    "\n",
    "- **Ο αριθμός παραμέτρων παρέμεινε ίδιος** σε όλα τα μοντέλα:\n",
    "  - Αυτό ήταν αναμενόμενο, αφού ο αριθμός παραμέτρων εξαρτάται από:\n",
    "    - Το μέγεθος του λεξιλογίου\n",
    "    - Το μέγεθος των embeddings\n",
    "    - Το μέγεθος του hidden layer\n",
    "  - Και **όχι** από το μήκος των εισόδων (`MAX_WORDS`).\n",
    "\n",
    "---\n",
    "\n",
    "📌 Γενικό Συμπέρασμα:\n",
    "\n",
    "- Η αύξηση του μήκους των κειμένων σε 50 tokens:\n",
    "  - Δυσκόλεψε τα απλά RNN μοντέλα (πιθανόν λόγω προβλημάτων \"vanishing gradient\" και αδυναμίας να διαχειριστούν μεγαλύτερες ακολουθίες).\n",
    "  - Δεν επηρέασε σημαντικά τα LSTM μοντέλα, τα οποία είναι σχεδιασμένα για μακρύτερες ακολουθίες.\n",
    "- Υπάρχει ξεκάθαρη επιβεβαίωση ότι **τα LSTM μοντέλα είναι πιο ανθεκτικά σε μεγαλύτερα κείμενα** και **διαχειρίζονται καλύτερα το context**.\n",
    "\n"
   ]
  },
  {
   "cell_type": "markdown",
   "id": "e3f8775b",
   "metadata": {},
   "source": [
    "## 🧠 Ερώτημα Γ.4 – Εκπαίδευση με Προεκπαιδευμένα GloVe Embeddings\n",
    "\n",
    "Σε αυτό το ερώτημα γίνεται χρήση **προεκπαιδευμένων διανυσμάτων λέξεων (GloVe)** στη θέση των randomly initialized embeddings που χρησιμοποιήθηκαν στα προηγούμενα ερωτήματα.\n"
   ]
  },
  {
   "cell_type": "markdown",
   "id": "6629d3e4",
   "metadata": {},
   "source": [
    "### Φόρτωση GloVe Embeddings\n",
    "Τα GloVe vectors φορτώνονται από το αρχείο `glove.6B.100d.txt`, το οποίο περιέχει 400.000 λέξεις με διαστάσεις 100."
   ]
  },
  {
   "cell_type": "code",
   "execution_count": 186,
   "id": "5d454497",
   "metadata": {},
   "outputs": [
    {
     "name": "stdout",
     "output_type": "stream",
     "text": [
      "Loaded 400000 word vectors from GloVe.\n"
     ]
    }
   ],
   "source": [
    "# Διαβάζουμε το αρχείο\n",
    "def load_glove_embeddings(glove_path):\n",
    "    embeddings_index = {}\n",
    "    with open(glove_path, encoding='utf8') as f:\n",
    "        for line in f:\n",
    "            values = line.strip().split()\n",
    "            word = values[0]\n",
    "            vector = torch.tensor([float(x) for x in values[1:]], dtype=torch.float32)\n",
    "            embeddings_index[word] = vector\n",
    "    return embeddings_index\n",
    "\n",
    "# Παράδειγμα\n",
    "glove_embeddings = load_glove_embeddings('glove.6B.100d.txt')\n",
    "print(f\"Loaded {len(glove_embeddings)} word vectors from GloVe.\")\n"
   ]
  },
  {
   "cell_type": "markdown",
   "id": "39ca6066",
   "metadata": {},
   "source": [
    "### Δημιουργία Pretrained Embedding Matrix\n",
    "Για να εισαχθούν τα vectors στο μοντέλο, φτιάχνεται μια embedding matrix:"
   ]
  },
  {
   "cell_type": "code",
   "execution_count": 187,
   "id": "79dd7e42",
   "metadata": {},
   "outputs": [],
   "source": [
    "def create_embedding_matrix(vocab, glove_embeddings, embedding_dim):\n",
    "    matrix = torch.zeros(len(vocab), embedding_dim)\n",
    "    for word, idx in vocab.get_stoi().items():\n",
    "        if word in glove_embeddings:\n",
    "            matrix[idx] = glove_embeddings[word]\n",
    "        else:\n",
    "            matrix[idx] = torch.randn(embedding_dim) * 0.01  # μικρό random init για άγνωστες λέξεις\n",
    "    return matrix\n"
   ]
  },
  {
   "cell_type": "code",
   "execution_count": 188,
   "id": "0e99e3f2",
   "metadata": {},
   "outputs": [],
   "source": [
    "embedding_matrix = create_embedding_matrix(vocab, glove_embeddings, EMBEDDING_DIM)"
   ]
  },
  {
   "cell_type": "markdown",
   "id": "7fec0e94",
   "metadata": {},
   "source": [
    "### 🛠️ Σημείωση για την Υλοποίηση – Τεχνικές Προσαρμογές Ερωτήματος 4\n",
    "\n",
    "Για να υποστηριχθεί η χρήση προεκπαιδευμένων GloVe embeddings, έγιναν οι παρακάτω τροποποιήσεις στον υπάρχοντα κώδικα:\n",
    "\n",
    "- Οι αλλαγές εντοπίζονται **μέσα στις συναρτήσεις και τις κλάσεις** με **σαφή inline σχολιασμό** της μορφής:\n",
    "  \n",
    "  ```python\n",
    "  # προσθήκη ερωτήματος 4"
   ]
  },
  {
   "cell_type": "markdown",
   "id": "c07d2ff9",
   "metadata": {},
   "source": [
    "### Εκτέλεση Πειραμάτων με GloVe Embeddings\n",
    "Τα μοντέλα τρέχουν με το embedding_matrix ως αρχικοποίηση"
   ]
  },
  {
   "cell_type": "code",
   "execution_count": null,
   "id": "9ae174e6",
   "metadata": {},
   "outputs": [
    {
     "name": "stdout",
     "output_type": "stream",
     "text": [
      "\n",
      "🔄 Training: 1RNN\n",
      "Epoch 1\n"
     ]
    },
    {
     "name": "stderr",
     "output_type": "stream",
     "text": [
      "100%|██████████| 118/118 [00:03<00:00, 30.60it/s]\n"
     ]
    },
    {
     "name": "stdout",
     "output_type": "stream",
     "text": [
      "Train Loss: 1.0526 | Val Loss: 0.9051 | Val Accuracy: 0.8411\n",
      "\n",
      "Epoch 2\n"
     ]
    },
    {
     "name": "stderr",
     "output_type": "stream",
     "text": [
      "100%|██████████| 118/118 [00:03<00:00, 31.82it/s]\n"
     ]
    },
    {
     "name": "stdout",
     "output_type": "stream",
     "text": [
      "Train Loss: 0.8857 | Val Loss: 0.8724 | Val Accuracy: 0.8705\n",
      "\n",
      "Epoch 3\n"
     ]
    },
    {
     "name": "stderr",
     "output_type": "stream",
     "text": [
      "100%|██████████| 118/118 [00:03<00:00, 31.62it/s]\n"
     ]
    },
    {
     "name": "stdout",
     "output_type": "stream",
     "text": [
      "Train Loss: 0.8729 | Val Loss: 0.8904 | Val Accuracy: 0.8530\n",
      "\n",
      "Epoch 4\n"
     ]
    },
    {
     "name": "stderr",
     "output_type": "stream",
     "text": [
      "100%|██████████| 118/118 [00:03<00:00, 31.19it/s]\n"
     ]
    },
    {
     "name": "stdout",
     "output_type": "stream",
     "text": [
      "Train Loss: 0.8719 | Val Loss: 0.8813 | Val Accuracy: 0.8632\n",
      "\n",
      "Epoch 5\n"
     ]
    },
    {
     "name": "stderr",
     "output_type": "stream",
     "text": [
      "100%|██████████| 118/118 [00:03<00:00, 30.53it/s]\n"
     ]
    },
    {
     "name": "stdout",
     "output_type": "stream",
     "text": [
      "Train Loss: 0.8731 | Val Loss: 0.8791 | Val Accuracy: 0.8620\n",
      "\n",
      "Epoch 6\n"
     ]
    },
    {
     "name": "stderr",
     "output_type": "stream",
     "text": [
      "100%|██████████| 118/118 [00:03<00:00, 29.52it/s]\n"
     ]
    },
    {
     "name": "stdout",
     "output_type": "stream",
     "text": [
      "Train Loss: 0.8750 | Val Loss: 0.8761 | Val Accuracy: 0.8663\n",
      "\n",
      "Epoch 7\n"
     ]
    },
    {
     "name": "stderr",
     "output_type": "stream",
     "text": [
      "100%|██████████| 118/118 [00:03<00:00, 31.22it/s]\n"
     ]
    },
    {
     "name": "stdout",
     "output_type": "stream",
     "text": [
      "Train Loss: 0.8606 | Val Loss: 0.8628 | Val Accuracy: 0.8789\n",
      "\n",
      "Epoch 8\n"
     ]
    },
    {
     "name": "stderr",
     "output_type": "stream",
     "text": [
      "100%|██████████| 118/118 [00:03<00:00, 30.44it/s]\n"
     ]
    },
    {
     "name": "stdout",
     "output_type": "stream",
     "text": [
      "Train Loss: 0.8558 | Val Loss: 0.8723 | Val Accuracy: 0.8707\n",
      "\n",
      "Epoch 9\n"
     ]
    },
    {
     "name": "stderr",
     "output_type": "stream",
     "text": [
      "100%|██████████| 118/118 [00:03<00:00, 31.49it/s]\n"
     ]
    },
    {
     "name": "stdout",
     "output_type": "stream",
     "text": [
      "Train Loss: 0.8501 | Val Loss: 0.8596 | Val Accuracy: 0.8818\n",
      "\n",
      "Epoch 10\n"
     ]
    },
    {
     "name": "stderr",
     "output_type": "stream",
     "text": [
      "100%|██████████| 118/118 [00:03<00:00, 32.43it/s]\n"
     ]
    },
    {
     "name": "stdout",
     "output_type": "stream",
     "text": [
      "Train Loss: 0.8495 | Val Loss: 0.8644 | Val Accuracy: 0.8780\n",
      "\n",
      "Epoch 11\n"
     ]
    },
    {
     "name": "stderr",
     "output_type": "stream",
     "text": [
      "100%|██████████| 118/118 [00:03<00:00, 31.74it/s]\n"
     ]
    },
    {
     "name": "stdout",
     "output_type": "stream",
     "text": [
      "Train Loss: 0.8921 | Val Loss: 0.9048 | Val Accuracy: 0.8387\n",
      "\n",
      "Epoch 12\n"
     ]
    },
    {
     "name": "stderr",
     "output_type": "stream",
     "text": [
      "100%|██████████| 118/118 [00:03<00:00, 30.58it/s]\n"
     ]
    },
    {
     "name": "stdout",
     "output_type": "stream",
     "text": [
      "Train Loss: 0.8826 | Val Loss: 0.8896 | Val Accuracy: 0.8513\n",
      "\n",
      "Epoch 13\n"
     ]
    },
    {
     "name": "stderr",
     "output_type": "stream",
     "text": [
      "100%|██████████| 118/118 [00:04<00:00, 27.21it/s]\n"
     ]
    },
    {
     "name": "stdout",
     "output_type": "stream",
     "text": [
      "Train Loss: 0.8577 | Val Loss: 0.8630 | Val Accuracy: 0.8789\n",
      "\n",
      "Epoch 14\n"
     ]
    },
    {
     "name": "stderr",
     "output_type": "stream",
     "text": [
      "100%|██████████| 118/118 [00:04<00:00, 28.31it/s]\n"
     ]
    },
    {
     "name": "stdout",
     "output_type": "stream",
     "text": [
      "Train Loss: 0.8488 | Val Loss: 0.8634 | Val Accuracy: 0.8775\n",
      "\n",
      "Epoch 15\n"
     ]
    },
    {
     "name": "stderr",
     "output_type": "stream",
     "text": [
      "100%|██████████| 118/118 [00:03<00:00, 32.33it/s]\n"
     ]
    },
    {
     "name": "stdout",
     "output_type": "stream",
     "text": [
      "Train Loss: 0.8532 | Val Loss: 0.8791 | Val Accuracy: 0.8633\n",
      "\n",
      "\n",
      "🔄 Training: 1Bi-RNN\n",
      "Epoch 1\n"
     ]
    },
    {
     "name": "stderr",
     "output_type": "stream",
     "text": [
      "100%|██████████| 118/118 [00:04<00:00, 23.72it/s]\n"
     ]
    },
    {
     "name": "stdout",
     "output_type": "stream",
     "text": [
      "Train Loss: 1.0482 | Val Loss: 0.8979 | Val Accuracy: 0.8536\n",
      "\n",
      "Epoch 2\n"
     ]
    },
    {
     "name": "stderr",
     "output_type": "stream",
     "text": [
      "100%|██████████| 118/118 [00:04<00:00, 26.83it/s]\n"
     ]
    },
    {
     "name": "stdout",
     "output_type": "stream",
     "text": [
      "Train Loss: 0.8860 | Val Loss: 0.8850 | Val Accuracy: 0.8600\n",
      "\n",
      "Epoch 3\n"
     ]
    },
    {
     "name": "stderr",
     "output_type": "stream",
     "text": [
      "100%|██████████| 118/118 [00:04<00:00, 26.49it/s]\n"
     ]
    },
    {
     "name": "stdout",
     "output_type": "stream",
     "text": [
      "Train Loss: 0.8712 | Val Loss: 0.8885 | Val Accuracy: 0.8562\n",
      "\n",
      "Epoch 4\n"
     ]
    },
    {
     "name": "stderr",
     "output_type": "stream",
     "text": [
      "100%|██████████| 118/118 [00:04<00:00, 26.86it/s]\n"
     ]
    },
    {
     "name": "stdout",
     "output_type": "stream",
     "text": [
      "Train Loss: 0.8695 | Val Loss: 0.8707 | Val Accuracy: 0.8725\n",
      "\n",
      "Epoch 5\n"
     ]
    },
    {
     "name": "stderr",
     "output_type": "stream",
     "text": [
      "100%|██████████| 118/118 [00:05<00:00, 22.80it/s]\n"
     ]
    },
    {
     "name": "stdout",
     "output_type": "stream",
     "text": [
      "Train Loss: 0.8604 | Val Loss: 0.8707 | Val Accuracy: 0.8709\n",
      "\n",
      "Epoch 6\n"
     ]
    },
    {
     "name": "stderr",
     "output_type": "stream",
     "text": [
      "100%|██████████| 118/118 [00:04<00:00, 25.24it/s]\n"
     ]
    },
    {
     "name": "stdout",
     "output_type": "stream",
     "text": [
      "Train Loss: 0.8612 | Val Loss: 0.8672 | Val Accuracy: 0.8745\n",
      "\n",
      "Epoch 7\n"
     ]
    },
    {
     "name": "stderr",
     "output_type": "stream",
     "text": [
      "100%|██████████| 118/118 [00:04<00:00, 27.41it/s]\n"
     ]
    },
    {
     "name": "stdout",
     "output_type": "stream",
     "text": [
      "Train Loss: 0.8560 | Val Loss: 0.8627 | Val Accuracy: 0.8789\n",
      "\n",
      "Epoch 8\n"
     ]
    },
    {
     "name": "stderr",
     "output_type": "stream",
     "text": [
      "100%|██████████| 118/118 [00:04<00:00, 27.22it/s]\n"
     ]
    },
    {
     "name": "stdout",
     "output_type": "stream",
     "text": [
      "Train Loss: 0.8556 | Val Loss: 0.8752 | Val Accuracy: 0.8674\n",
      "\n",
      "Epoch 9\n"
     ]
    },
    {
     "name": "stderr",
     "output_type": "stream",
     "text": [
      "100%|██████████| 118/118 [00:04<00:00, 26.74it/s]\n"
     ]
    },
    {
     "name": "stdout",
     "output_type": "stream",
     "text": [
      "Train Loss: 0.8482 | Val Loss: 0.8586 | Val Accuracy: 0.8832\n",
      "\n",
      "Epoch 10\n"
     ]
    },
    {
     "name": "stderr",
     "output_type": "stream",
     "text": [
      "100%|██████████| 118/118 [00:05<00:00, 23.48it/s]\n"
     ]
    },
    {
     "name": "stdout",
     "output_type": "stream",
     "text": [
      "Train Loss: 0.8528 | Val Loss: 0.8646 | Val Accuracy: 0.8786\n",
      "\n",
      "Epoch 11\n"
     ]
    },
    {
     "name": "stderr",
     "output_type": "stream",
     "text": [
      "100%|██████████| 118/118 [00:04<00:00, 25.20it/s]\n"
     ]
    },
    {
     "name": "stdout",
     "output_type": "stream",
     "text": [
      "Train Loss: 0.8526 | Val Loss: 0.8876 | Val Accuracy: 0.8532\n",
      "\n",
      "Epoch 12\n"
     ]
    },
    {
     "name": "stderr",
     "output_type": "stream",
     "text": [
      "100%|██████████| 118/118 [00:04<00:00, 24.13it/s]\n"
     ]
    },
    {
     "name": "stdout",
     "output_type": "stream",
     "text": [
      "Train Loss: 0.8553 | Val Loss: 0.8979 | Val Accuracy: 0.8437\n",
      "\n",
      "Epoch 13\n"
     ]
    },
    {
     "name": "stderr",
     "output_type": "stream",
     "text": [
      "100%|██████████| 118/118 [00:04<00:00, 26.57it/s]\n"
     ]
    },
    {
     "name": "stdout",
     "output_type": "stream",
     "text": [
      "Train Loss: 0.8468 | Val Loss: 0.8561 | Val Accuracy: 0.8849\n",
      "\n",
      "Epoch 14\n"
     ]
    },
    {
     "name": "stderr",
     "output_type": "stream",
     "text": [
      "100%|██████████| 118/118 [00:04<00:00, 25.01it/s]\n"
     ]
    },
    {
     "name": "stdout",
     "output_type": "stream",
     "text": [
      "Train Loss: 0.8409 | Val Loss: 0.8543 | Val Accuracy: 0.8867\n",
      "\n",
      "Epoch 15\n"
     ]
    },
    {
     "name": "stderr",
     "output_type": "stream",
     "text": [
      "100%|██████████| 118/118 [00:04<00:00, 27.17it/s]\n"
     ]
    },
    {
     "name": "stdout",
     "output_type": "stream",
     "text": [
      "Train Loss: 0.8449 | Val Loss: 0.8568 | Val Accuracy: 0.8850\n",
      "\n",
      "\n",
      "🔄 Training: 2Bi-RNN\n",
      "Epoch 1\n"
     ]
    },
    {
     "name": "stderr",
     "output_type": "stream",
     "text": [
      "100%|██████████| 118/118 [00:07<00:00, 16.33it/s]\n"
     ]
    },
    {
     "name": "stdout",
     "output_type": "stream",
     "text": [
      "Train Loss: 0.9818 | Val Loss: 0.8718 | Val Accuracy: 0.8700\n",
      "\n",
      "Epoch 2\n"
     ]
    },
    {
     "name": "stderr",
     "output_type": "stream",
     "text": [
      "100%|██████████| 118/118 [00:06<00:00, 17.22it/s]\n"
     ]
    },
    {
     "name": "stdout",
     "output_type": "stream",
     "text": [
      "Train Loss: 0.8795 | Val Loss: 0.8761 | Val Accuracy: 0.8645\n",
      "\n",
      "Epoch 3\n"
     ]
    },
    {
     "name": "stderr",
     "output_type": "stream",
     "text": [
      "100%|██████████| 118/118 [00:06<00:00, 18.27it/s]\n"
     ]
    },
    {
     "name": "stdout",
     "output_type": "stream",
     "text": [
      "Train Loss: 0.8601 | Val Loss: 0.8661 | Val Accuracy: 0.8753\n",
      "\n",
      "Epoch 4\n"
     ]
    },
    {
     "name": "stderr",
     "output_type": "stream",
     "text": [
      "100%|██████████| 118/118 [00:06<00:00, 17.56it/s]\n"
     ]
    },
    {
     "name": "stdout",
     "output_type": "stream",
     "text": [
      "Train Loss: 0.8534 | Val Loss: 0.8657 | Val Accuracy: 0.8757\n",
      "\n",
      "Epoch 5\n"
     ]
    },
    {
     "name": "stderr",
     "output_type": "stream",
     "text": [
      "100%|██████████| 118/118 [00:09<00:00, 12.88it/s]\n"
     ]
    },
    {
     "name": "stdout",
     "output_type": "stream",
     "text": [
      "Train Loss: 0.8489 | Val Loss: 0.8680 | Val Accuracy: 0.8741\n",
      "\n",
      "Epoch 6\n"
     ]
    },
    {
     "name": "stderr",
     "output_type": "stream",
     "text": [
      "100%|██████████| 118/118 [00:08<00:00, 13.77it/s]\n"
     ]
    },
    {
     "name": "stdout",
     "output_type": "stream",
     "text": [
      "Train Loss: 0.8462 | Val Loss: 0.8530 | Val Accuracy: 0.8880\n",
      "\n",
      "Epoch 7\n"
     ]
    },
    {
     "name": "stderr",
     "output_type": "stream",
     "text": [
      "100%|██████████| 118/118 [00:06<00:00, 17.70it/s]\n"
     ]
    },
    {
     "name": "stdout",
     "output_type": "stream",
     "text": [
      "Train Loss: 0.8461 | Val Loss: 0.8799 | Val Accuracy: 0.8625\n",
      "\n",
      "Epoch 8\n"
     ]
    },
    {
     "name": "stderr",
     "output_type": "stream",
     "text": [
      "100%|██████████| 118/118 [00:06<00:00, 18.29it/s]\n"
     ]
    },
    {
     "name": "stdout",
     "output_type": "stream",
     "text": [
      "Train Loss: 0.8426 | Val Loss: 0.8545 | Val Accuracy: 0.8874\n",
      "\n",
      "Epoch 9\n"
     ]
    },
    {
     "name": "stderr",
     "output_type": "stream",
     "text": [
      "100%|██████████| 118/118 [00:08<00:00, 14.72it/s]\n"
     ]
    },
    {
     "name": "stdout",
     "output_type": "stream",
     "text": [
      "Train Loss: 0.8421 | Val Loss: 0.8588 | Val Accuracy: 0.8838\n",
      "\n",
      "Epoch 10\n"
     ]
    },
    {
     "name": "stderr",
     "output_type": "stream",
     "text": [
      "100%|██████████| 118/118 [00:09<00:00, 13.02it/s]\n"
     ]
    },
    {
     "name": "stdout",
     "output_type": "stream",
     "text": [
      "Train Loss: 0.8406 | Val Loss: 0.8601 | Val Accuracy: 0.8812\n",
      "\n",
      "Epoch 11\n"
     ]
    },
    {
     "name": "stderr",
     "output_type": "stream",
     "text": [
      "100%|██████████| 118/118 [00:09<00:00, 13.02it/s]\n"
     ]
    },
    {
     "name": "stdout",
     "output_type": "stream",
     "text": [
      "Train Loss: 0.8326 | Val Loss: 0.8467 | Val Accuracy: 0.8963\n",
      "\n",
      "Epoch 12\n"
     ]
    },
    {
     "name": "stderr",
     "output_type": "stream",
     "text": [
      "100%|██████████| 118/118 [00:09<00:00, 12.99it/s]\n"
     ]
    },
    {
     "name": "stdout",
     "output_type": "stream",
     "text": [
      "Train Loss: 0.8327 | Val Loss: 0.8436 | Val Accuracy: 0.8976\n",
      "\n",
      "Epoch 13\n"
     ]
    },
    {
     "name": "stderr",
     "output_type": "stream",
     "text": [
      "100%|██████████| 118/118 [00:08<00:00, 13.95it/s]\n"
     ]
    },
    {
     "name": "stdout",
     "output_type": "stream",
     "text": [
      "Train Loss: 0.8314 | Val Loss: 0.8520 | Val Accuracy: 0.8905\n",
      "\n",
      "Epoch 14\n"
     ]
    },
    {
     "name": "stderr",
     "output_type": "stream",
     "text": [
      "100%|██████████| 118/118 [00:06<00:00, 18.45it/s]\n"
     ]
    },
    {
     "name": "stdout",
     "output_type": "stream",
     "text": [
      "Train Loss: 0.8290 | Val Loss: 0.8499 | Val Accuracy: 0.8913\n",
      "\n",
      "Epoch 15\n"
     ]
    },
    {
     "name": "stderr",
     "output_type": "stream",
     "text": [
      "100%|██████████| 118/118 [00:06<00:00, 18.44it/s]\n"
     ]
    },
    {
     "name": "stdout",
     "output_type": "stream",
     "text": [
      "Train Loss: 0.8289 | Val Loss: 0.8471 | Val Accuracy: 0.8949\n",
      "\n",
      "\n",
      "🔄 Training: 1LSTM\n",
      "Epoch 1\n"
     ]
    },
    {
     "name": "stderr",
     "output_type": "stream",
     "text": [
      "100%|██████████| 118/118 [00:04<00:00, 29.46it/s]\n"
     ]
    },
    {
     "name": "stdout",
     "output_type": "stream",
     "text": [
      "Train Loss: 1.0227 | Val Loss: 0.8759 | Val Accuracy: 0.8697\n",
      "\n",
      "Epoch 2\n"
     ]
    },
    {
     "name": "stderr",
     "output_type": "stream",
     "text": [
      "100%|██████████| 118/118 [00:03<00:00, 30.12it/s]\n"
     ]
    },
    {
     "name": "stdout",
     "output_type": "stream",
     "text": [
      "Train Loss: 0.8569 | Val Loss: 0.8532 | Val Accuracy: 0.8901\n",
      "\n",
      "Epoch 3\n"
     ]
    },
    {
     "name": "stderr",
     "output_type": "stream",
     "text": [
      "100%|██████████| 118/118 [00:03<00:00, 29.51it/s]\n"
     ]
    },
    {
     "name": "stdout",
     "output_type": "stream",
     "text": [
      "Train Loss: 0.8402 | Val Loss: 0.8447 | Val Accuracy: 0.8963\n",
      "\n",
      "Epoch 4\n"
     ]
    },
    {
     "name": "stderr",
     "output_type": "stream",
     "text": [
      "100%|██████████| 118/118 [00:03<00:00, 29.81it/s]\n"
     ]
    },
    {
     "name": "stdout",
     "output_type": "stream",
     "text": [
      "Train Loss: 0.8305 | Val Loss: 0.8406 | Val Accuracy: 0.8991\n",
      "\n",
      "Epoch 5\n"
     ]
    },
    {
     "name": "stderr",
     "output_type": "stream",
     "text": [
      "100%|██████████| 118/118 [00:03<00:00, 29.72it/s]\n"
     ]
    },
    {
     "name": "stdout",
     "output_type": "stream",
     "text": [
      "Train Loss: 0.8230 | Val Loss: 0.8423 | Val Accuracy: 0.8988\n",
      "\n",
      "Epoch 6\n"
     ]
    },
    {
     "name": "stderr",
     "output_type": "stream",
     "text": [
      "100%|██████████| 118/118 [00:04<00:00, 27.48it/s]\n"
     ]
    },
    {
     "name": "stdout",
     "output_type": "stream",
     "text": [
      "Train Loss: 0.8184 | Val Loss: 0.8415 | Val Accuracy: 0.9005\n",
      "\n",
      "Epoch 7\n"
     ]
    },
    {
     "name": "stderr",
     "output_type": "stream",
     "text": [
      "100%|██████████| 118/118 [00:03<00:00, 30.18it/s]\n"
     ]
    },
    {
     "name": "stdout",
     "output_type": "stream",
     "text": [
      "Train Loss: 0.8138 | Val Loss: 0.8347 | Val Accuracy: 0.9062\n",
      "\n",
      "Epoch 8\n"
     ]
    },
    {
     "name": "stderr",
     "output_type": "stream",
     "text": [
      "100%|██████████| 118/118 [00:04<00:00, 28.67it/s]\n"
     ]
    },
    {
     "name": "stdout",
     "output_type": "stream",
     "text": [
      "Train Loss: 0.8110 | Val Loss: 0.8333 | Val Accuracy: 0.9078\n",
      "\n",
      "Epoch 9\n"
     ]
    },
    {
     "name": "stderr",
     "output_type": "stream",
     "text": [
      "100%|██████████| 118/118 [00:03<00:00, 29.76it/s]\n"
     ]
    },
    {
     "name": "stdout",
     "output_type": "stream",
     "text": [
      "Train Loss: 0.8073 | Val Loss: 0.8349 | Val Accuracy: 0.9057\n",
      "\n",
      "Epoch 10\n"
     ]
    },
    {
     "name": "stderr",
     "output_type": "stream",
     "text": [
      "100%|██████████| 118/118 [00:04<00:00, 29.23it/s]\n"
     ]
    },
    {
     "name": "stdout",
     "output_type": "stream",
     "text": [
      "Train Loss: 0.8062 | Val Loss: 0.8327 | Val Accuracy: 0.9083\n",
      "\n",
      "Epoch 11\n"
     ]
    },
    {
     "name": "stderr",
     "output_type": "stream",
     "text": [
      "100%|██████████| 118/118 [00:04<00:00, 26.62it/s]\n"
     ]
    },
    {
     "name": "stdout",
     "output_type": "stream",
     "text": [
      "Train Loss: 0.8037 | Val Loss: 0.8339 | Val Accuracy: 0.9067\n",
      "\n",
      "Epoch 12\n"
     ]
    },
    {
     "name": "stderr",
     "output_type": "stream",
     "text": [
      "100%|██████████| 118/118 [00:04<00:00, 29.03it/s]\n"
     ]
    },
    {
     "name": "stdout",
     "output_type": "stream",
     "text": [
      "Train Loss: 0.8017 | Val Loss: 0.8344 | Val Accuracy: 0.9066\n",
      "\n",
      "Epoch 13\n"
     ]
    },
    {
     "name": "stderr",
     "output_type": "stream",
     "text": [
      "100%|██████████| 118/118 [00:04<00:00, 29.20it/s]\n"
     ]
    },
    {
     "name": "stdout",
     "output_type": "stream",
     "text": [
      "Train Loss: 0.8001 | Val Loss: 0.8341 | Val Accuracy: 0.9071\n",
      "\n",
      "Epoch 14\n"
     ]
    },
    {
     "name": "stderr",
     "output_type": "stream",
     "text": [
      "100%|██████████| 118/118 [00:04<00:00, 27.23it/s]\n"
     ]
    },
    {
     "name": "stdout",
     "output_type": "stream",
     "text": [
      "Train Loss: 0.7993 | Val Loss: 0.8331 | Val Accuracy: 0.9076\n",
      "\n",
      "Epoch 15\n"
     ]
    },
    {
     "name": "stderr",
     "output_type": "stream",
     "text": [
      "100%|██████████| 118/118 [00:03<00:00, 29.85it/s]\n"
     ]
    },
    {
     "name": "stdout",
     "output_type": "stream",
     "text": [
      "Train Loss: 0.7979 | Val Loss: 0.8347 | Val Accuracy: 0.9059\n",
      "\n",
      "\n",
      "🔄 Training: 1Bi-LSTM\n",
      "Epoch 1\n"
     ]
    },
    {
     "name": "stderr",
     "output_type": "stream",
     "text": [
      "100%|██████████| 118/118 [00:04<00:00, 26.84it/s]\n"
     ]
    },
    {
     "name": "stdout",
     "output_type": "stream",
     "text": [
      "Train Loss: 1.0325 | Val Loss: 0.8733 | Val Accuracy: 0.8737\n",
      "\n",
      "Epoch 2\n"
     ]
    },
    {
     "name": "stderr",
     "output_type": "stream",
     "text": [
      "100%|██████████| 118/118 [00:04<00:00, 27.60it/s]\n"
     ]
    },
    {
     "name": "stdout",
     "output_type": "stream",
     "text": [
      "Train Loss: 0.8574 | Val Loss: 0.8564 | Val Accuracy: 0.8866\n",
      "\n",
      "Epoch 3\n"
     ]
    },
    {
     "name": "stderr",
     "output_type": "stream",
     "text": [
      "100%|██████████| 118/118 [00:04<00:00, 27.41it/s]\n"
     ]
    },
    {
     "name": "stdout",
     "output_type": "stream",
     "text": [
      "Train Loss: 0.8415 | Val Loss: 0.8466 | Val Accuracy: 0.8963\n",
      "\n",
      "Epoch 4\n"
     ]
    },
    {
     "name": "stderr",
     "output_type": "stream",
     "text": [
      "100%|██████████| 118/118 [00:04<00:00, 27.16it/s]\n"
     ]
    },
    {
     "name": "stdout",
     "output_type": "stream",
     "text": [
      "Train Loss: 0.8320 | Val Loss: 0.8408 | Val Accuracy: 0.9005\n",
      "\n",
      "Epoch 5\n"
     ]
    },
    {
     "name": "stderr",
     "output_type": "stream",
     "text": [
      "100%|██████████| 118/118 [00:06<00:00, 18.69it/s]\n"
     ]
    },
    {
     "name": "stdout",
     "output_type": "stream",
     "text": [
      "Train Loss: 0.8242 | Val Loss: 0.8370 | Val Accuracy: 0.9028\n",
      "\n",
      "Epoch 6\n"
     ]
    },
    {
     "name": "stderr",
     "output_type": "stream",
     "text": [
      "100%|██████████| 118/118 [00:05<00:00, 20.71it/s]\n"
     ]
    },
    {
     "name": "stdout",
     "output_type": "stream",
     "text": [
      "Train Loss: 0.8189 | Val Loss: 0.8383 | Val Accuracy: 0.9028\n",
      "\n",
      "Epoch 7\n"
     ]
    },
    {
     "name": "stderr",
     "output_type": "stream",
     "text": [
      "100%|██████████| 118/118 [00:04<00:00, 27.02it/s]\n"
     ]
    },
    {
     "name": "stdout",
     "output_type": "stream",
     "text": [
      "Train Loss: 0.8156 | Val Loss: 0.8362 | Val Accuracy: 0.9045\n",
      "\n",
      "Epoch 8\n"
     ]
    },
    {
     "name": "stderr",
     "output_type": "stream",
     "text": [
      "100%|██████████| 118/118 [00:04<00:00, 28.01it/s]\n"
     ]
    },
    {
     "name": "stdout",
     "output_type": "stream",
     "text": [
      "Train Loss: 0.8115 | Val Loss: 0.8367 | Val Accuracy: 0.9046\n",
      "\n",
      "Epoch 9\n"
     ]
    },
    {
     "name": "stderr",
     "output_type": "stream",
     "text": [
      "100%|██████████| 118/118 [00:04<00:00, 25.41it/s]\n"
     ]
    },
    {
     "name": "stdout",
     "output_type": "stream",
     "text": [
      "Train Loss: 0.8096 | Val Loss: 0.8352 | Val Accuracy: 0.9066\n",
      "\n",
      "Epoch 10\n"
     ]
    },
    {
     "name": "stderr",
     "output_type": "stream",
     "text": [
      "100%|██████████| 118/118 [00:05<00:00, 22.42it/s]\n"
     ]
    },
    {
     "name": "stdout",
     "output_type": "stream",
     "text": [
      "Train Loss: 0.8064 | Val Loss: 0.8338 | Val Accuracy: 0.9087\n",
      "\n",
      "Epoch 11\n"
     ]
    },
    {
     "name": "stderr",
     "output_type": "stream",
     "text": [
      "100%|██████████| 118/118 [00:04<00:00, 27.76it/s]\n"
     ]
    },
    {
     "name": "stdout",
     "output_type": "stream",
     "text": [
      "Train Loss: 0.8043 | Val Loss: 0.8337 | Val Accuracy: 0.9068\n",
      "\n",
      "Epoch 12\n"
     ]
    },
    {
     "name": "stderr",
     "output_type": "stream",
     "text": [
      "100%|██████████| 118/118 [00:04<00:00, 27.62it/s]\n"
     ]
    },
    {
     "name": "stdout",
     "output_type": "stream",
     "text": [
      "Train Loss: 0.8021 | Val Loss: 0.8338 | Val Accuracy: 0.9068\n",
      "\n",
      "Epoch 13\n"
     ]
    },
    {
     "name": "stderr",
     "output_type": "stream",
     "text": [
      "100%|██████████| 118/118 [00:04<00:00, 26.31it/s]\n"
     ]
    },
    {
     "name": "stdout",
     "output_type": "stream",
     "text": [
      "Train Loss: 0.8015 | Val Loss: 0.8334 | Val Accuracy: 0.9084\n",
      "\n",
      "Epoch 14\n"
     ]
    },
    {
     "name": "stderr",
     "output_type": "stream",
     "text": [
      "100%|██████████| 118/118 [00:04<00:00, 24.71it/s]\n"
     ]
    },
    {
     "name": "stdout",
     "output_type": "stream",
     "text": [
      "Train Loss: 0.7998 | Val Loss: 0.8378 | Val Accuracy: 0.9041\n",
      "\n",
      "Epoch 15\n"
     ]
    },
    {
     "name": "stderr",
     "output_type": "stream",
     "text": [
      "100%|██████████| 118/118 [00:07<00:00, 16.84it/s]\n"
     ]
    },
    {
     "name": "stdout",
     "output_type": "stream",
     "text": [
      "Train Loss: 0.7996 | Val Loss: 0.8330 | Val Accuracy: 0.9091\n",
      "\n",
      "\n",
      "🔄 Training: 2Bi-LSTM\n",
      "Epoch 1\n"
     ]
    },
    {
     "name": "stderr",
     "output_type": "stream",
     "text": [
      "100%|██████████| 118/118 [00:06<00:00, 18.32it/s]\n"
     ]
    },
    {
     "name": "stdout",
     "output_type": "stream",
     "text": [
      "Train Loss: 0.9845 | Val Loss: 0.8640 | Val Accuracy: 0.8788\n",
      "\n",
      "Epoch 2\n"
     ]
    },
    {
     "name": "stderr",
     "output_type": "stream",
     "text": [
      "100%|██████████| 118/118 [00:08<00:00, 13.40it/s]\n"
     ]
    },
    {
     "name": "stdout",
     "output_type": "stream",
     "text": [
      "Train Loss: 0.8566 | Val Loss: 0.8505 | Val Accuracy: 0.8901\n",
      "\n",
      "Epoch 3\n"
     ]
    },
    {
     "name": "stderr",
     "output_type": "stream",
     "text": [
      "100%|██████████| 118/118 [00:09<00:00, 12.36it/s]\n"
     ]
    },
    {
     "name": "stdout",
     "output_type": "stream",
     "text": [
      "Train Loss: 0.8404 | Val Loss: 0.8459 | Val Accuracy: 0.8959\n",
      "\n",
      "Epoch 4\n"
     ]
    },
    {
     "name": "stderr",
     "output_type": "stream",
     "text": [
      "100%|██████████| 118/118 [00:09<00:00, 11.84it/s]\n"
     ]
    },
    {
     "name": "stdout",
     "output_type": "stream",
     "text": [
      "Train Loss: 0.8323 | Val Loss: 0.8414 | Val Accuracy: 0.9001\n",
      "\n",
      "Epoch 5\n"
     ]
    },
    {
     "name": "stderr",
     "output_type": "stream",
     "text": [
      "100%|██████████| 118/118 [00:09<00:00, 12.14it/s]\n"
     ]
    },
    {
     "name": "stdout",
     "output_type": "stream",
     "text": [
      "Train Loss: 0.8253 | Val Loss: 0.8415 | Val Accuracy: 0.8999\n",
      "\n",
      "Epoch 6\n"
     ]
    },
    {
     "name": "stderr",
     "output_type": "stream",
     "text": [
      "100%|██████████| 118/118 [00:11<00:00, 10.19it/s]\n"
     ]
    },
    {
     "name": "stdout",
     "output_type": "stream",
     "text": [
      "Train Loss: 0.8203 | Val Loss: 0.8392 | Val Accuracy: 0.9020\n",
      "\n",
      "Epoch 7\n"
     ]
    },
    {
     "name": "stderr",
     "output_type": "stream",
     "text": [
      "100%|██████████| 118/118 [00:09<00:00, 12.82it/s]\n"
     ]
    },
    {
     "name": "stdout",
     "output_type": "stream",
     "text": [
      "Train Loss: 0.8168 | Val Loss: 0.8367 | Val Accuracy: 0.9046\n",
      "\n",
      "Epoch 8\n"
     ]
    },
    {
     "name": "stderr",
     "output_type": "stream",
     "text": [
      "100%|██████████| 118/118 [00:08<00:00, 13.28it/s]\n"
     ]
    },
    {
     "name": "stdout",
     "output_type": "stream",
     "text": [
      "Train Loss: 0.8127 | Val Loss: 0.8369 | Val Accuracy: 0.9042\n",
      "\n",
      "Epoch 9\n"
     ]
    },
    {
     "name": "stderr",
     "output_type": "stream",
     "text": [
      "100%|██████████| 118/118 [00:09<00:00, 12.08it/s]\n"
     ]
    },
    {
     "name": "stdout",
     "output_type": "stream",
     "text": [
      "Train Loss: 0.8098 | Val Loss: 0.8351 | Val Accuracy: 0.9067\n",
      "\n",
      "Epoch 10\n"
     ]
    },
    {
     "name": "stderr",
     "output_type": "stream",
     "text": [
      "100%|██████████| 118/118 [00:09<00:00, 12.39it/s]\n"
     ]
    },
    {
     "name": "stdout",
     "output_type": "stream",
     "text": [
      "Train Loss: 0.8084 | Val Loss: 0.8392 | Val Accuracy: 0.9026\n",
      "\n",
      "Epoch 11\n"
     ]
    },
    {
     "name": "stderr",
     "output_type": "stream",
     "text": [
      "100%|██████████| 118/118 [00:08<00:00, 14.07it/s]\n"
     ]
    },
    {
     "name": "stdout",
     "output_type": "stream",
     "text": [
      "Train Loss: 0.8064 | Val Loss: 0.8349 | Val Accuracy: 0.9061\n",
      "\n",
      "Epoch 12\n"
     ]
    },
    {
     "name": "stderr",
     "output_type": "stream",
     "text": [
      "100%|██████████| 118/118 [00:09<00:00, 12.39it/s]\n"
     ]
    },
    {
     "name": "stdout",
     "output_type": "stream",
     "text": [
      "Train Loss: 0.8044 | Val Loss: 0.8326 | Val Accuracy: 0.9079\n",
      "\n",
      "Epoch 13\n"
     ]
    },
    {
     "name": "stderr",
     "output_type": "stream",
     "text": [
      "100%|██████████| 118/118 [00:08<00:00, 14.00it/s]\n"
     ]
    },
    {
     "name": "stdout",
     "output_type": "stream",
     "text": [
      "Train Loss: 0.8037 | Val Loss: 0.8347 | Val Accuracy: 0.9054\n",
      "\n",
      "Epoch 14\n"
     ]
    },
    {
     "name": "stderr",
     "output_type": "stream",
     "text": [
      "100%|██████████| 118/118 [00:09<00:00, 12.65it/s]\n"
     ]
    },
    {
     "name": "stdout",
     "output_type": "stream",
     "text": [
      "Train Loss: 0.8017 | Val Loss: 0.8326 | Val Accuracy: 0.9097\n",
      "\n",
      "Epoch 15\n"
     ]
    },
    {
     "name": "stderr",
     "output_type": "stream",
     "text": [
      "100%|██████████| 118/118 [00:08<00:00, 13.68it/s]\n"
     ]
    },
    {
     "name": "stdout",
     "output_type": "stream",
     "text": [
      "Train Loss: 0.8006 | Val Loss: 0.8333 | Val Accuracy: 0.9079\n",
      "\n"
     ]
    }
   ],
   "source": [
    "MAX_WORDS = 25\n",
    "\n",
    "# Εκπαίδευση με προ-εκπαιδευμένα GloVe embeddings\n",
    "results_glove, preds_glove = run_experiments(model_configs, pretrained_embeddings=embedding_matrix)\n"
   ]
  },
  {
   "cell_type": "code",
   "execution_count": 190,
   "id": "63ee1fe7",
   "metadata": {},
   "outputs": [
    {
     "data": {
      "text/html": [
       "<div>\n",
       "<style scoped>\n",
       "    .dataframe tbody tr th:only-of-type {\n",
       "        vertical-align: middle;\n",
       "    }\n",
       "\n",
       "    .dataframe tbody tr th {\n",
       "        vertical-align: top;\n",
       "    }\n",
       "\n",
       "    .dataframe thead th {\n",
       "        text-align: right;\n",
       "    }\n",
       "</style>\n",
       "<table border=\"1\" class=\"dataframe\">\n",
       "  <thead>\n",
       "    <tr style=\"text-align: right;\">\n",
       "      <th></th>\n",
       "      <th>1RNN</th>\n",
       "      <th>1Bi-RNN</th>\n",
       "      <th>2Bi-RNN</th>\n",
       "      <th>1LSTM</th>\n",
       "      <th>1Bi-LSTM</th>\n",
       "      <th>2Bi-LSTM</th>\n",
       "    </tr>\n",
       "  </thead>\n",
       "  <tbody>\n",
       "    <tr>\n",
       "      <th>Accuracy</th>\n",
       "      <td>86.33</td>\n",
       "      <td>88.50</td>\n",
       "      <td>89.49</td>\n",
       "      <td>90.59</td>\n",
       "      <td>90.91</td>\n",
       "      <td>90.79</td>\n",
       "    </tr>\n",
       "    <tr>\n",
       "      <th>Parameters</th>\n",
       "      <td>2,136,284</td>\n",
       "      <td>2,147,164</td>\n",
       "      <td>2,171,996</td>\n",
       "      <td>2,168,156</td>\n",
       "      <td>2,210,908</td>\n",
       "      <td>2,310,236</td>\n",
       "    </tr>\n",
       "    <tr>\n",
       "      <th>Time cost</th>\n",
       "      <td>4.02</td>\n",
       "      <td>4.80</td>\n",
       "      <td>7.86</td>\n",
       "      <td>4.24</td>\n",
       "      <td>5.03</td>\n",
       "      <td>9.56</td>\n",
       "    </tr>\n",
       "  </tbody>\n",
       "</table>\n",
       "</div>"
      ],
      "text/plain": [
       "                 1RNN    1Bi-RNN    2Bi-RNN      1LSTM   1Bi-LSTM   2Bi-LSTM\n",
       "Accuracy        86.33      88.50      89.49      90.59      90.91      90.79\n",
       "Parameters  2,136,284  2,147,164  2,171,996  2,168,156  2,210,908  2,310,236\n",
       "Time cost        4.02       4.80       7.86       4.24       5.03       9.56"
      ]
     },
     "execution_count": 190,
     "metadata": {},
     "output_type": "execute_result"
    }
   ],
   "source": [
    "# Transpose results to match the table format in the assignment\n",
    "df_transposed_glove_25 = results_glove.set_index(\"Model\").T\n",
    "\n",
    "# Round accuracy to 2 decimals, format numbers\n",
    "df_display_glove_25 = pd.DataFrame({\n",
    "    col: [\n",
    "        f\"{df_transposed_glove_25.loc['Accuracy', col]:.2f}\",\n",
    "        f\"{int(df_transposed_glove_25.loc['Parameters', col]):,}\",\n",
    "        f\"{df_transposed_glove_25.loc['Time (sec)', col]:.2f}\"\n",
    "    ]\n",
    "    for col in df_transposed_glove_25.columns\n",
    "}, index=[\"Accuracy\", \"Parameters\", \"Time cost\"])\n",
    "\n",
    "df_display_glove_25"
   ]
  },
  {
   "cell_type": "markdown",
   "id": "b751f284",
   "metadata": {},
   "source": [
    "### Ερώτημα Γ.4 – Χρήση Προεκπαιδευμένων Word Embeddings (GloVe) με MAX_WORDS = 25\n",
    "\n",
    "Μετά την αλλαγή του `MAX_WORDS` πίσω σε 25 (όπως ζητούσε η εκφώνηση) και την εκπαίδευση των μοντέλων με προ-εκπαιδευμένα embeddings (GloVe 6B, 100d), προκύπτουν τα εξής:\n",
    "\n",
    "- **Βελτίωση της ακρίβειας** σε όλα τα μοντέλα, περίπου κατά **1–2%** σε σχέση με τα randomly initialized embeddings.\n",
    "\n",
    "-  **Μικρή μείωση του χρόνου εκπαίδευσης** σε όλα τα μοντέλα (~0.5–1 sec ανά epoch).\n",
    "  - Πιθανότατα λόγω καλύτερης αρχικοποίησης, που επιτρέπει ταχύτερη σύγκλιση.\n",
    "\n",
    "- **Καμία διαφορά στον αριθμό παραμέτρων**.\n",
    "  - Το μέγεθος του μοντέλου εξαρτάται από το μέγεθος του λεξιλογίου και των κρυφών επιπέδων, όχι από το είδος της αρχικοποίησης των embeddings.\n",
    "\n",
    "---\n",
    "\n",
    "📌 Γενικό συμπέρασμα:\n",
    "> Η χρήση προεκπαιδευμένων GloVe embeddings οδηγεί σε καλύτερη αρχική αναπαράσταση των λέξεων, βελτιώνοντας ελαφρώς την τελική ακρίβεια των μοντέλων χωρίς σημαντικό computational overhead.\n"
   ]
  },
  {
   "cell_type": "markdown",
   "id": "b92159a8",
   "metadata": {},
   "source": [
    "## 🧊 Ερώτημα Γ.5 – Χρήση Προεκπαιδευμένων GloVe Embeddings με `freeze=True`\n",
    "\n",
    "Σε αυτό το ερώτημα δοκιμάζουμε το πείραμα του Ερωτήματος 4 **με παγωμένα (frozen) embeddings**, ώστε να **μην ενημερώνονται τα διανύσματα** κατά τη διάρκεια της εκπαίδευσης."
   ]
  },
  {
   "cell_type": "markdown",
   "id": "fdd7b09d",
   "metadata": {},
   "source": [
    "### 🧪 Εκτέλεση Πειράματος\n",
    "\n",
    "Η μόνη αλλαγή στην κλήση της συνάρτησης `run_experiments()` είναι η προσθήκη του ορίσματος `freeze_embeddings=True`:\n"
   ]
  },
  {
   "cell_type": "code",
   "execution_count": 79,
   "id": "9cef0ee4",
   "metadata": {},
   "outputs": [
    {
     "name": "stdout",
     "output_type": "stream",
     "text": [
      "\n",
      "🔄 Training: 1RNN\n",
      "Epoch 1\n"
     ]
    },
    {
     "name": "stderr",
     "output_type": "stream",
     "text": [
      "100%|██████████| 118/118 [00:05<00:00, 22.18it/s]\n"
     ]
    },
    {
     "name": "stdout",
     "output_type": "stream",
     "text": [
      "Train Loss: 1.0680 | Val Loss: 0.9012 | Val Accuracy: 0.8471\n",
      "\n",
      "Epoch 2\n"
     ]
    },
    {
     "name": "stderr",
     "output_type": "stream",
     "text": [
      "100%|██████████| 118/118 [00:03<00:00, 35.35it/s]\n"
     ]
    },
    {
     "name": "stdout",
     "output_type": "stream",
     "text": [
      "Train Loss: 0.9006 | Val Loss: 0.9069 | Val Accuracy: 0.8354\n",
      "\n",
      "Epoch 3\n"
     ]
    },
    {
     "name": "stderr",
     "output_type": "stream",
     "text": [
      "100%|██████████| 118/118 [00:03<00:00, 35.16it/s]\n"
     ]
    },
    {
     "name": "stdout",
     "output_type": "stream",
     "text": [
      "Train Loss: 0.8909 | Val Loss: 0.8859 | Val Accuracy: 0.8562\n",
      "\n",
      "Epoch 4\n"
     ]
    },
    {
     "name": "stderr",
     "output_type": "stream",
     "text": [
      "100%|██████████| 118/118 [00:03<00:00, 34.51it/s]\n"
     ]
    },
    {
     "name": "stdout",
     "output_type": "stream",
     "text": [
      "Train Loss: 0.8858 | Val Loss: 0.8815 | Val Accuracy: 0.8612\n",
      "\n",
      "Epoch 5\n"
     ]
    },
    {
     "name": "stderr",
     "output_type": "stream",
     "text": [
      "100%|██████████| 118/118 [00:03<00:00, 35.66it/s]\n"
     ]
    },
    {
     "name": "stdout",
     "output_type": "stream",
     "text": [
      "Train Loss: 0.8859 | Val Loss: 0.8833 | Val Accuracy: 0.8597\n",
      "\n",
      "Epoch 6\n"
     ]
    },
    {
     "name": "stderr",
     "output_type": "stream",
     "text": [
      "100%|██████████| 118/118 [00:03<00:00, 34.94it/s]\n"
     ]
    },
    {
     "name": "stdout",
     "output_type": "stream",
     "text": [
      "Train Loss: 0.8852 | Val Loss: 0.8818 | Val Accuracy: 0.8603\n",
      "\n",
      "Epoch 7\n"
     ]
    },
    {
     "name": "stderr",
     "output_type": "stream",
     "text": [
      "100%|██████████| 118/118 [00:03<00:00, 32.22it/s]\n"
     ]
    },
    {
     "name": "stdout",
     "output_type": "stream",
     "text": [
      "Train Loss: 0.8834 | Val Loss: 0.8767 | Val Accuracy: 0.8649\n",
      "\n",
      "Epoch 8\n"
     ]
    },
    {
     "name": "stderr",
     "output_type": "stream",
     "text": [
      "100%|██████████| 118/118 [00:03<00:00, 32.65it/s]\n"
     ]
    },
    {
     "name": "stdout",
     "output_type": "stream",
     "text": [
      "Train Loss: 0.8799 | Val Loss: 0.8789 | Val Accuracy: 0.8630\n",
      "\n",
      "Epoch 9\n"
     ]
    },
    {
     "name": "stderr",
     "output_type": "stream",
     "text": [
      "100%|██████████| 118/118 [00:03<00:00, 35.37it/s]\n"
     ]
    },
    {
     "name": "stdout",
     "output_type": "stream",
     "text": [
      "Train Loss: 0.8821 | Val Loss: 0.8775 | Val Accuracy: 0.8639\n",
      "\n",
      "Epoch 10\n"
     ]
    },
    {
     "name": "stderr",
     "output_type": "stream",
     "text": [
      "100%|██████████| 118/118 [00:03<00:00, 35.38it/s]\n"
     ]
    },
    {
     "name": "stdout",
     "output_type": "stream",
     "text": [
      "Train Loss: 0.8771 | Val Loss: 0.8828 | Val Accuracy: 0.8601\n",
      "\n",
      "Epoch 11\n"
     ]
    },
    {
     "name": "stderr",
     "output_type": "stream",
     "text": [
      "100%|██████████| 118/118 [00:03<00:00, 35.58it/s]\n"
     ]
    },
    {
     "name": "stdout",
     "output_type": "stream",
     "text": [
      "Train Loss: 0.8765 | Val Loss: 0.8799 | Val Accuracy: 0.8638\n",
      "\n",
      "Epoch 12\n"
     ]
    },
    {
     "name": "stderr",
     "output_type": "stream",
     "text": [
      "100%|██████████| 118/118 [00:03<00:00, 35.77it/s]\n"
     ]
    },
    {
     "name": "stdout",
     "output_type": "stream",
     "text": [
      "Train Loss: 0.8761 | Val Loss: 0.8765 | Val Accuracy: 0.8654\n",
      "\n",
      "Epoch 13\n"
     ]
    },
    {
     "name": "stderr",
     "output_type": "stream",
     "text": [
      "100%|██████████| 118/118 [00:03<00:00, 32.87it/s]\n"
     ]
    },
    {
     "name": "stdout",
     "output_type": "stream",
     "text": [
      "Train Loss: 0.8857 | Val Loss: 0.8773 | Val Accuracy: 0.8646\n",
      "\n",
      "Epoch 14\n"
     ]
    },
    {
     "name": "stderr",
     "output_type": "stream",
     "text": [
      "100%|██████████| 118/118 [00:03<00:00, 35.60it/s]\n"
     ]
    },
    {
     "name": "stdout",
     "output_type": "stream",
     "text": [
      "Train Loss: 0.8766 | Val Loss: 0.8823 | Val Accuracy: 0.8597\n",
      "\n",
      "Epoch 15\n"
     ]
    },
    {
     "name": "stderr",
     "output_type": "stream",
     "text": [
      "100%|██████████| 118/118 [00:03<00:00, 32.27it/s]\n"
     ]
    },
    {
     "name": "stdout",
     "output_type": "stream",
     "text": [
      "Train Loss: 0.8859 | Val Loss: 0.8765 | Val Accuracy: 0.8645\n",
      "\n",
      "\n",
      "🔄 Training: 1Bi-RNN\n",
      "Epoch 1\n"
     ]
    },
    {
     "name": "stderr",
     "output_type": "stream",
     "text": [
      "100%|██████████| 118/118 [00:05<00:00, 22.71it/s]\n"
     ]
    },
    {
     "name": "stdout",
     "output_type": "stream",
     "text": [
      "Train Loss: 1.0896 | Val Loss: 0.9450 | Val Accuracy: 0.8109\n",
      "\n",
      "Epoch 2\n"
     ]
    },
    {
     "name": "stderr",
     "output_type": "stream",
     "text": [
      "100%|██████████| 118/118 [00:05<00:00, 22.83it/s]\n"
     ]
    },
    {
     "name": "stdout",
     "output_type": "stream",
     "text": [
      "Train Loss: 0.9178 | Val Loss: 0.9045 | Val Accuracy: 0.8396\n",
      "\n",
      "Epoch 3\n"
     ]
    },
    {
     "name": "stderr",
     "output_type": "stream",
     "text": [
      "100%|██████████| 118/118 [00:05<00:00, 22.38it/s]\n"
     ]
    },
    {
     "name": "stdout",
     "output_type": "stream",
     "text": [
      "Train Loss: 0.8996 | Val Loss: 0.8975 | Val Accuracy: 0.8472\n",
      "\n",
      "Epoch 4\n"
     ]
    },
    {
     "name": "stderr",
     "output_type": "stream",
     "text": [
      "100%|██████████| 118/118 [00:05<00:00, 22.51it/s]\n"
     ]
    },
    {
     "name": "stdout",
     "output_type": "stream",
     "text": [
      "Train Loss: 0.9083 | Val Loss: 0.8997 | Val Accuracy: 0.8418\n",
      "\n",
      "Epoch 5\n"
     ]
    },
    {
     "name": "stderr",
     "output_type": "stream",
     "text": [
      "100%|██████████| 118/118 [00:05<00:00, 22.61it/s]\n"
     ]
    },
    {
     "name": "stdout",
     "output_type": "stream",
     "text": [
      "Train Loss: 0.8979 | Val Loss: 0.8915 | Val Accuracy: 0.8521\n",
      "\n",
      "Epoch 6\n"
     ]
    },
    {
     "name": "stderr",
     "output_type": "stream",
     "text": [
      "100%|██████████| 118/118 [00:05<00:00, 21.14it/s]\n"
     ]
    },
    {
     "name": "stdout",
     "output_type": "stream",
     "text": [
      "Train Loss: 0.8922 | Val Loss: 0.9059 | Val Accuracy: 0.8371\n",
      "\n",
      "Epoch 7\n"
     ]
    },
    {
     "name": "stderr",
     "output_type": "stream",
     "text": [
      "100%|██████████| 118/118 [00:05<00:00, 21.69it/s]\n"
     ]
    },
    {
     "name": "stdout",
     "output_type": "stream",
     "text": [
      "Train Loss: 0.8901 | Val Loss: 0.8903 | Val Accuracy: 0.8534\n",
      "\n",
      "Epoch 8\n"
     ]
    },
    {
     "name": "stderr",
     "output_type": "stream",
     "text": [
      "100%|██████████| 118/118 [00:05<00:00, 22.83it/s]\n"
     ]
    },
    {
     "name": "stdout",
     "output_type": "stream",
     "text": [
      "Train Loss: 0.9151 | Val Loss: 0.8914 | Val Accuracy: 0.8509\n",
      "\n",
      "Epoch 9\n"
     ]
    },
    {
     "name": "stderr",
     "output_type": "stream",
     "text": [
      "100%|██████████| 118/118 [00:05<00:00, 21.41it/s]\n"
     ]
    },
    {
     "name": "stdout",
     "output_type": "stream",
     "text": [
      "Train Loss: 0.8846 | Val Loss: 0.8808 | Val Accuracy: 0.8617\n",
      "\n",
      "Epoch 10\n"
     ]
    },
    {
     "name": "stderr",
     "output_type": "stream",
     "text": [
      "100%|██████████| 118/118 [00:05<00:00, 22.61it/s]\n"
     ]
    },
    {
     "name": "stdout",
     "output_type": "stream",
     "text": [
      "Train Loss: 0.8845 | Val Loss: 0.8816 | Val Accuracy: 0.8603\n",
      "\n",
      "Epoch 11\n"
     ]
    },
    {
     "name": "stderr",
     "output_type": "stream",
     "text": [
      "100%|██████████| 118/118 [00:05<00:00, 22.42it/s]\n"
     ]
    },
    {
     "name": "stdout",
     "output_type": "stream",
     "text": [
      "Train Loss: 0.8961 | Val Loss: 0.8831 | Val Accuracy: 0.8593\n",
      "\n",
      "Epoch 12\n"
     ]
    },
    {
     "name": "stderr",
     "output_type": "stream",
     "text": [
      "100%|██████████| 118/118 [00:05<00:00, 21.90it/s]\n"
     ]
    },
    {
     "name": "stdout",
     "output_type": "stream",
     "text": [
      "Train Loss: 0.8803 | Val Loss: 0.8751 | Val Accuracy: 0.8661\n",
      "\n",
      "Epoch 13\n"
     ]
    },
    {
     "name": "stderr",
     "output_type": "stream",
     "text": [
      "100%|██████████| 118/118 [00:05<00:00, 19.77it/s]\n"
     ]
    },
    {
     "name": "stdout",
     "output_type": "stream",
     "text": [
      "Train Loss: 0.8915 | Val Loss: 0.8928 | Val Accuracy: 0.8497\n",
      "\n",
      "Epoch 14\n"
     ]
    },
    {
     "name": "stderr",
     "output_type": "stream",
     "text": [
      "100%|██████████| 118/118 [00:05<00:00, 21.99it/s]\n"
     ]
    },
    {
     "name": "stdout",
     "output_type": "stream",
     "text": [
      "Train Loss: 0.8967 | Val Loss: 0.8890 | Val Accuracy: 0.8526\n",
      "\n",
      "Epoch 15\n"
     ]
    },
    {
     "name": "stderr",
     "output_type": "stream",
     "text": [
      "100%|██████████| 118/118 [00:05<00:00, 22.46it/s]\n"
     ]
    },
    {
     "name": "stdout",
     "output_type": "stream",
     "text": [
      "Train Loss: 0.8896 | Val Loss: 0.8891 | Val Accuracy: 0.8518\n",
      "\n",
      "\n",
      "🔄 Training: 2Bi-RNN\n",
      "Epoch 1\n"
     ]
    },
    {
     "name": "stderr",
     "output_type": "stream",
     "text": [
      "100%|██████████| 118/118 [00:08<00:00, 13.11it/s]\n"
     ]
    },
    {
     "name": "stdout",
     "output_type": "stream",
     "text": [
      "Train Loss: 1.0156 | Val Loss: 0.9186 | Val Accuracy: 0.8229\n",
      "\n",
      "Epoch 2\n"
     ]
    },
    {
     "name": "stderr",
     "output_type": "stream",
     "text": [
      "100%|██████████| 118/118 [00:08<00:00, 13.33it/s]\n"
     ]
    },
    {
     "name": "stdout",
     "output_type": "stream",
     "text": [
      "Train Loss: 0.8944 | Val Loss: 0.8864 | Val Accuracy: 0.8547\n",
      "\n",
      "Epoch 3\n"
     ]
    },
    {
     "name": "stderr",
     "output_type": "stream",
     "text": [
      "100%|██████████| 118/118 [00:09<00:00, 12.98it/s]\n"
     ]
    },
    {
     "name": "stdout",
     "output_type": "stream",
     "text": [
      "Train Loss: 0.8857 | Val Loss: 0.8911 | Val Accuracy: 0.8521\n",
      "\n",
      "Epoch 4\n"
     ]
    },
    {
     "name": "stderr",
     "output_type": "stream",
     "text": [
      "100%|██████████| 118/118 [00:08<00:00, 13.13it/s]\n"
     ]
    },
    {
     "name": "stdout",
     "output_type": "stream",
     "text": [
      "Train Loss: 0.8919 | Val Loss: 0.8827 | Val Accuracy: 0.8582\n",
      "\n",
      "Epoch 5\n"
     ]
    },
    {
     "name": "stderr",
     "output_type": "stream",
     "text": [
      "100%|██████████| 118/118 [00:08<00:00, 13.43it/s]\n"
     ]
    },
    {
     "name": "stdout",
     "output_type": "stream",
     "text": [
      "Train Loss: 0.8838 | Val Loss: 0.8848 | Val Accuracy: 0.8566\n",
      "\n",
      "Epoch 6\n"
     ]
    },
    {
     "name": "stderr",
     "output_type": "stream",
     "text": [
      "100%|██████████| 118/118 [00:08<00:00, 13.63it/s]\n"
     ]
    },
    {
     "name": "stdout",
     "output_type": "stream",
     "text": [
      "Train Loss: 0.8834 | Val Loss: 0.8800 | Val Accuracy: 0.8614\n",
      "\n",
      "Epoch 7\n"
     ]
    },
    {
     "name": "stderr",
     "output_type": "stream",
     "text": [
      "100%|██████████| 118/118 [00:08<00:00, 13.65it/s]\n"
     ]
    },
    {
     "name": "stdout",
     "output_type": "stream",
     "text": [
      "Train Loss: 0.8820 | Val Loss: 0.8793 | Val Accuracy: 0.8616\n",
      "\n",
      "Epoch 8\n"
     ]
    },
    {
     "name": "stderr",
     "output_type": "stream",
     "text": [
      "100%|██████████| 118/118 [00:08<00:00, 13.13it/s]\n"
     ]
    },
    {
     "name": "stdout",
     "output_type": "stream",
     "text": [
      "Train Loss: 0.9006 | Val Loss: 0.9015 | Val Accuracy: 0.8396\n",
      "\n",
      "Epoch 9\n"
     ]
    },
    {
     "name": "stderr",
     "output_type": "stream",
     "text": [
      "100%|██████████| 118/118 [00:08<00:00, 13.70it/s]\n"
     ]
    },
    {
     "name": "stdout",
     "output_type": "stream",
     "text": [
      "Train Loss: 0.8803 | Val Loss: 0.8887 | Val Accuracy: 0.8551\n",
      "\n",
      "Epoch 10\n"
     ]
    },
    {
     "name": "stderr",
     "output_type": "stream",
     "text": [
      "100%|██████████| 118/118 [00:08<00:00, 13.80it/s]\n"
     ]
    },
    {
     "name": "stdout",
     "output_type": "stream",
     "text": [
      "Train Loss: 0.8836 | Val Loss: 0.8800 | Val Accuracy: 0.8625\n",
      "\n",
      "Epoch 11\n"
     ]
    },
    {
     "name": "stderr",
     "output_type": "stream",
     "text": [
      "100%|██████████| 118/118 [00:08<00:00, 13.63it/s]\n"
     ]
    },
    {
     "name": "stdout",
     "output_type": "stream",
     "text": [
      "Train Loss: 0.8810 | Val Loss: 0.8785 | Val Accuracy: 0.8638\n",
      "\n",
      "Epoch 12\n"
     ]
    },
    {
     "name": "stderr",
     "output_type": "stream",
     "text": [
      "100%|██████████| 118/118 [00:08<00:00, 13.86it/s]\n"
     ]
    },
    {
     "name": "stdout",
     "output_type": "stream",
     "text": [
      "Train Loss: 0.8804 | Val Loss: 0.8809 | Val Accuracy: 0.8600\n",
      "\n",
      "Epoch 13\n"
     ]
    },
    {
     "name": "stderr",
     "output_type": "stream",
     "text": [
      "100%|██████████| 118/118 [00:08<00:00, 14.01it/s]\n"
     ]
    },
    {
     "name": "stdout",
     "output_type": "stream",
     "text": [
      "Train Loss: 0.8838 | Val Loss: 0.8838 | Val Accuracy: 0.8591\n",
      "\n",
      "Epoch 14\n"
     ]
    },
    {
     "name": "stderr",
     "output_type": "stream",
     "text": [
      "100%|██████████| 118/118 [00:08<00:00, 13.38it/s]\n"
     ]
    },
    {
     "name": "stdout",
     "output_type": "stream",
     "text": [
      "Train Loss: 0.8919 | Val Loss: 0.8907 | Val Accuracy: 0.8511\n",
      "\n",
      "Epoch 15\n"
     ]
    },
    {
     "name": "stderr",
     "output_type": "stream",
     "text": [
      "100%|██████████| 118/118 [00:08<00:00, 13.64it/s]\n"
     ]
    },
    {
     "name": "stdout",
     "output_type": "stream",
     "text": [
      "Train Loss: 0.9047 | Val Loss: 0.8913 | Val Accuracy: 0.8492\n",
      "\n",
      "\n",
      "🔄 Training: 1LSTM\n",
      "Epoch 1\n"
     ]
    },
    {
     "name": "stderr",
     "output_type": "stream",
     "text": [
      "100%|██████████| 118/118 [00:06<00:00, 17.68it/s]\n"
     ]
    },
    {
     "name": "stdout",
     "output_type": "stream",
     "text": [
      "Train Loss: 1.0298 | Val Loss: 0.8855 | Val Accuracy: 0.8616\n",
      "\n",
      "Epoch 2\n"
     ]
    },
    {
     "name": "stderr",
     "output_type": "stream",
     "text": [
      "100%|██████████| 118/118 [00:06<00:00, 17.21it/s]\n"
     ]
    },
    {
     "name": "stdout",
     "output_type": "stream",
     "text": [
      "Train Loss: 0.8760 | Val Loss: 0.8706 | Val Accuracy: 0.8718\n",
      "\n",
      "Epoch 3\n"
     ]
    },
    {
     "name": "stderr",
     "output_type": "stream",
     "text": [
      "100%|██████████| 118/118 [00:06<00:00, 18.07it/s]\n"
     ]
    },
    {
     "name": "stdout",
     "output_type": "stream",
     "text": [
      "Train Loss: 0.8647 | Val Loss: 0.8685 | Val Accuracy: 0.8741\n",
      "\n",
      "Epoch 4\n"
     ]
    },
    {
     "name": "stderr",
     "output_type": "stream",
     "text": [
      "100%|██████████| 118/118 [00:06<00:00, 17.98it/s]\n"
     ]
    },
    {
     "name": "stdout",
     "output_type": "stream",
     "text": [
      "Train Loss: 0.8586 | Val Loss: 0.8605 | Val Accuracy: 0.8808\n",
      "\n",
      "Epoch 5\n"
     ]
    },
    {
     "name": "stderr",
     "output_type": "stream",
     "text": [
      "100%|██████████| 118/118 [00:06<00:00, 17.63it/s]\n"
     ]
    },
    {
     "name": "stdout",
     "output_type": "stream",
     "text": [
      "Train Loss: 0.8543 | Val Loss: 0.8557 | Val Accuracy: 0.8855\n",
      "\n",
      "Epoch 6\n"
     ]
    },
    {
     "name": "stderr",
     "output_type": "stream",
     "text": [
      "100%|██████████| 118/118 [00:06<00:00, 17.81it/s]\n"
     ]
    },
    {
     "name": "stdout",
     "output_type": "stream",
     "text": [
      "Train Loss: 0.8507 | Val Loss: 0.8527 | Val Accuracy: 0.8867\n",
      "\n",
      "Epoch 7\n"
     ]
    },
    {
     "name": "stderr",
     "output_type": "stream",
     "text": [
      "100%|██████████| 118/118 [00:06<00:00, 18.01it/s]\n"
     ]
    },
    {
     "name": "stdout",
     "output_type": "stream",
     "text": [
      "Train Loss: 0.8484 | Val Loss: 0.8525 | Val Accuracy: 0.8886\n",
      "\n",
      "Epoch 8\n"
     ]
    },
    {
     "name": "stderr",
     "output_type": "stream",
     "text": [
      "100%|██████████| 118/118 [00:07<00:00, 16.82it/s]\n"
     ]
    },
    {
     "name": "stdout",
     "output_type": "stream",
     "text": [
      "Train Loss: 0.8465 | Val Loss: 0.8511 | Val Accuracy: 0.8904\n",
      "\n",
      "Epoch 9\n"
     ]
    },
    {
     "name": "stderr",
     "output_type": "stream",
     "text": [
      "100%|██████████| 118/118 [00:06<00:00, 17.21it/s]\n"
     ]
    },
    {
     "name": "stdout",
     "output_type": "stream",
     "text": [
      "Train Loss: 0.8435 | Val Loss: 0.8478 | Val Accuracy: 0.8943\n",
      "\n",
      "Epoch 10\n"
     ]
    },
    {
     "name": "stderr",
     "output_type": "stream",
     "text": [
      "100%|██████████| 118/118 [00:06<00:00, 18.02it/s]\n"
     ]
    },
    {
     "name": "stdout",
     "output_type": "stream",
     "text": [
      "Train Loss: 0.8412 | Val Loss: 0.8526 | Val Accuracy: 0.8892\n",
      "\n",
      "Epoch 11\n"
     ]
    },
    {
     "name": "stderr",
     "output_type": "stream",
     "text": [
      "100%|██████████| 118/118 [00:06<00:00, 18.18it/s]\n"
     ]
    },
    {
     "name": "stdout",
     "output_type": "stream",
     "text": [
      "Train Loss: 0.8393 | Val Loss: 0.8513 | Val Accuracy: 0.8893\n",
      "\n",
      "Epoch 12\n"
     ]
    },
    {
     "name": "stderr",
     "output_type": "stream",
     "text": [
      "100%|██████████| 118/118 [00:06<00:00, 17.76it/s]\n"
     ]
    },
    {
     "name": "stdout",
     "output_type": "stream",
     "text": [
      "Train Loss: 0.8372 | Val Loss: 0.8487 | Val Accuracy: 0.8921\n",
      "\n",
      "Epoch 13\n"
     ]
    },
    {
     "name": "stderr",
     "output_type": "stream",
     "text": [
      "100%|██████████| 118/118 [00:07<00:00, 16.78it/s]\n"
     ]
    },
    {
     "name": "stdout",
     "output_type": "stream",
     "text": [
      "Train Loss: 0.8373 | Val Loss: 0.8444 | Val Accuracy: 0.8949\n",
      "\n",
      "Epoch 14\n"
     ]
    },
    {
     "name": "stderr",
     "output_type": "stream",
     "text": [
      "100%|██████████| 118/118 [00:06<00:00, 18.11it/s]\n"
     ]
    },
    {
     "name": "stdout",
     "output_type": "stream",
     "text": [
      "Train Loss: 0.8348 | Val Loss: 0.8452 | Val Accuracy: 0.8961\n",
      "\n",
      "Epoch 15\n"
     ]
    },
    {
     "name": "stderr",
     "output_type": "stream",
     "text": [
      "100%|██████████| 118/118 [00:06<00:00, 17.65it/s]\n"
     ]
    },
    {
     "name": "stdout",
     "output_type": "stream",
     "text": [
      "Train Loss: 0.8327 | Val Loss: 0.8436 | Val Accuracy: 0.8976\n",
      "\n",
      "\n",
      "🔄 Training: 1Bi-LSTM\n",
      "Epoch 1\n"
     ]
    },
    {
     "name": "stderr",
     "output_type": "stream",
     "text": [
      "100%|██████████| 118/118 [00:12<00:00,  9.77it/s]\n"
     ]
    },
    {
     "name": "stdout",
     "output_type": "stream",
     "text": [
      "Train Loss: 1.0464 | Val Loss: 0.8823 | Val Accuracy: 0.8661\n",
      "\n",
      "Epoch 2\n"
     ]
    },
    {
     "name": "stderr",
     "output_type": "stream",
     "text": [
      "100%|██████████| 118/118 [00:11<00:00, 10.33it/s]\n"
     ]
    },
    {
     "name": "stdout",
     "output_type": "stream",
     "text": [
      "Train Loss: 0.8750 | Val Loss: 0.8689 | Val Accuracy: 0.8743\n",
      "\n",
      "Epoch 3\n"
     ]
    },
    {
     "name": "stderr",
     "output_type": "stream",
     "text": [
      "100%|██████████| 118/118 [00:11<00:00, 10.39it/s]\n"
     ]
    },
    {
     "name": "stdout",
     "output_type": "stream",
     "text": [
      "Train Loss: 0.8648 | Val Loss: 0.8624 | Val Accuracy: 0.8791\n",
      "\n",
      "Epoch 4\n"
     ]
    },
    {
     "name": "stderr",
     "output_type": "stream",
     "text": [
      "100%|██████████| 118/118 [00:11<00:00, 10.35it/s]\n"
     ]
    },
    {
     "name": "stdout",
     "output_type": "stream",
     "text": [
      "Train Loss: 0.8594 | Val Loss: 0.8596 | Val Accuracy: 0.8822\n",
      "\n",
      "Epoch 5\n"
     ]
    },
    {
     "name": "stderr",
     "output_type": "stream",
     "text": [
      "100%|██████████| 118/118 [00:11<00:00, 10.37it/s]\n"
     ]
    },
    {
     "name": "stdout",
     "output_type": "stream",
     "text": [
      "Train Loss: 0.8543 | Val Loss: 0.8554 | Val Accuracy: 0.8879\n",
      "\n",
      "Epoch 6\n"
     ]
    },
    {
     "name": "stderr",
     "output_type": "stream",
     "text": [
      "100%|██████████| 118/118 [00:11<00:00, 10.01it/s]\n"
     ]
    },
    {
     "name": "stdout",
     "output_type": "stream",
     "text": [
      "Train Loss: 0.8510 | Val Loss: 0.8536 | Val Accuracy: 0.8883\n",
      "\n",
      "Epoch 7\n"
     ]
    },
    {
     "name": "stderr",
     "output_type": "stream",
     "text": [
      "100%|██████████| 118/118 [00:11<00:00,  9.93it/s]\n"
     ]
    },
    {
     "name": "stdout",
     "output_type": "stream",
     "text": [
      "Train Loss: 0.8482 | Val Loss: 0.8499 | Val Accuracy: 0.8901\n",
      "\n",
      "Epoch 8\n"
     ]
    },
    {
     "name": "stderr",
     "output_type": "stream",
     "text": [
      "100%|██████████| 118/118 [00:11<00:00, 10.28it/s]\n"
     ]
    },
    {
     "name": "stdout",
     "output_type": "stream",
     "text": [
      "Train Loss: 0.8455 | Val Loss: 0.8496 | Val Accuracy: 0.8912\n",
      "\n",
      "Epoch 9\n"
     ]
    },
    {
     "name": "stderr",
     "output_type": "stream",
     "text": [
      "100%|██████████| 118/118 [00:11<00:00, 10.18it/s]\n"
     ]
    },
    {
     "name": "stdout",
     "output_type": "stream",
     "text": [
      "Train Loss: 0.8434 | Val Loss: 0.8512 | Val Accuracy: 0.8888\n",
      "\n",
      "Epoch 10\n"
     ]
    },
    {
     "name": "stderr",
     "output_type": "stream",
     "text": [
      "100%|██████████| 118/118 [00:11<00:00, 10.28it/s]\n"
     ]
    },
    {
     "name": "stdout",
     "output_type": "stream",
     "text": [
      "Train Loss: 0.8417 | Val Loss: 0.8467 | Val Accuracy: 0.8943\n",
      "\n",
      "Epoch 11\n"
     ]
    },
    {
     "name": "stderr",
     "output_type": "stream",
     "text": [
      "100%|██████████| 118/118 [00:11<00:00,  9.99it/s]\n"
     ]
    },
    {
     "name": "stdout",
     "output_type": "stream",
     "text": [
      "Train Loss: 0.8389 | Val Loss: 0.8451 | Val Accuracy: 0.8950\n",
      "\n",
      "Epoch 12\n"
     ]
    },
    {
     "name": "stderr",
     "output_type": "stream",
     "text": [
      "100%|██████████| 118/118 [00:13<00:00,  9.01it/s]\n"
     ]
    },
    {
     "name": "stdout",
     "output_type": "stream",
     "text": [
      "Train Loss: 0.8379 | Val Loss: 0.8472 | Val Accuracy: 0.8933\n",
      "\n",
      "Epoch 13\n"
     ]
    },
    {
     "name": "stderr",
     "output_type": "stream",
     "text": [
      "100%|██████████| 118/118 [00:14<00:00,  8.15it/s]\n"
     ]
    },
    {
     "name": "stdout",
     "output_type": "stream",
     "text": [
      "Train Loss: 0.8352 | Val Loss: 0.8458 | Val Accuracy: 0.8949\n",
      "\n",
      "Epoch 14\n"
     ]
    },
    {
     "name": "stderr",
     "output_type": "stream",
     "text": [
      "100%|██████████| 118/118 [00:17<00:00,  6.74it/s]\n"
     ]
    },
    {
     "name": "stdout",
     "output_type": "stream",
     "text": [
      "Train Loss: 0.8345 | Val Loss: 0.8442 | Val Accuracy: 0.8967\n",
      "\n",
      "Epoch 15\n"
     ]
    },
    {
     "name": "stderr",
     "output_type": "stream",
     "text": [
      "100%|██████████| 118/118 [00:15<00:00,  7.39it/s]\n"
     ]
    },
    {
     "name": "stdout",
     "output_type": "stream",
     "text": [
      "Train Loss: 0.8334 | Val Loss: 0.8424 | Val Accuracy: 0.8983\n",
      "\n",
      "\n",
      "🔄 Training: 2Bi-LSTM\n",
      "Epoch 1\n"
     ]
    },
    {
     "name": "stderr",
     "output_type": "stream",
     "text": [
      "100%|██████████| 118/118 [00:32<00:00,  3.65it/s]\n"
     ]
    },
    {
     "name": "stdout",
     "output_type": "stream",
     "text": [
      "Train Loss: 0.9900 | Val Loss: 0.8798 | Val Accuracy: 0.8613\n",
      "\n",
      "Epoch 2\n"
     ]
    },
    {
     "name": "stderr",
     "output_type": "stream",
     "text": [
      "100%|██████████| 118/118 [00:28<00:00,  4.15it/s]\n"
     ]
    },
    {
     "name": "stdout",
     "output_type": "stream",
     "text": [
      "Train Loss: 0.8711 | Val Loss: 0.8709 | Val Accuracy: 0.8686\n",
      "\n",
      "Epoch 3\n"
     ]
    },
    {
     "name": "stderr",
     "output_type": "stream",
     "text": [
      "100%|██████████| 118/118 [00:27<00:00,  4.37it/s]\n"
     ]
    },
    {
     "name": "stdout",
     "output_type": "stream",
     "text": [
      "Train Loss: 0.8635 | Val Loss: 0.8624 | Val Accuracy: 0.8797\n",
      "\n",
      "Epoch 4\n"
     ]
    },
    {
     "name": "stderr",
     "output_type": "stream",
     "text": [
      "100%|██████████| 118/118 [00:29<00:00,  4.06it/s]\n"
     ]
    },
    {
     "name": "stdout",
     "output_type": "stream",
     "text": [
      "Train Loss: 0.8585 | Val Loss: 0.8589 | Val Accuracy: 0.8808\n",
      "\n",
      "Epoch 5\n"
     ]
    },
    {
     "name": "stderr",
     "output_type": "stream",
     "text": [
      "100%|██████████| 118/118 [00:27<00:00,  4.30it/s]\n"
     ]
    },
    {
     "name": "stdout",
     "output_type": "stream",
     "text": [
      "Train Loss: 0.8547 | Val Loss: 0.8545 | Val Accuracy: 0.8867\n",
      "\n",
      "Epoch 6\n"
     ]
    },
    {
     "name": "stderr",
     "output_type": "stream",
     "text": [
      "100%|██████████| 118/118 [00:25<00:00,  4.67it/s]\n"
     ]
    },
    {
     "name": "stdout",
     "output_type": "stream",
     "text": [
      "Train Loss: 0.8519 | Val Loss: 0.8520 | Val Accuracy: 0.8896\n",
      "\n",
      "Epoch 7\n"
     ]
    },
    {
     "name": "stderr",
     "output_type": "stream",
     "text": [
      "100%|██████████| 118/118 [00:24<00:00,  4.80it/s]\n"
     ]
    },
    {
     "name": "stdout",
     "output_type": "stream",
     "text": [
      "Train Loss: 0.8492 | Val Loss: 0.8510 | Val Accuracy: 0.8899\n",
      "\n",
      "Epoch 8\n"
     ]
    },
    {
     "name": "stderr",
     "output_type": "stream",
     "text": [
      "100%|██████████| 118/118 [00:25<00:00,  4.65it/s]\n"
     ]
    },
    {
     "name": "stdout",
     "output_type": "stream",
     "text": [
      "Train Loss: 0.8470 | Val Loss: 0.8494 | Val Accuracy: 0.8913\n",
      "\n",
      "Epoch 9\n"
     ]
    },
    {
     "name": "stderr",
     "output_type": "stream",
     "text": [
      "100%|██████████| 118/118 [00:25<00:00,  4.60it/s]\n"
     ]
    },
    {
     "name": "stdout",
     "output_type": "stream",
     "text": [
      "Train Loss: 0.8455 | Val Loss: 0.8471 | Val Accuracy: 0.8943\n",
      "\n",
      "Epoch 10\n"
     ]
    },
    {
     "name": "stderr",
     "output_type": "stream",
     "text": [
      "100%|██████████| 118/118 [00:25<00:00,  4.59it/s]\n"
     ]
    },
    {
     "name": "stdout",
     "output_type": "stream",
     "text": [
      "Train Loss: 0.8426 | Val Loss: 0.8486 | Val Accuracy: 0.8914\n",
      "\n",
      "Epoch 11\n"
     ]
    },
    {
     "name": "stderr",
     "output_type": "stream",
     "text": [
      "100%|██████████| 118/118 [00:25<00:00,  4.60it/s]\n"
     ]
    },
    {
     "name": "stdout",
     "output_type": "stream",
     "text": [
      "Train Loss: 0.8396 | Val Loss: 0.8463 | Val Accuracy: 0.8953\n",
      "\n",
      "Epoch 12\n"
     ]
    },
    {
     "name": "stderr",
     "output_type": "stream",
     "text": [
      "100%|██████████| 118/118 [00:26<00:00,  4.49it/s]\n"
     ]
    },
    {
     "name": "stdout",
     "output_type": "stream",
     "text": [
      "Train Loss: 0.8382 | Val Loss: 0.8443 | Val Accuracy: 0.8975\n",
      "\n",
      "Epoch 13\n"
     ]
    },
    {
     "name": "stderr",
     "output_type": "stream",
     "text": [
      "100%|██████████| 118/118 [00:26<00:00,  4.43it/s]\n"
     ]
    },
    {
     "name": "stdout",
     "output_type": "stream",
     "text": [
      "Train Loss: 0.8373 | Val Loss: 0.8437 | Val Accuracy: 0.8972\n",
      "\n",
      "Epoch 14\n"
     ]
    },
    {
     "name": "stderr",
     "output_type": "stream",
     "text": [
      "100%|██████████| 118/118 [00:26<00:00,  4.49it/s]\n"
     ]
    },
    {
     "name": "stdout",
     "output_type": "stream",
     "text": [
      "Train Loss: 0.8355 | Val Loss: 0.8428 | Val Accuracy: 0.8987\n",
      "\n",
      "Epoch 15\n"
     ]
    },
    {
     "name": "stderr",
     "output_type": "stream",
     "text": [
      "100%|██████████| 118/118 [00:27<00:00,  4.32it/s]\n"
     ]
    },
    {
     "name": "stdout",
     "output_type": "stream",
     "text": [
      "Train Loss: 0.8337 | Val Loss: 0.8474 | Val Accuracy: 0.8934\n",
      "\n"
     ]
    }
   ],
   "source": [
    "results_glove_frozen, preds_glove_frozen = run_experiments(model_configs, pretrained_embeddings=embedding_matrix, freeze_embeddings=True)"
   ]
  },
  {
   "cell_type": "code",
   "execution_count": 80,
   "id": "d2327e80",
   "metadata": {},
   "outputs": [
    {
     "data": {
      "text/html": [
       "<div>\n",
       "<style scoped>\n",
       "    .dataframe tbody tr th:only-of-type {\n",
       "        vertical-align: middle;\n",
       "    }\n",
       "\n",
       "    .dataframe tbody tr th {\n",
       "        vertical-align: top;\n",
       "    }\n",
       "\n",
       "    .dataframe thead th {\n",
       "        text-align: right;\n",
       "    }\n",
       "</style>\n",
       "<table border=\"1\" class=\"dataframe\">\n",
       "  <thead>\n",
       "    <tr style=\"text-align: right;\">\n",
       "      <th></th>\n",
       "      <th>1RNN</th>\n",
       "      <th>1Bi-RNN</th>\n",
       "      <th>2Bi-RNN</th>\n",
       "      <th>1LSTM</th>\n",
       "      <th>1Bi-LSTM</th>\n",
       "      <th>2Bi-LSTM</th>\n",
       "    </tr>\n",
       "  </thead>\n",
       "  <tbody>\n",
       "    <tr>\n",
       "      <th>Accuracy</th>\n",
       "      <td>86.45</td>\n",
       "      <td>85.18</td>\n",
       "      <td>84.92</td>\n",
       "      <td>89.76</td>\n",
       "      <td>89.83</td>\n",
       "      <td>89.34</td>\n",
       "    </tr>\n",
       "    <tr>\n",
       "      <th>Parameters</th>\n",
       "      <td>10,884</td>\n",
       "      <td>21,764</td>\n",
       "      <td>46,596</td>\n",
       "      <td>42,756</td>\n",
       "      <td>85,508</td>\n",
       "      <td>184,836</td>\n",
       "    </tr>\n",
       "    <tr>\n",
       "      <th>Time cost</th>\n",
       "      <td>3.72</td>\n",
       "      <td>5.58</td>\n",
       "      <td>9.10</td>\n",
       "      <td>6.96</td>\n",
       "      <td>13.03</td>\n",
       "      <td>27.73</td>\n",
       "    </tr>\n",
       "  </tbody>\n",
       "</table>\n",
       "</div>"
      ],
      "text/plain": [
       "              1RNN 1Bi-RNN 2Bi-RNN   1LSTM 1Bi-LSTM 2Bi-LSTM\n",
       "Accuracy     86.45   85.18   84.92   89.76    89.83    89.34\n",
       "Parameters  10,884  21,764  46,596  42,756   85,508  184,836\n",
       "Time cost     3.72    5.58    9.10    6.96    13.03    27.73"
      ]
     },
     "execution_count": 80,
     "metadata": {},
     "output_type": "execute_result"
    }
   ],
   "source": [
    "# Transpose results to match the table format in the assignment\n",
    "df_transposed_glove_25_freeze = results_glove_frozen.set_index(\"Model\").T\n",
    "\n",
    "# Round accuracy to 2 decimals, format numbers\n",
    "df_display_glove_25_freeze = pd.DataFrame({\n",
    "    col: [\n",
    "        f\"{df_transposed_glove_25_freeze.loc['Accuracy', col]:.2f}\",\n",
    "        f\"{int(df_transposed_glove_25_freeze.loc['Parameters', col]):,}\",\n",
    "        f\"{df_transposed_glove_25_freeze.loc['Time (sec)', col]:.2f}\"\n",
    "    ]\n",
    "    for col in df_transposed_glove_25_freeze.columns\n",
    "}, index=[\"Accuracy\", \"Parameters\", \"Time cost\"])\n",
    "\n",
    "df_display_glove_25_freeze"
   ]
  },
  {
   "cell_type": "markdown",
   "id": "39bc7e77",
   "metadata": {},
   "source": [
    "### Ερώτημα Γ.5 – Συμπεράσματα\n",
    "\n",
    "Στο πέμπτο ερώτημα, χρησιμοποιήθηκαν και πάλι τα GloVe προεκπαιδευμένα embeddings (`glove.6B.100d`), αλλά αυτή τη φορά το embedding layer παρέμεινε **\"frozen\"** (χωρίς ενημέρωση κατά τη διάρκεια της εκπαίδευσης).\n",
    "\n",
    "Τα βασικά συμπεράσματα είναι:\n",
    "\n",
    "- **Μικρή μείωση της ακρίβειας** σε όλα τα μοντέλα (~1%) σε σχέση με το σενάριο όπου τα embeddings ήταν trainable.\n",
    "  - Ειδικά στα απλά RNN-based μοντέλα, η πτώση ήταν πιο αισθητή.\n",
    "\n",
    "- **Μικρή βελτίωση του χρόνου εκπαίδευσης** (~0.5–1 sec ανά epoch), πιθανότατα επειδή δεν υπολογίζονταν gradients για το embedding layer.\n",
    "\n",
    "- **Σημαντική μείωση στον αριθμό παραμέτρων**:\n",
    "  - Το frozen embedding layer δεν έχει trainable parameters πλέον, οπότε οι συνολικοί παράμετροι του μοντέλου μειώθηκαν δραματικά.\n",
    "  - Π.χ. `1RNN` είχε μόνο ~10.884 παραμέτρους με frozen embeddings, αντί για ~2 εκατομμύρια όταν ήταν trainable.\n",
    "\n",
    "---\n",
    "\n",
    "📌 Γενικό Συμπέρασμα:\n",
    "> Το \"πάγωμα\" των embeddings μειώνει την πολυπλοκότητα και το χρόνο εκπαίδευσης, αλλά μπορεί να οδηγήσει σε μικρή πτώση της τελικής ακρίβειας. Το αποτέλεσμα εξαρτάται από το μοντέλο και το πόσο κατάλληλα είναι τα προεκπαιδευμένα embeddings για το συγκεκριμένο task.\n"
   ]
  },
  {
   "cell_type": "markdown",
   "id": "bf7a53e9",
   "metadata": {},
   "source": [
    "## 🎬 Ερώτημα Γ.6 – Εφαρμογή σε νέο Dataset: IMDB Movie Reviews\n",
    "\n",
    "Σε αυτό το ερώτημα εφαρμόζεται η ίδια διαδικασία με τα προηγούμενα, αλλά σε ένα **νέο dataset**: το IMDB dataset που περιλαμβάνει 50.000 κριτικές ταινιών, ταξινομημένες ως **θετικές** ή **αρνητικές**.\n"
   ]
  },
  {
   "cell_type": "markdown",
   "id": "622358aa",
   "metadata": {},
   "source": [
    "### Εισαγωγή και Προεπεξεργασία Δεδομένων\n",
    "\n",
    "- Το dataset έχει ληφθεί από [Kaggle](https://www.kaggle.com/datasets/lakshmi25npathi/imdb-dataset-of-50k-movie-reviews) και περιέχει δύο στήλες:\n",
    "  - `review` → το κείμενο της κριτικής\n",
    "  - `sentiment` → η ετικέτα (`positive`, `negative`)\n",
    "  \n",
    "- Οι ετικέτες μετατράπηκαν σε αριθμούς: `positive = 1`, `negative = 0`\n",
    "\n",
    "- Το dataset χωρίστηκε σε **training (80%)** και **test (20%)** με `train_test_split` και `stratify` ώστε να διατηρηθεί η ισορροπία των κατηγοριών.\n"
   ]
  },
  {
   "cell_type": "code",
   "execution_count": 191,
   "id": "441454f1",
   "metadata": {},
   "outputs": [],
   "source": [
    "# Φόρτωση του IMDB dataset\n",
    "dataset_imdb = pd.read_csv(\"IMDB Dataset.csv\")\n",
    "\n",
    "# Mapping από \"positive\"/\"negative\" σε 1/0\n",
    "dataset_imdb[\"label\"] = dataset_imdb[\"sentiment\"].map({\"positive\": 1, \"negative\": 0})\n",
    "\n",
    "# Split 80/20\n",
    "from sklearn.model_selection import train_test_split\n",
    "\n",
    "X_train_imdb, X_test_imdb, y_train_imdb, y_test_imdb = train_test_split(\n",
    "    dataset_imdb[\"review\"],\n",
    "    dataset_imdb[\"label\"],\n",
    "    test_size=0.2,\n",
    "    random_state=42,\n",
    "    stratify=dataset_imdb[\"label\"]\n",
    ")\n"
   ]
  },
  {
   "cell_type": "code",
   "execution_count": 195,
   "id": "c97bd787",
   "metadata": {},
   "outputs": [],
   "source": [
    "# Δημιουργία dataset λιστών\n",
    "train_dataset_imdb = [(label, text) for label, text in zip(y_train_imdb, X_train_imdb)]\n",
    "test_dataset_imdb = [(label, text) for label, text in zip(y_test_imdb, X_test_imdb)]\n"
   ]
  },
  {
   "cell_type": "markdown",
   "id": "e29b9f5e",
   "metadata": {},
   "source": [
    "### Εκτέλεση Πειραμάτων\n",
    "\n",
    "- Χρησιμοποιήθηκε **ξεχωριστό λεξιλόγιο** (`vocab_imdb`) που δημιουργήθηκε από τα train/test κείμενα του IMDB.\n",
    "- Οι προβλέψεις έγιναν με τα 6 προκαθορισμένα μοντέλα (RNN / LSTM, 1-layer / 2-layer, uni/bidirectional).\n",
    "- Το collate function προσαρμόστηκε με `shift_labels=False` καθώς οι ετικέτες είναι ήδη 0 και 1.\n"
   ]
  },
  {
   "cell_type": "code",
   "execution_count": 196,
   "id": "58ea2832",
   "metadata": {},
   "outputs": [
    {
     "name": "stdout",
     "output_type": "stream",
     "text": [
      "Vocabulary size (IMDB): 29065\n"
     ]
    }
   ],
   "source": [
    "# Χτίσιμο vocab_imdb IMDB\n",
    "vocab_imdb = build_vocab_from_iterator(\n",
    "    build_vocabulary([train_dataset_imdb, test_dataset_imdb]),\n",
    "    min_freq=10,\n",
    "    specials=[\"<PAD>\", \"<UNK>\"]\n",
    ")\n",
    "vocab_imdb.set_default_index(vocab_imdb[\"<UNK>\"])\n",
    "\n",
    "print(f\"Vocabulary size (IMDB): {len(vocab_imdb)}\")\n"
   ]
  },
  {
   "cell_type": "code",
   "execution_count": 197,
   "id": "c4ccd5b4",
   "metadata": {},
   "outputs": [],
   "source": [
    "from torch.utils.data import DataLoader\n",
    "\n",
    "train_loader_imdb = DataLoader(train_dataset_imdb, batch_size=BATCH_SIZE, shuffle=True, collate_fn=lambda batch: collate_batch(batch, shift_labels=False))\n",
    "test_loader_imdb = DataLoader(test_dataset_imdb, batch_size=BATCH_SIZE, shuffle=False, collate_fn=lambda batch: collate_batch(batch, shift_labels=False))\n"
   ]
  },
  {
   "cell_type": "code",
   "execution_count": 198,
   "id": "0f35e64a",
   "metadata": {},
   "outputs": [
    {
     "name": "stdout",
     "output_type": "stream",
     "text": [
      "\n",
      "🔄 Training: 1RNN\n",
      "Epoch 1\n"
     ]
    },
    {
     "name": "stderr",
     "output_type": "stream",
     "text": [
      "100%|██████████| 40/40 [00:03<00:00, 10.61it/s]\n"
     ]
    },
    {
     "name": "stdout",
     "output_type": "stream",
     "text": [
      "Train Loss: 0.6943 | Val Loss: 0.6918 | Val Accuracy: 0.5215\n",
      "\n",
      "Epoch 2\n"
     ]
    },
    {
     "name": "stderr",
     "output_type": "stream",
     "text": [
      "100%|██████████| 40/40 [00:03<00:00, 13.29it/s]\n"
     ]
    },
    {
     "name": "stdout",
     "output_type": "stream",
     "text": [
      "Train Loss: 0.6844 | Val Loss: 0.6728 | Val Accuracy: 0.5850\n",
      "\n",
      "Epoch 3\n"
     ]
    },
    {
     "name": "stderr",
     "output_type": "stream",
     "text": [
      "100%|██████████| 40/40 [00:02<00:00, 13.35it/s]\n"
     ]
    },
    {
     "name": "stdout",
     "output_type": "stream",
     "text": [
      "Train Loss: 0.6599 | Val Loss: 0.6537 | Val Accuracy: 0.6211\n",
      "\n",
      "Epoch 4\n"
     ]
    },
    {
     "name": "stderr",
     "output_type": "stream",
     "text": [
      "100%|██████████| 40/40 [00:03<00:00, 13.28it/s]\n"
     ]
    },
    {
     "name": "stdout",
     "output_type": "stream",
     "text": [
      "Train Loss: 0.6348 | Val Loss: 0.6368 | Val Accuracy: 0.6516\n",
      "\n",
      "Epoch 5\n"
     ]
    },
    {
     "name": "stderr",
     "output_type": "stream",
     "text": [
      "100%|██████████| 40/40 [00:03<00:00, 12.93it/s]\n"
     ]
    },
    {
     "name": "stdout",
     "output_type": "stream",
     "text": [
      "Train Loss: 0.6178 | Val Loss: 0.6258 | Val Accuracy: 0.6639\n",
      "\n",
      "Epoch 6\n"
     ]
    },
    {
     "name": "stderr",
     "output_type": "stream",
     "text": [
      "100%|██████████| 40/40 [00:03<00:00, 13.22it/s]\n"
     ]
    },
    {
     "name": "stdout",
     "output_type": "stream",
     "text": [
      "Train Loss: 0.5977 | Val Loss: 0.6225 | Val Accuracy: 0.6687\n",
      "\n",
      "Epoch 7\n"
     ]
    },
    {
     "name": "stderr",
     "output_type": "stream",
     "text": [
      "100%|██████████| 40/40 [00:03<00:00, 12.95it/s]\n"
     ]
    },
    {
     "name": "stdout",
     "output_type": "stream",
     "text": [
      "Train Loss: 0.5786 | Val Loss: 0.6128 | Val Accuracy: 0.6801\n",
      "\n",
      "Epoch 8\n"
     ]
    },
    {
     "name": "stderr",
     "output_type": "stream",
     "text": [
      "100%|██████████| 40/40 [00:03<00:00, 12.30it/s]\n"
     ]
    },
    {
     "name": "stdout",
     "output_type": "stream",
     "text": [
      "Train Loss: 0.5701 | Val Loss: 0.6124 | Val Accuracy: 0.6823\n",
      "\n",
      "Epoch 9\n"
     ]
    },
    {
     "name": "stderr",
     "output_type": "stream",
     "text": [
      "100%|██████████| 40/40 [00:03<00:00, 13.14it/s]\n"
     ]
    },
    {
     "name": "stdout",
     "output_type": "stream",
     "text": [
      "Train Loss: 0.5562 | Val Loss: 0.6066 | Val Accuracy: 0.6908\n",
      "\n",
      "Epoch 10\n"
     ]
    },
    {
     "name": "stderr",
     "output_type": "stream",
     "text": [
      "100%|██████████| 40/40 [00:03<00:00, 13.09it/s]\n"
     ]
    },
    {
     "name": "stdout",
     "output_type": "stream",
     "text": [
      "Train Loss: 0.5435 | Val Loss: 0.6059 | Val Accuracy: 0.6887\n",
      "\n",
      "Epoch 11\n"
     ]
    },
    {
     "name": "stderr",
     "output_type": "stream",
     "text": [
      "100%|██████████| 40/40 [00:03<00:00, 12.71it/s]\n"
     ]
    },
    {
     "name": "stdout",
     "output_type": "stream",
     "text": [
      "Train Loss: 0.5332 | Val Loss: 0.6023 | Val Accuracy: 0.6949\n",
      "\n",
      "Epoch 12\n"
     ]
    },
    {
     "name": "stderr",
     "output_type": "stream",
     "text": [
      "100%|██████████| 40/40 [00:03<00:00, 13.10it/s]\n"
     ]
    },
    {
     "name": "stdout",
     "output_type": "stream",
     "text": [
      "Train Loss: 0.5288 | Val Loss: 0.6058 | Val Accuracy: 0.6885\n",
      "\n",
      "Epoch 13\n"
     ]
    },
    {
     "name": "stderr",
     "output_type": "stream",
     "text": [
      "100%|██████████| 40/40 [00:03<00:00, 13.09it/s]\n"
     ]
    },
    {
     "name": "stdout",
     "output_type": "stream",
     "text": [
      "Train Loss: 0.5208 | Val Loss: 0.6033 | Val Accuracy: 0.6919\n",
      "\n",
      "Epoch 14\n"
     ]
    },
    {
     "name": "stderr",
     "output_type": "stream",
     "text": [
      "100%|██████████| 40/40 [00:03<00:00, 13.12it/s]\n"
     ]
    },
    {
     "name": "stdout",
     "output_type": "stream",
     "text": [
      "Train Loss: 0.5090 | Val Loss: 0.5998 | Val Accuracy: 0.6996\n",
      "\n",
      "Epoch 15\n"
     ]
    },
    {
     "name": "stderr",
     "output_type": "stream",
     "text": [
      "100%|██████████| 40/40 [00:03<00:00, 13.14it/s]\n"
     ]
    },
    {
     "name": "stdout",
     "output_type": "stream",
     "text": [
      "Train Loss: 0.5019 | Val Loss: 0.6039 | Val Accuracy: 0.6949\n",
      "\n",
      "\n",
      "🔄 Training: 1Bi-RNN\n",
      "Epoch 1\n"
     ]
    },
    {
     "name": "stderr",
     "output_type": "stream",
     "text": [
      "100%|██████████| 40/40 [00:03<00:00, 10.83it/s]\n"
     ]
    },
    {
     "name": "stdout",
     "output_type": "stream",
     "text": [
      "Train Loss: 0.6943 | Val Loss: 0.6919 | Val Accuracy: 0.5236\n",
      "\n",
      "Epoch 2\n"
     ]
    },
    {
     "name": "stderr",
     "output_type": "stream",
     "text": [
      "100%|██████████| 40/40 [00:03<00:00, 11.84it/s]\n"
     ]
    },
    {
     "name": "stdout",
     "output_type": "stream",
     "text": [
      "Train Loss: 0.6888 | Val Loss: 0.6908 | Val Accuracy: 0.5250\n",
      "\n",
      "Epoch 3\n"
     ]
    },
    {
     "name": "stderr",
     "output_type": "stream",
     "text": [
      "100%|██████████| 40/40 [00:03<00:00, 11.70it/s]\n"
     ]
    },
    {
     "name": "stdout",
     "output_type": "stream",
     "text": [
      "Train Loss: 0.6783 | Val Loss: 0.6764 | Val Accuracy: 0.5803\n",
      "\n",
      "Epoch 4\n"
     ]
    },
    {
     "name": "stderr",
     "output_type": "stream",
     "text": [
      "100%|██████████| 40/40 [00:03<00:00, 11.69it/s]\n"
     ]
    },
    {
     "name": "stdout",
     "output_type": "stream",
     "text": [
      "Train Loss: 0.6530 | Val Loss: 0.6644 | Val Accuracy: 0.6117\n",
      "\n",
      "Epoch 5\n"
     ]
    },
    {
     "name": "stderr",
     "output_type": "stream",
     "text": [
      "100%|██████████| 40/40 [00:03<00:00, 11.28it/s]\n"
     ]
    },
    {
     "name": "stdout",
     "output_type": "stream",
     "text": [
      "Train Loss: 0.6327 | Val Loss: 0.6402 | Val Accuracy: 0.6424\n",
      "\n",
      "Epoch 6\n"
     ]
    },
    {
     "name": "stderr",
     "output_type": "stream",
     "text": [
      "100%|██████████| 40/40 [00:03<00:00, 11.70it/s]\n"
     ]
    },
    {
     "name": "stdout",
     "output_type": "stream",
     "text": [
      "Train Loss: 0.6099 | Val Loss: 0.6257 | Val Accuracy: 0.6620\n",
      "\n",
      "Epoch 7\n"
     ]
    },
    {
     "name": "stderr",
     "output_type": "stream",
     "text": [
      "100%|██████████| 40/40 [00:04<00:00,  9.87it/s]\n"
     ]
    },
    {
     "name": "stdout",
     "output_type": "stream",
     "text": [
      "Train Loss: 0.5890 | Val Loss: 0.6160 | Val Accuracy: 0.6784\n",
      "\n",
      "Epoch 8\n"
     ]
    },
    {
     "name": "stderr",
     "output_type": "stream",
     "text": [
      "100%|██████████| 40/40 [00:03<00:00, 10.93it/s]\n"
     ]
    },
    {
     "name": "stdout",
     "output_type": "stream",
     "text": [
      "Train Loss: 0.5727 | Val Loss: 0.6135 | Val Accuracy: 0.6823\n",
      "\n",
      "Epoch 9\n"
     ]
    },
    {
     "name": "stderr",
     "output_type": "stream",
     "text": [
      "100%|██████████| 40/40 [00:03<00:00, 11.42it/s]\n"
     ]
    },
    {
     "name": "stdout",
     "output_type": "stream",
     "text": [
      "Train Loss: 0.5608 | Val Loss: 0.6079 | Val Accuracy: 0.6868\n",
      "\n",
      "Epoch 10\n"
     ]
    },
    {
     "name": "stderr",
     "output_type": "stream",
     "text": [
      "100%|██████████| 40/40 [00:03<00:00, 11.47it/s]\n"
     ]
    },
    {
     "name": "stdout",
     "output_type": "stream",
     "text": [
      "Train Loss: 0.5442 | Val Loss: 0.6048 | Val Accuracy: 0.6933\n",
      "\n",
      "Epoch 11\n"
     ]
    },
    {
     "name": "stderr",
     "output_type": "stream",
     "text": [
      "100%|██████████| 40/40 [00:03<00:00, 11.65it/s]\n"
     ]
    },
    {
     "name": "stdout",
     "output_type": "stream",
     "text": [
      "Train Loss: 0.5350 | Val Loss: 0.5990 | Val Accuracy: 0.6955\n",
      "\n",
      "Epoch 12\n"
     ]
    },
    {
     "name": "stderr",
     "output_type": "stream",
     "text": [
      "100%|██████████| 40/40 [00:03<00:00, 11.81it/s]\n"
     ]
    },
    {
     "name": "stdout",
     "output_type": "stream",
     "text": [
      "Train Loss: 0.5255 | Val Loss: 0.6112 | Val Accuracy: 0.6816\n",
      "\n",
      "Epoch 13\n"
     ]
    },
    {
     "name": "stderr",
     "output_type": "stream",
     "text": [
      "100%|██████████| 40/40 [00:03<00:00, 11.76it/s]\n"
     ]
    },
    {
     "name": "stdout",
     "output_type": "stream",
     "text": [
      "Train Loss: 0.5200 | Val Loss: 0.6005 | Val Accuracy: 0.6998\n",
      "\n",
      "Epoch 14\n"
     ]
    },
    {
     "name": "stderr",
     "output_type": "stream",
     "text": [
      "100%|██████████| 40/40 [00:03<00:00, 11.54it/s]\n"
     ]
    },
    {
     "name": "stdout",
     "output_type": "stream",
     "text": [
      "Train Loss: 0.5086 | Val Loss: 0.5973 | Val Accuracy: 0.7023\n",
      "\n",
      "Epoch 15\n"
     ]
    },
    {
     "name": "stderr",
     "output_type": "stream",
     "text": [
      "100%|██████████| 40/40 [00:03<00:00, 11.66it/s]\n"
     ]
    },
    {
     "name": "stdout",
     "output_type": "stream",
     "text": [
      "Train Loss: 0.5035 | Val Loss: 0.6003 | Val Accuracy: 0.6972\n",
      "\n",
      "\n",
      "🔄 Training: 2Bi-RNN\n",
      "Epoch 1\n"
     ]
    },
    {
     "name": "stderr",
     "output_type": "stream",
     "text": [
      "100%|██████████| 40/40 [00:04<00:00,  9.68it/s]\n"
     ]
    },
    {
     "name": "stdout",
     "output_type": "stream",
     "text": [
      "Train Loss: 0.6933 | Val Loss: 0.6923 | Val Accuracy: 0.5180\n",
      "\n",
      "Epoch 2\n"
     ]
    },
    {
     "name": "stderr",
     "output_type": "stream",
     "text": [
      "100%|██████████| 40/40 [00:04<00:00,  9.67it/s]\n"
     ]
    },
    {
     "name": "stdout",
     "output_type": "stream",
     "text": [
      "Train Loss: 0.6806 | Val Loss: 0.6762 | Val Accuracy: 0.5808\n",
      "\n",
      "Epoch 3\n"
     ]
    },
    {
     "name": "stderr",
     "output_type": "stream",
     "text": [
      "100%|██████████| 40/40 [00:04<00:00,  9.90it/s]\n"
     ]
    },
    {
     "name": "stdout",
     "output_type": "stream",
     "text": [
      "Train Loss: 0.6636 | Val Loss: 0.6683 | Val Accuracy: 0.6020\n",
      "\n",
      "Epoch 4\n"
     ]
    },
    {
     "name": "stderr",
     "output_type": "stream",
     "text": [
      "100%|██████████| 40/40 [00:04<00:00,  9.88it/s]\n"
     ]
    },
    {
     "name": "stdout",
     "output_type": "stream",
     "text": [
      "Train Loss: 0.6417 | Val Loss: 0.6533 | Val Accuracy: 0.6214\n",
      "\n",
      "Epoch 5\n"
     ]
    },
    {
     "name": "stderr",
     "output_type": "stream",
     "text": [
      "100%|██████████| 40/40 [00:04<00:00,  9.77it/s]\n"
     ]
    },
    {
     "name": "stdout",
     "output_type": "stream",
     "text": [
      "Train Loss: 0.6184 | Val Loss: 0.6314 | Val Accuracy: 0.6561\n",
      "\n",
      "Epoch 6\n"
     ]
    },
    {
     "name": "stderr",
     "output_type": "stream",
     "text": [
      "100%|██████████| 40/40 [00:04<00:00,  8.84it/s]\n"
     ]
    },
    {
     "name": "stdout",
     "output_type": "stream",
     "text": [
      "Train Loss: 0.5980 | Val Loss: 0.6306 | Val Accuracy: 0.6570\n",
      "\n",
      "Epoch 7\n"
     ]
    },
    {
     "name": "stderr",
     "output_type": "stream",
     "text": [
      "100%|██████████| 40/40 [00:04<00:00,  9.86it/s]\n"
     ]
    },
    {
     "name": "stdout",
     "output_type": "stream",
     "text": [
      "Train Loss: 0.5774 | Val Loss: 0.6117 | Val Accuracy: 0.6810\n",
      "\n",
      "Epoch 8\n"
     ]
    },
    {
     "name": "stderr",
     "output_type": "stream",
     "text": [
      "100%|██████████| 40/40 [00:04<00:00,  9.60it/s]\n"
     ]
    },
    {
     "name": "stdout",
     "output_type": "stream",
     "text": [
      "Train Loss: 0.5623 | Val Loss: 0.6103 | Val Accuracy: 0.6811\n",
      "\n",
      "Epoch 9\n"
     ]
    },
    {
     "name": "stderr",
     "output_type": "stream",
     "text": [
      "100%|██████████| 40/40 [00:04<00:00,  9.85it/s]\n"
     ]
    },
    {
     "name": "stdout",
     "output_type": "stream",
     "text": [
      "Train Loss: 0.5468 | Val Loss: 0.6043 | Val Accuracy: 0.6912\n",
      "\n",
      "Epoch 10\n"
     ]
    },
    {
     "name": "stderr",
     "output_type": "stream",
     "text": [
      "100%|██████████| 40/40 [00:04<00:00,  9.73it/s]\n"
     ]
    },
    {
     "name": "stdout",
     "output_type": "stream",
     "text": [
      "Train Loss: 0.5353 | Val Loss: 0.6038 | Val Accuracy: 0.6937\n",
      "\n",
      "Epoch 11\n"
     ]
    },
    {
     "name": "stderr",
     "output_type": "stream",
     "text": [
      "100%|██████████| 40/40 [00:04<00:00,  8.35it/s]\n"
     ]
    },
    {
     "name": "stdout",
     "output_type": "stream",
     "text": [
      "Train Loss: 0.5231 | Val Loss: 0.6050 | Val Accuracy: 0.6926\n",
      "\n",
      "Epoch 12\n"
     ]
    },
    {
     "name": "stderr",
     "output_type": "stream",
     "text": [
      "100%|██████████| 40/40 [00:04<00:00,  9.54it/s]\n"
     ]
    },
    {
     "name": "stdout",
     "output_type": "stream",
     "text": [
      "Train Loss: 0.5145 | Val Loss: 0.6044 | Val Accuracy: 0.6932\n",
      "\n",
      "Epoch 13\n"
     ]
    },
    {
     "name": "stderr",
     "output_type": "stream",
     "text": [
      "100%|██████████| 40/40 [00:04<00:00,  9.51it/s]\n"
     ]
    },
    {
     "name": "stdout",
     "output_type": "stream",
     "text": [
      "Train Loss: 0.5071 | Val Loss: 0.6030 | Val Accuracy: 0.6946\n",
      "\n",
      "Epoch 14\n"
     ]
    },
    {
     "name": "stderr",
     "output_type": "stream",
     "text": [
      "100%|██████████| 40/40 [00:04<00:00,  9.72it/s]\n"
     ]
    },
    {
     "name": "stdout",
     "output_type": "stream",
     "text": [
      "Train Loss: 0.4948 | Val Loss: 0.6051 | Val Accuracy: 0.6920\n",
      "\n",
      "Epoch 15\n"
     ]
    },
    {
     "name": "stderr",
     "output_type": "stream",
     "text": [
      "100%|██████████| 40/40 [00:04<00:00,  9.69it/s]\n"
     ]
    },
    {
     "name": "stdout",
     "output_type": "stream",
     "text": [
      "Train Loss: 0.4884 | Val Loss: 0.6028 | Val Accuracy: 0.6988\n",
      "\n",
      "\n",
      "🔄 Training: 1LSTM\n",
      "Epoch 1\n"
     ]
    },
    {
     "name": "stderr",
     "output_type": "stream",
     "text": [
      "100%|██████████| 40/40 [00:03<00:00, 11.82it/s]\n"
     ]
    },
    {
     "name": "stdout",
     "output_type": "stream",
     "text": [
      "Train Loss: 0.6922 | Val Loss: 0.6901 | Val Accuracy: 0.5354\n",
      "\n",
      "Epoch 2\n"
     ]
    },
    {
     "name": "stderr",
     "output_type": "stream",
     "text": [
      "100%|██████████| 40/40 [00:03<00:00, 12.43it/s]\n"
     ]
    },
    {
     "name": "stdout",
     "output_type": "stream",
     "text": [
      "Train Loss: 0.6790 | Val Loss: 0.6631 | Val Accuracy: 0.6021\n",
      "\n",
      "Epoch 3\n"
     ]
    },
    {
     "name": "stderr",
     "output_type": "stream",
     "text": [
      "100%|██████████| 40/40 [00:03<00:00, 12.28it/s]\n"
     ]
    },
    {
     "name": "stdout",
     "output_type": "stream",
     "text": [
      "Train Loss: 0.6351 | Val Loss: 0.6287 | Val Accuracy: 0.6521\n",
      "\n",
      "Epoch 4\n"
     ]
    },
    {
     "name": "stderr",
     "output_type": "stream",
     "text": [
      "100%|██████████| 40/40 [00:03<00:00, 11.38it/s]\n"
     ]
    },
    {
     "name": "stdout",
     "output_type": "stream",
     "text": [
      "Train Loss: 0.5966 | Val Loss: 0.6061 | Val Accuracy: 0.6781\n",
      "\n",
      "Epoch 5\n"
     ]
    },
    {
     "name": "stderr",
     "output_type": "stream",
     "text": [
      "100%|██████████| 40/40 [00:03<00:00, 12.00it/s]\n"
     ]
    },
    {
     "name": "stdout",
     "output_type": "stream",
     "text": [
      "Train Loss: 0.5716 | Val Loss: 0.6008 | Val Accuracy: 0.6823\n",
      "\n",
      "Epoch 6\n"
     ]
    },
    {
     "name": "stderr",
     "output_type": "stream",
     "text": [
      "100%|██████████| 40/40 [00:03<00:00, 12.64it/s]\n"
     ]
    },
    {
     "name": "stdout",
     "output_type": "stream",
     "text": [
      "Train Loss: 0.5561 | Val Loss: 0.5940 | Val Accuracy: 0.6940\n",
      "\n",
      "Epoch 7\n"
     ]
    },
    {
     "name": "stderr",
     "output_type": "stream",
     "text": [
      "100%|██████████| 40/40 [00:03<00:00, 12.41it/s]\n"
     ]
    },
    {
     "name": "stdout",
     "output_type": "stream",
     "text": [
      "Train Loss: 0.5406 | Val Loss: 0.5900 | Val Accuracy: 0.6980\n",
      "\n",
      "Epoch 8\n"
     ]
    },
    {
     "name": "stderr",
     "output_type": "stream",
     "text": [
      "100%|██████████| 40/40 [00:03<00:00, 12.38it/s]\n"
     ]
    },
    {
     "name": "stdout",
     "output_type": "stream",
     "text": [
      "Train Loss: 0.5253 | Val Loss: 0.5900 | Val Accuracy: 0.7009\n",
      "\n",
      "Epoch 9\n"
     ]
    },
    {
     "name": "stderr",
     "output_type": "stream",
     "text": [
      "100%|██████████| 40/40 [00:03<00:00, 12.18it/s]\n"
     ]
    },
    {
     "name": "stdout",
     "output_type": "stream",
     "text": [
      "Train Loss: 0.5128 | Val Loss: 0.5884 | Val Accuracy: 0.7034\n",
      "\n",
      "Epoch 10\n"
     ]
    },
    {
     "name": "stderr",
     "output_type": "stream",
     "text": [
      "100%|██████████| 40/40 [00:03<00:00, 12.35it/s]\n"
     ]
    },
    {
     "name": "stdout",
     "output_type": "stream",
     "text": [
      "Train Loss: 0.5011 | Val Loss: 0.5891 | Val Accuracy: 0.7019\n",
      "\n",
      "Epoch 11\n"
     ]
    },
    {
     "name": "stderr",
     "output_type": "stream",
     "text": [
      "100%|██████████| 40/40 [00:03<00:00, 12.42it/s]\n"
     ]
    },
    {
     "name": "stdout",
     "output_type": "stream",
     "text": [
      "Train Loss: 0.4901 | Val Loss: 0.5889 | Val Accuracy: 0.7068\n",
      "\n",
      "Epoch 12\n"
     ]
    },
    {
     "name": "stderr",
     "output_type": "stream",
     "text": [
      "100%|██████████| 40/40 [00:03<00:00, 12.91it/s]\n"
     ]
    },
    {
     "name": "stdout",
     "output_type": "stream",
     "text": [
      "Train Loss: 0.4850 | Val Loss: 0.5988 | Val Accuracy: 0.6953\n",
      "\n",
      "Epoch 13\n"
     ]
    },
    {
     "name": "stderr",
     "output_type": "stream",
     "text": [
      "100%|██████████| 40/40 [00:03<00:00, 12.59it/s]\n"
     ]
    },
    {
     "name": "stdout",
     "output_type": "stream",
     "text": [
      "Train Loss: 0.4720 | Val Loss: 0.5981 | Val Accuracy: 0.6968\n",
      "\n",
      "Epoch 14\n"
     ]
    },
    {
     "name": "stderr",
     "output_type": "stream",
     "text": [
      "100%|██████████| 40/40 [00:03<00:00, 12.38it/s]\n"
     ]
    },
    {
     "name": "stdout",
     "output_type": "stream",
     "text": [
      "Train Loss: 0.4670 | Val Loss: 0.5952 | Val Accuracy: 0.7026\n",
      "\n",
      "Epoch 15\n"
     ]
    },
    {
     "name": "stderr",
     "output_type": "stream",
     "text": [
      "100%|██████████| 40/40 [00:03<00:00, 12.86it/s]\n"
     ]
    },
    {
     "name": "stdout",
     "output_type": "stream",
     "text": [
      "Train Loss: 0.4567 | Val Loss: 0.5995 | Val Accuracy: 0.6990\n",
      "\n",
      "\n",
      "🔄 Training: 1Bi-LSTM\n",
      "Epoch 1\n"
     ]
    },
    {
     "name": "stderr",
     "output_type": "stream",
     "text": [
      "100%|██████████| 40/40 [00:03<00:00, 11.62it/s]\n"
     ]
    },
    {
     "name": "stdout",
     "output_type": "stream",
     "text": [
      "Train Loss: 0.6919 | Val Loss: 0.6900 | Val Accuracy: 0.5335\n",
      "\n",
      "Epoch 2\n"
     ]
    },
    {
     "name": "stderr",
     "output_type": "stream",
     "text": [
      "100%|██████████| 40/40 [00:03<00:00, 11.96it/s]\n"
     ]
    },
    {
     "name": "stdout",
     "output_type": "stream",
     "text": [
      "Train Loss: 0.6768 | Val Loss: 0.6615 | Val Accuracy: 0.6074\n",
      "\n",
      "Epoch 3\n"
     ]
    },
    {
     "name": "stderr",
     "output_type": "stream",
     "text": [
      "100%|██████████| 40/40 [00:03<00:00, 10.99it/s]\n"
     ]
    },
    {
     "name": "stdout",
     "output_type": "stream",
     "text": [
      "Train Loss: 0.6365 | Val Loss: 0.6278 | Val Accuracy: 0.6535\n",
      "\n",
      "Epoch 4\n"
     ]
    },
    {
     "name": "stderr",
     "output_type": "stream",
     "text": [
      "100%|██████████| 40/40 [00:03<00:00, 11.58it/s]\n"
     ]
    },
    {
     "name": "stdout",
     "output_type": "stream",
     "text": [
      "Train Loss: 0.6007 | Val Loss: 0.6061 | Val Accuracy: 0.6791\n",
      "\n",
      "Epoch 5\n"
     ]
    },
    {
     "name": "stderr",
     "output_type": "stream",
     "text": [
      "100%|██████████| 40/40 [00:03<00:00, 11.80it/s]\n"
     ]
    },
    {
     "name": "stdout",
     "output_type": "stream",
     "text": [
      "Train Loss: 0.5807 | Val Loss: 0.5985 | Val Accuracy: 0.6888\n",
      "\n",
      "Epoch 6\n"
     ]
    },
    {
     "name": "stderr",
     "output_type": "stream",
     "text": [
      "100%|██████████| 40/40 [00:03<00:00, 11.90it/s]\n"
     ]
    },
    {
     "name": "stdout",
     "output_type": "stream",
     "text": [
      "Train Loss: 0.5604 | Val Loss: 0.5969 | Val Accuracy: 0.6892\n",
      "\n",
      "Epoch 7\n"
     ]
    },
    {
     "name": "stderr",
     "output_type": "stream",
     "text": [
      "100%|██████████| 40/40 [00:03<00:00, 10.50it/s]\n"
     ]
    },
    {
     "name": "stdout",
     "output_type": "stream",
     "text": [
      "Train Loss: 0.5449 | Val Loss: 0.5871 | Val Accuracy: 0.7029\n",
      "\n",
      "Epoch 8\n"
     ]
    },
    {
     "name": "stderr",
     "output_type": "stream",
     "text": [
      "100%|██████████| 40/40 [00:03<00:00, 10.67it/s]\n"
     ]
    },
    {
     "name": "stdout",
     "output_type": "stream",
     "text": [
      "Train Loss: 0.5307 | Val Loss: 0.5874 | Val Accuracy: 0.7049\n",
      "\n",
      "Epoch 9\n"
     ]
    },
    {
     "name": "stderr",
     "output_type": "stream",
     "text": [
      "100%|██████████| 40/40 [00:03<00:00, 11.04it/s]\n"
     ]
    },
    {
     "name": "stdout",
     "output_type": "stream",
     "text": [
      "Train Loss: 0.5179 | Val Loss: 0.5884 | Val Accuracy: 0.7027\n",
      "\n",
      "Epoch 10\n"
     ]
    },
    {
     "name": "stderr",
     "output_type": "stream",
     "text": [
      "100%|██████████| 40/40 [00:03<00:00, 11.63it/s]\n"
     ]
    },
    {
     "name": "stdout",
     "output_type": "stream",
     "text": [
      "Train Loss: 0.5081 | Val Loss: 0.5862 | Val Accuracy: 0.7048\n",
      "\n",
      "Epoch 11\n"
     ]
    },
    {
     "name": "stderr",
     "output_type": "stream",
     "text": [
      "100%|██████████| 40/40 [00:03<00:00, 11.62it/s]\n"
     ]
    },
    {
     "name": "stdout",
     "output_type": "stream",
     "text": [
      "Train Loss: 0.4994 | Val Loss: 0.5897 | Val Accuracy: 0.7004\n",
      "\n",
      "Epoch 12\n"
     ]
    },
    {
     "name": "stderr",
     "output_type": "stream",
     "text": [
      "100%|██████████| 40/40 [00:03<00:00, 11.63it/s]\n"
     ]
    },
    {
     "name": "stdout",
     "output_type": "stream",
     "text": [
      "Train Loss: 0.4887 | Val Loss: 0.5944 | Val Accuracy: 0.6973\n",
      "\n",
      "Epoch 13\n"
     ]
    },
    {
     "name": "stderr",
     "output_type": "stream",
     "text": [
      "100%|██████████| 40/40 [00:03<00:00, 10.15it/s]\n"
     ]
    },
    {
     "name": "stdout",
     "output_type": "stream",
     "text": [
      "Train Loss: 0.4780 | Val Loss: 0.5897 | Val Accuracy: 0.7045\n",
      "\n",
      "Epoch 14\n"
     ]
    },
    {
     "name": "stderr",
     "output_type": "stream",
     "text": [
      "100%|██████████| 40/40 [00:03<00:00, 11.29it/s]\n"
     ]
    },
    {
     "name": "stdout",
     "output_type": "stream",
     "text": [
      "Train Loss: 0.4708 | Val Loss: 0.5880 | Val Accuracy: 0.7074\n",
      "\n",
      "Epoch 15\n"
     ]
    },
    {
     "name": "stderr",
     "output_type": "stream",
     "text": [
      "100%|██████████| 40/40 [00:03<00:00, 10.94it/s]\n"
     ]
    },
    {
     "name": "stdout",
     "output_type": "stream",
     "text": [
      "Train Loss: 0.4586 | Val Loss: 0.5935 | Val Accuracy: 0.7046\n",
      "\n",
      "\n",
      "🔄 Training: 2Bi-LSTM\n",
      "Epoch 1\n"
     ]
    },
    {
     "name": "stderr",
     "output_type": "stream",
     "text": [
      "100%|██████████| 40/40 [00:04<00:00,  9.99it/s]\n"
     ]
    },
    {
     "name": "stdout",
     "output_type": "stream",
     "text": [
      "Train Loss: 0.6864 | Val Loss: 0.6753 | Val Accuracy: 0.5768\n",
      "\n",
      "Epoch 2\n"
     ]
    },
    {
     "name": "stderr",
     "output_type": "stream",
     "text": [
      "100%|██████████| 40/40 [00:04<00:00,  8.58it/s]\n"
     ]
    },
    {
     "name": "stdout",
     "output_type": "stream",
     "text": [
      "Train Loss: 0.6488 | Val Loss: 0.6379 | Val Accuracy: 0.6343\n",
      "\n",
      "Epoch 3\n"
     ]
    },
    {
     "name": "stderr",
     "output_type": "stream",
     "text": [
      "100%|██████████| 40/40 [00:03<00:00, 10.00it/s]\n"
     ]
    },
    {
     "name": "stdout",
     "output_type": "stream",
     "text": [
      "Train Loss: 0.6090 | Val Loss: 0.6099 | Val Accuracy: 0.6759\n",
      "\n",
      "Epoch 4\n"
     ]
    },
    {
     "name": "stderr",
     "output_type": "stream",
     "text": [
      "100%|██████████| 40/40 [00:04<00:00,  9.99it/s]\n"
     ]
    },
    {
     "name": "stdout",
     "output_type": "stream",
     "text": [
      "Train Loss: 0.5815 | Val Loss: 0.5999 | Val Accuracy: 0.6826\n",
      "\n",
      "Epoch 5\n"
     ]
    },
    {
     "name": "stderr",
     "output_type": "stream",
     "text": [
      "100%|██████████| 40/40 [00:04<00:00,  9.98it/s]\n"
     ]
    },
    {
     "name": "stdout",
     "output_type": "stream",
     "text": [
      "Train Loss: 0.5575 | Val Loss: 0.5942 | Val Accuracy: 0.6944\n",
      "\n",
      "Epoch 6\n"
     ]
    },
    {
     "name": "stderr",
     "output_type": "stream",
     "text": [
      "100%|██████████| 40/40 [00:04<00:00,  9.91it/s]\n"
     ]
    },
    {
     "name": "stdout",
     "output_type": "stream",
     "text": [
      "Train Loss: 0.5402 | Val Loss: 0.5970 | Val Accuracy: 0.6954\n",
      "\n",
      "Epoch 7\n"
     ]
    },
    {
     "name": "stderr",
     "output_type": "stream",
     "text": [
      "100%|██████████| 40/40 [00:03<00:00, 10.08it/s]\n"
     ]
    },
    {
     "name": "stdout",
     "output_type": "stream",
     "text": [
      "Train Loss: 0.5237 | Val Loss: 0.5968 | Val Accuracy: 0.6939\n",
      "\n",
      "Epoch 8\n"
     ]
    },
    {
     "name": "stderr",
     "output_type": "stream",
     "text": [
      "100%|██████████| 40/40 [00:03<00:00, 10.05it/s]\n"
     ]
    },
    {
     "name": "stdout",
     "output_type": "stream",
     "text": [
      "Train Loss: 0.5120 | Val Loss: 0.5969 | Val Accuracy: 0.6912\n",
      "\n",
      "Epoch 9\n"
     ]
    },
    {
     "name": "stderr",
     "output_type": "stream",
     "text": [
      "100%|██████████| 40/40 [00:03<00:00, 10.16it/s]\n"
     ]
    },
    {
     "name": "stdout",
     "output_type": "stream",
     "text": [
      "Train Loss: 0.4993 | Val Loss: 0.5945 | Val Accuracy: 0.7022\n",
      "\n",
      "Epoch 10\n"
     ]
    },
    {
     "name": "stderr",
     "output_type": "stream",
     "text": [
      "100%|██████████| 40/40 [00:04<00:00,  8.21it/s]\n"
     ]
    },
    {
     "name": "stdout",
     "output_type": "stream",
     "text": [
      "Train Loss: 0.4878 | Val Loss: 0.5910 | Val Accuracy: 0.7071\n",
      "\n",
      "Epoch 11\n"
     ]
    },
    {
     "name": "stderr",
     "output_type": "stream",
     "text": [
      "100%|██████████| 40/40 [00:04<00:00,  9.87it/s]\n"
     ]
    },
    {
     "name": "stdout",
     "output_type": "stream",
     "text": [
      "Train Loss: 0.4751 | Val Loss: 0.5944 | Val Accuracy: 0.7067\n",
      "\n",
      "Epoch 12\n"
     ]
    },
    {
     "name": "stderr",
     "output_type": "stream",
     "text": [
      "100%|██████████| 40/40 [00:03<00:00, 10.11it/s]\n"
     ]
    },
    {
     "name": "stdout",
     "output_type": "stream",
     "text": [
      "Train Loss: 0.4672 | Val Loss: 0.6014 | Val Accuracy: 0.6997\n",
      "\n",
      "Epoch 13\n"
     ]
    },
    {
     "name": "stderr",
     "output_type": "stream",
     "text": [
      "100%|██████████| 40/40 [00:04<00:00,  9.80it/s]\n"
     ]
    },
    {
     "name": "stdout",
     "output_type": "stream",
     "text": [
      "Train Loss: 0.4565 | Val Loss: 0.5989 | Val Accuracy: 0.7028\n",
      "\n",
      "Epoch 14\n"
     ]
    },
    {
     "name": "stderr",
     "output_type": "stream",
     "text": [
      "100%|██████████| 40/40 [00:04<00:00,  9.02it/s]\n"
     ]
    },
    {
     "name": "stdout",
     "output_type": "stream",
     "text": [
      "Train Loss: 0.4536 | Val Loss: 0.6015 | Val Accuracy: 0.7013\n",
      "\n",
      "Epoch 15\n"
     ]
    },
    {
     "name": "stderr",
     "output_type": "stream",
     "text": [
      "100%|██████████| 40/40 [00:05<00:00,  7.28it/s]\n"
     ]
    },
    {
     "name": "stdout",
     "output_type": "stream",
     "text": [
      "Train Loss: 0.4497 | Val Loss: 0.6036 | Val Accuracy: 0.7004\n",
      "\n"
     ]
    }
   ],
   "source": [
    "df_imdb_results, preds_imdb = run_experiments(\n",
    "    configs=model_configs,\n",
    "    pretrained_embeddings=None,\n",
    "    freeze_embeddings=False,\n",
    "    vocab_to_use=vocab_imdb,\n",
    "    output_dim=2,\n",
    "    train_loader=train_loader_imdb,\n",
    "    test_loader=test_loader_imdb\n",
    ")\n"
   ]
  },
  {
   "cell_type": "code",
   "execution_count": 206,
   "id": "a6d0574a",
   "metadata": {},
   "outputs": [
    {
     "data": {
      "text/html": [
       "<div>\n",
       "<style scoped>\n",
       "    .dataframe tbody tr th:only-of-type {\n",
       "        vertical-align: middle;\n",
       "    }\n",
       "\n",
       "    .dataframe tbody tr th {\n",
       "        vertical-align: top;\n",
       "    }\n",
       "\n",
       "    .dataframe thead th {\n",
       "        text-align: right;\n",
       "    }\n",
       "</style>\n",
       "<table border=\"1\" class=\"dataframe\">\n",
       "  <thead>\n",
       "    <tr style=\"text-align: right;\">\n",
       "      <th></th>\n",
       "      <th>1RNN</th>\n",
       "      <th>1Bi-RNN</th>\n",
       "      <th>2Bi-RNN</th>\n",
       "      <th>1LSTM</th>\n",
       "      <th>1Bi-LSTM</th>\n",
       "      <th>2Bi-LSTM</th>\n",
       "    </tr>\n",
       "  </thead>\n",
       "  <tbody>\n",
       "    <tr>\n",
       "      <th>Accuracy</th>\n",
       "      <td>69.49</td>\n",
       "      <td>69.72</td>\n",
       "      <td>69.88</td>\n",
       "      <td>69.90</td>\n",
       "      <td>70.46</td>\n",
       "      <td>70.04</td>\n",
       "    </tr>\n",
       "    <tr>\n",
       "      <th>Parameters</th>\n",
       "      <td>2,917,254</td>\n",
       "      <td>2,928,006</td>\n",
       "      <td>2,952,838</td>\n",
       "      <td>2,949,126</td>\n",
       "      <td>2,991,750</td>\n",
       "      <td>3,091,078</td>\n",
       "    </tr>\n",
       "    <tr>\n",
       "      <th>Time cost</th>\n",
       "      <td>3.76</td>\n",
       "      <td>4.18</td>\n",
       "      <td>4.92</td>\n",
       "      <td>3.98</td>\n",
       "      <td>4.29</td>\n",
       "      <td>5.06</td>\n",
       "    </tr>\n",
       "  </tbody>\n",
       "</table>\n",
       "</div>"
      ],
      "text/plain": [
       "                 1RNN    1Bi-RNN    2Bi-RNN      1LSTM   1Bi-LSTM   2Bi-LSTM\n",
       "Accuracy        69.49      69.72      69.88      69.90      70.46      70.04\n",
       "Parameters  2,917,254  2,928,006  2,952,838  2,949,126  2,991,750  3,091,078\n",
       "Time cost        3.76       4.18       4.92       3.98       4.29       5.06"
      ]
     },
     "execution_count": 206,
     "metadata": {},
     "output_type": "execute_result"
    }
   ],
   "source": [
    "# Transpose results to match the table format in the assignment\n",
    "df_transposed_imdb = df_imdb_results.set_index(\"Model\").T\n",
    "\n",
    "# Round accuracy to 2 decimals, format numbers\n",
    "df_display_imdb = pd.DataFrame({\n",
    "    col: [\n",
    "        f\"{df_transposed_imdb.loc['Accuracy', col]:.2f}\",\n",
    "        f\"{int(df_transposed_imdb.loc['Parameters', col]):,}\",\n",
    "        f\"{df_transposed_imdb.loc['Time (sec)', col]:.2f}\"\n",
    "    ]\n",
    "    for col in df_transposed_imdb.columns\n",
    "}, index=[\"Accuracy\", \"Parameters\", \"Time cost\"])\n",
    "\n",
    "df_display_imdb"
   ]
  },
  {
   "cell_type": "markdown",
   "id": "bc695eaa",
   "metadata": {},
   "source": [
    "### Ερώτημα Γ.56 – Συμπεράσματα\n",
    "\n",
    "- Όλες οι προσεγγίσεις εμφάνισαν **παρόμοια ακρίβεια**, με ελαφρώς καλύτερες επιδόσεις τα **Bi-Directional μοντέλα**.\n",
    "- Τα **LSTM** είχαν ελαφρώς καλύτερα αποτελέσματα από τα αντίστοιχα **RNN**, όπως ήταν αναμενόμενο λόγω της πιο εξελιγμένης αρχιτεκτονικής τους.\n",
    "- Οι **χρόνοι εκπαίδευσης** αυξάνονται αισθητά με την πολυπλοκότητα του μοντέλου (ιδιαίτερα στο `2Bi-LSTM`).\n",
    "- Αν και τα πιο σύνθετα μοντέλα προσφέρουν μικρή αύξηση στην ακρίβεια, **το απλό `1RNN`** φαίνεται να προσφέρει **καλή ισορροπία** μεταξύ:\n",
    "  - Απόδοσης\n",
    "  - Χρόνου εκπαίδευσης\n",
    "  - Αριθμού παραμέτρων\n",
    "\n",
    "📌 Συμπερασματικά, **το `1RNN` είναι πιθανώς η βέλτιστη επιλογή στην παρούσα φάση** όταν προτεραιότητα είναι η ταχύτητα και η απλότητα, χωρίς μεγάλη θυσία στην ακρίβεια.\n"
   ]
  }
 ],
 "metadata": {
  "kernelspec": {
   "display_name": "Python 3",
   "language": "python",
   "name": "python3"
  },
  "language_info": {
   "codemirror_mode": {
    "name": "ipython",
    "version": 3
   },
   "file_extension": ".py",
   "mimetype": "text/x-python",
   "name": "python",
   "nbconvert_exporter": "python",
   "pygments_lexer": "ipython3",
   "version": "3.11.11"
  }
 },
 "nbformat": 4,
 "nbformat_minor": 5
}
